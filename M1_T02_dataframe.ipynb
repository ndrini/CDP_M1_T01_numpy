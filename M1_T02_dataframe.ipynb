{
 "cells": [
  {
   "cell_type": "code",
   "execution_count": 2,
   "id": "systematic-theory",
   "metadata": {},
   "outputs": [],
   "source": [
    "import numpy as np\n",
    "import pandas as pd\n",
    "import os\n",
    "import datetime"
   ]
  },
  {
   "cell_type": "code",
   "execution_count": 2,
   "id": "7d43fc61",
   "metadata": {},
   "outputs": [],
   "source": [
    "import pandas as pd\n",
    "import os\n",
    "import kaggle"
   ]
  },
  {
   "cell_type": "markdown",
   "id": "e994254e",
   "metadata": {},
   "source": [
    "# M1 T02: Data exploration and structure - Dataframes with Pandas\n",
    "Description\n",
    "\n",
    "Familiarize yourself with data exploration techniques using the data structure, Dataframe with the Pandas library.\n",
    "Level 1"
   ]
  },
  {
   "cell_type": "markdown",
   "id": "26060ad9",
   "metadata": {},
   "source": [
    "\n",
    "\n",
    "# - Exercises 1\n",
    "\n",
    "Download the Airlines Delay: Airline on-time statistics and delay causes data set and upload it to a Dataframe pandas. Explore the data it contains, and keep only the columns you consider relevant.\n"
   ]
  },
  {
   "cell_type": "code",
   "execution_count": 26,
   "id": "ranging-event",
   "metadata": {},
   "outputs": [
    {
     "name": "stdout",
     "output_type": "stream",
     "text": [
      "         Year  Month  DayofMonth  DepTime  CRSDepTime UniqueCarrier  AirTime  \\\n",
      "0        2008      1           3   2003.0        1955            WN    116.0   \n",
      "1        2008      1           3    754.0         735            WN    113.0   \n",
      "2        2008      1           3    628.0         620            WN     76.0   \n",
      "3        2008      1           3   1829.0        1755            WN     77.0   \n",
      "4        2008      1           3   1940.0        1915            WN     87.0   \n",
      "...       ...    ...         ...      ...         ...           ...      ...   \n",
      "1936753  2008     12          13   1250.0        1220            DL    120.0   \n",
      "1936754  2008     12          13    657.0         600            DL     78.0   \n",
      "1936755  2008     12          13   1007.0         847            DL    122.0   \n",
      "1936756  2008     12          13   1251.0        1240            DL     89.0   \n",
      "1936757  2008     12          13   1110.0        1103            DL    104.0   \n",
      "\n",
      "         ArrDelay  DepDelay  Distance  \n",
      "0           -14.0       8.0       810  \n",
      "1             2.0      19.0       810  \n",
      "2            14.0       8.0       515  \n",
      "3            34.0      34.0       515  \n",
      "4            11.0      25.0       688  \n",
      "...           ...       ...       ...  \n",
      "1936753      25.0      30.0       906  \n",
      "1936754      75.0      57.0       481  \n",
      "1936755      99.0      80.0       689  \n",
      "1936756       9.0      11.0       533  \n",
      "1936757      -5.0       7.0       874  \n",
      "\n",
      "[1936758 rows x 10 columns]\n"
     ]
    }
   ],
   "source": [
    "# Exercises 1\n",
    "# Download the Airlines Delay: Airline on-time statistics and delay causes data set and upload it to a Dataframe pandas. Explore the data it contains, and keep only the columns you consider relevant.\n",
    "df = pd.read_csv(\n",
    "    # os.path.realpath('.') + \"/archive/DelayedFlights_simple.csv\",\n",
    "    os.path.realpath('.') + \"/archive/DelayedFlights.csv\",\n",
    "    usecols = ['UniqueCarrier', 'Year', 'Month', 'DayofMonth', 'Distance', 'AirTime', 'DepTime', 'CRSDepTime', 'ArrDelay', 'DepDelay'])\n",
    "print(df)"
   ]
  },
  {
   "cell_type": "code",
   "execution_count": 3,
   "id": "05a757a1",
   "metadata": {},
   "outputs": [
    {
     "name": "stdout",
     "output_type": "stream",
     "text": [
      "Downloading airlinedelaycauses.zip to /home/an/workspace/CDP_M1_T01_numpy/kaggle-airline-df/input\n",
      "100%|██████████████████████████████████████| 66.6M/66.6M [00:17<00:00, 4.85MB/s]\n",
      "100%|██████████████████████████████████████| 66.6M/66.6M [00:17<00:00, 3.95MB/s]\n",
      "Archive:  airlinedelaycauses.zip\n",
      "  inflating: DelayedFlights.csv      \n",
      "  inflating: st99_d00.dbf            \n",
      "  inflating: st99_d00.shp            \n",
      "  inflating: st99_d00.shx            \n"
     ]
    }
   ],
   "source": [
    "# Prepare directories\n",
    "root = os.getcwd()\n",
    "\n",
    "# Change working directory\n",
    "new_wd = \"kaggle-airline-df\"\n",
    "wd_dir = os.path.join(root,new_wd)\n",
    "if not os.path.isdir(wd_dir):\n",
    "    os.mkdir(wd_dir)\n",
    "\n",
    "os.chdir(wd_dir)\n",
    "\n",
    "# Dataset location\n",
    "dataset_dir = os.path.join(wd_dir,\"input\")\n",
    "if not os.path.isdir(dataset_dir):\n",
    "    os.mkdir(dataset_dir)\n",
    "\n",
    "os.chdir(dataset_dir)\n",
    "\n",
    "# Download the dataset using Kaggle's API\n",
    "!kaggle datasets download giovamata/airlinedelaycauses\n",
    "!unzip airlinedelaycauses.zip\n",
    "!rm airlinedelaycauses.zip\n",
    "os.chdir(wd_dir)"
   ]
  },
  {
   "cell_type": "code",
   "execution_count": 4,
   "id": "27151e1a",
   "metadata": {},
   "outputs": [
    {
     "name": "stdout",
     "output_type": "stream",
     "text": [
      "['Unnamed: 0', 'Year', 'Month', 'DayofMonth', 'DayOfWeek', 'DepTime', 'CRSDepTime', 'ArrTime', 'CRSArrTime', 'UniqueCarrier', 'FlightNum', 'TailNum', 'ActualElapsedTime', 'CRSElapsedTime', 'AirTime', 'ArrDelay', 'DepDelay', 'Origin', 'Dest', 'Distance', 'TaxiIn', 'TaxiOut', 'Cancelled', 'CancellationCode', 'Diverted', 'CarrierDelay', 'WeatherDelay', 'NASDelay', 'SecurityDelay', 'LateAircraftDelay']\n"
     ]
    }
   ],
   "source": [
    "# As this is a dataset centered around flight delays, the main purpose is to analyze the timings related to routes, companies, airports, etc.\n",
    "# By reading the column names, there are some that will not be of interest, which will be removed\n",
    "\n",
    "# Load only the column names from the CSV file\n",
    "file_name = \"input/DelayedFlights.csv\"\n",
    "col_names = pd.read_csv(file_name, nrows=1).columns.tolist()\n",
    "print(col_names)\n"
   ]
  },
  {
   "cell_type": "markdown",
   "id": "37aa632a",
   "metadata": {},
   "source": [
    "## field explanation\n",
    "\n",
    "- YEAR: Year in which each of the study samples was collected. In this case, all the samples coincide in the year 2008, however, for studies of greater magnitude and greater temporal amplitude, it is necessary to limit the temporal variable of the data.\n",
    "\n",
    "- MONTH: Month in which each of the study samples were collected. This parameter varies on a scale from 1 to 12, with 1 being the month of January and 12 being the month of December. As in the previous case, all the samples coincide in the month of January, however, for studies of greater magnitude and greater temporal amplitude, it is necessary to limit the temporal variable of the data.\n",
    "\n",
    "- DAY_OF_MONTH: Day of the month on which each study sample was collected. This parameter varies on a scale from 1 to 31, coinciding with the numbering of the monthly day of the data.\n",
    "\n",
    "- DAY_OF_WEEK: Day of the week on which each study sample was collected. This parameter varies on a scale from 1 to 7, with 1 being the number equivalent to Monday and 7 being the equivalent to Sunday. Both this data and the previous one may be necessary to estimate which day of the week (eg the beginning of the weekend) or which day of the month (eg the beginning of the month) it is estimated that there may be more congestion and hence more flight delays.\n",
    "\n",
    "- DEP_TIME: Departure time. Flight departure time in real local time (LMT) expressed as a set of four digits, the first two being the hour and the last two being the minutes. Time computed at the moment in which the aircraft leaves the door or gate. Essential data to calculate and forecast collapses based on the time of day, peak hours and work peaks.\n",
    "\n",
    "- CRS_DEP_TIME: Computerized Reservations Systems (CRS) departure time. Time that each airline has computed as departure time. It can be defined as the departure time that the company estimates at which each flight will depart. Very useful data to check the difference between the actual departure time and the time estimated by the company. Indicator of the \"on-time performance\" of each airline.\n",
    "\n",
    "- ARR_TIME: Arrival time. Arrival time of the flight in real local time (LMT) expressed as a set of four digits, the first two being the hour and the last two being the minutes. Time computed at the moment the aircraft's nosewheel hits the Tarmac. Essential data to calculate and forecast collapses based on the time of day, peak hours and work peaks.\n",
    "\n",
    "- CRS_ARR_TIME: Computerized Reservations Systems (CRS) arrival time. Time that each airline has computed as arrival time. It can be defined as the departure time that the company estimates at which each flight will arrive. Very useful data to check the difference between the real time of arrival and the time estimated by the company. Indicator of the \"on-time performance\" of each airline.\n",
    "\n",
    "- UNIQUE_CARRIER: Name in initials of the airline from which the data sample is collected. Necessary data to associate each delay with each airline and be able to estimate and predict which companies produce more delays. Character string.\n",
    "\n",
    "- FL_NUM: FlightNumber. Flight number of each sample.\n",
    "\n",
    "- TAIL_NUM: TailNumber. Set of numbers and letters that make up the registration record of each aircraft, located in the tail of the plane. This number is unique for each aircraft and its format depends on the country of registration (eg in the case of the USA it is made up of the letter November plus a set of digits). It can be found both in the front and rear of the plane and under the planes.\n",
    "\n",
    "- ACTUAL_ELAPSED_TIME: Actual flight time, from origin departure to destination arrival, expressed in minutes as a set of integers. Useful data for the estimation and identification of behaviors or delays en route.\n",
    "\n",
    "- CRS_ELAPSED_TIME: Computerized Reservations Systems (CRS) elapsed time. Time that each airline has computed in its system as flight time, from departure at origin to arrival at destination, expressed in minutes as a set of integers. Useful data for the estimation and identification of behaviors or delays en route and the difference with the real time of flight for the calculation of the on-time performance.\n",
    "\n",
    "- AIR_TIME: Real flight time in air, from departure at origin to arrival at destination, counted from when the plane leaves the runway until it comes into contact with it again, expressed in minutes as an integer. Useful data for the estimation and identification of behaviors or delays en route.\n",
    "\n",
    "- ARR_DELAY: Difference between the arrival time of CRS or estimated by the company and the actual arrival time at destination, expressed in minutes as an integer. Useful information to identify the source of a problem or delay.\n",
    "\n",
    "- DEP_DELAY: Difference between the departure time of CRS or estimated by the company and the actual departure time at origin, expressed in minutes as a number e"
   ]
  },
  {
   "cell_type": "markdown",
   "id": "orange-primary",
   "metadata": {},
   "source": [
    "### Exercises 2\n",
    "\n",
    "Make a complete report of the date set:\n",
    "  - Summarize the columns of interest statistically\n",
    "  - Find how many missing data are per column\n",
    "  - Create new columns (average flight speed, whether late or not ...)\n",
    "  - Table of airlines with the most accumulated arrears\n",
    "  - What are the longest flights? And the most backward?\n",
    "  - Etc.\n"
   ]
  },
  {
   "cell_type": "code",
   "execution_count": 32,
   "id": "focused-species",
   "metadata": {},
   "outputs": [
    {
     "name": "stdout",
     "output_type": "stream",
     "text": [
      "{'speed_min': 0.3548387096774194, 'speed_max': inf}\n",
      "{'speed_min': 0.3548387096774194, 'speed_max': inf}\n"
     ]
    },
    {
     "ename": "AssertionError",
     "evalue": "",
     "output_type": "error",
     "traceback": [
      "\u001b[0;31m---------------------------------------------------------------------------\u001b[0m",
      "\u001b[0;31mAssertionError\u001b[0m                            Traceback (most recent call last)",
      "\u001b[0;32m<ipython-input-32-75063b566e43>\u001b[0m in \u001b[0;36m<module>\u001b[0;34m\u001b[0m\n\u001b[1;32m     48\u001b[0m     \u001b[0;32massert\u001b[0m \u001b[0mget_report\u001b[0m\u001b[0;34m(\u001b[0m\u001b[0mdf\u001b[0m\u001b[0;34m)\u001b[0m\u001b[0;34m[\u001b[0m\u001b[0;34m'speed_max'\u001b[0m\u001b[0;34m]\u001b[0m \u001b[0;34m==\u001b[0m \u001b[0;34m'inf'\u001b[0m\u001b[0;34m\u001b[0m\u001b[0;34m\u001b[0m\u001b[0m\n\u001b[1;32m     49\u001b[0m     \u001b[0;32massert\u001b[0m \u001b[0mget_report\u001b[0m\u001b[0;34m(\u001b[0m\u001b[0mdf\u001b[0m\u001b[0;34m)\u001b[0m\u001b[0;34m[\u001b[0m\u001b[0;34m'stats'\u001b[0m\u001b[0;34m]\u001b[0m\u001b[0;34m[\u001b[0m\u001b[0;34m'missing_values'\u001b[0m\u001b[0;34m]\u001b[0m \u001b[0;34m==\u001b[0m \u001b[0;36m4\u001b[0m\u001b[0;34m\u001b[0m\u001b[0;34m\u001b[0m\u001b[0m\n\u001b[0;32m---> 50\u001b[0;31m \u001b[0mtest_get_report\u001b[0m\u001b[0;34m(\u001b[0m\u001b[0mdf\u001b[0m\u001b[0;34m)\u001b[0m\u001b[0;34m\u001b[0m\u001b[0;34m\u001b[0m\u001b[0m\n\u001b[0m\u001b[1;32m     51\u001b[0m \u001b[0;34m\u001b[0m\u001b[0m\n\u001b[1;32m     52\u001b[0m \u001b[0mprint\u001b[0m\u001b[0;34m(\u001b[0m\u001b[0mdf\u001b[0m\u001b[0;34m)\u001b[0m\u001b[0;34m\u001b[0m\u001b[0;34m\u001b[0m\u001b[0m\n",
      "\u001b[0;32m<ipython-input-32-75063b566e43>\u001b[0m in \u001b[0;36mtest_get_report\u001b[0;34m(df)\u001b[0m\n\u001b[1;32m     46\u001b[0m     \u001b[0;31m# assert get_report(df) == 123\u001b[0m\u001b[0;34m\u001b[0m\u001b[0;34m\u001b[0m\u001b[0;34m\u001b[0m\u001b[0m\n\u001b[1;32m     47\u001b[0m     \u001b[0;32massert\u001b[0m \u001b[0mget_report\u001b[0m\u001b[0;34m(\u001b[0m\u001b[0mdf\u001b[0m\u001b[0;34m)\u001b[0m\u001b[0;34m[\u001b[0m\u001b[0;34m'speed_min'\u001b[0m\u001b[0;34m]\u001b[0m \u001b[0;34m==\u001b[0m \u001b[0;36m0.3548387096774194\u001b[0m\u001b[0;34m\u001b[0m\u001b[0;34m\u001b[0m\u001b[0m\n\u001b[0;32m---> 48\u001b[0;31m     \u001b[0;32massert\u001b[0m \u001b[0mget_report\u001b[0m\u001b[0;34m(\u001b[0m\u001b[0mdf\u001b[0m\u001b[0;34m)\u001b[0m\u001b[0;34m[\u001b[0m\u001b[0;34m'speed_max'\u001b[0m\u001b[0;34m]\u001b[0m \u001b[0;34m==\u001b[0m \u001b[0;34m'inf'\u001b[0m\u001b[0;34m\u001b[0m\u001b[0;34m\u001b[0m\u001b[0m\n\u001b[0m\u001b[1;32m     49\u001b[0m     \u001b[0;32massert\u001b[0m \u001b[0mget_report\u001b[0m\u001b[0;34m(\u001b[0m\u001b[0mdf\u001b[0m\u001b[0;34m)\u001b[0m\u001b[0;34m[\u001b[0m\u001b[0;34m'stats'\u001b[0m\u001b[0;34m]\u001b[0m\u001b[0;34m[\u001b[0m\u001b[0;34m'missing_values'\u001b[0m\u001b[0;34m]\u001b[0m \u001b[0;34m==\u001b[0m \u001b[0;36m4\u001b[0m\u001b[0;34m\u001b[0m\u001b[0;34m\u001b[0m\u001b[0m\n\u001b[1;32m     50\u001b[0m \u001b[0mtest_get_report\u001b[0m\u001b[0;34m(\u001b[0m\u001b[0mdf\u001b[0m\u001b[0;34m)\u001b[0m\u001b[0;34m\u001b[0m\u001b[0;34m\u001b[0m\u001b[0m\n",
      "\u001b[0;31mAssertionError\u001b[0m: "
     ]
    }
   ],
   "source": [
    "def get_report(df: pd.DataFrame) -> dict:\n",
    "    ''' Find how many missing data are per column '''\n",
    "    results = {} \n",
    "    results['stats'] = calc_stats(df)  \n",
    "    speed = calc_speed(df)\n",
    "    results['speed_min'] = speed['speed_min']\n",
    "    results['speed_max'] = speed['speed_max']\n",
    "    results['faster'] = calc_faster_than_expected(df)\n",
    "    return results\n",
    "\n",
    "def calc_stats(df) -> dict:\n",
    "    ''' Summarize the columns of interest statistically'''\n",
    "    stats = {}\n",
    "    stats['total_rows'] = df.shape[0]\n",
    "    stats['missing_values'] = df.isnull().sum().sum()\n",
    "    # print(df.isnull().sum())\n",
    "    # print(stats['missing_values'])\n",
    "    return stats\n",
    "\n",
    "def calc_speed(df: pd.DataFrame) -> dict:\n",
    "    ''' Create new columns average flight speed'''\n",
    "    df['speed'] = df['Distance']/df['AirTime'] \n",
    "    # df.apply(lambda row: row['Distance']/row['AirTime']),\n",
    "    #                      axis = 1)\n",
    "    # print(df['speed'])\n",
    "    res = {\n",
    "        'speed_min': df['speed'].loc[df['speed'].idxmin()], \n",
    "        'speed_max': df['speed'].loc[df['speed'].idxmax()], \n",
    "        # 'speed_avg': df['speed'].loc[df['speed']. \n",
    "    }\n",
    "    # print(speed_min)\n",
    "    print(res)\n",
    "    return res\n",
    "    \n",
    "def calc_late_or_early(df: pd.DataFrame) -> pd.DataFrame:\n",
    "    ''' Create new columns whether late or early '''\n",
    "    pass\n",
    "\n",
    "def calc_faster_than_expected(df: pd.DataFrame) -> None:\n",
    "    ''' difference between 'ArrDelay', 'DepDelay'])'''''\n",
    "    df['faster'] = df['DepDelay'] - df['ArrDelay']\n",
    "    return None\n",
    "\n",
    "\n",
    "def test_get_report(df):\n",
    "    # assert get_report(df) == 123\n",
    "    assert get_report(df)['speed_min'] == 0.3548387096774194\n",
    "    # assert get_report(df)['speed_max'] == 'inf'\n",
    "    assert get_report(df)['stats']['missing_values'] == 4\n",
    "test_get_report(df)\n",
    "\n",
    "print(df)\n"
   ]
  },
  {
   "cell_type": "code",
   "execution_count": 30,
   "id": "9832f72f",
   "metadata": {},
   "outputs": [
    {
     "name": "stdout",
     "output_type": "stream",
     "text": [
      "                 amax       mean        std\n",
      "UniqueCarrier                              \n",
      "9E             1143.0  46.936493  60.304826\n",
      "AA             1525.0  46.561553  61.260747\n",
      "AQ              338.0  21.255376  35.179935\n",
      "AS              948.0  36.060882  50.988451\n",
      "B6              834.0  55.088739  69.240541\n",
      "CO             1017.0  40.568449  58.591637\n",
      "DL             1007.0  39.881507  54.282458\n",
      "EV              940.0  47.554255  59.226485\n",
      "F9              809.0  27.938953  39.533671\n",
      "FL             1175.0  43.683157  55.915851\n",
      "HA             1050.0  34.209449  63.583432\n",
      "MQ             1707.0  45.295058  60.693197\n",
      "NW             2461.0  43.911000  73.013944\n",
      "OH              955.0  51.016968  58.139086\n",
      "OO              990.0  45.370587  53.700792\n",
      "UA             1322.0  47.784399  59.437690\n",
      "US              876.0  36.445019  50.275237\n",
      "WN              702.0  30.087884  42.966858\n",
      "XE              838.0  50.181217  61.438118\n",
      "YV              606.0  55.287049  60.893065\n"
     ]
    }
   ],
   "source": [
    "def table(df):\n",
    "    ''' - Table of airlines with the most accumulated arrears'''\n",
    "    grouped = df.groupby('UniqueCarrier')\n",
    "    print(grouped['ArrDelay'].agg([np.max, np.mean, np.std]))\n",
    "\n",
    "\n",
    "table(df)"
   ]
  },
  {
   "cell_type": "markdown",
   "id": "egyptian-teens",
   "metadata": {},
   "source": [
    "### Exercises 3\n",
    "\n",
    "Export the data set clean and with the new columns to Excel.\n",
    "\n",
    "\n",
    "Create a function that given a two-dimensional table, calculates the totals per row and the totals per column."
   ]
  },
  {
   "cell_type": "code",
   "execution_count": 36,
   "id": "white-paintball",
   "metadata": {},
   "outputs": [],
   "source": [
    "def export_to_excel(df: pd.DataFrame) -> None:\n",
    "    ''' export dataframe to xlsx, no index '''\n",
    "\n",
    "    if df.shape[0] < 1048576:\n",
    "        # This is a limitation of Excel, where sheets can have a maximum of 1048576 rows. \n",
    "        name = datetime.datetime.now().strftime('%y-%m-%d_%H_%M_%S') + '.xlsx'\n",
    "        df.to_excel(name, index=False) \n",
    "    else: \n",
    "        name = datetime.datetime.now().strftime('%y-%m-%d_%H_%M_%S') + '.csv'\n",
    "        df.to_csv(name, index=False) \n",
    "    \n",
    "export_to_excel(df)"
   ]
  },
  {
   "cell_type": "code",
   "execution_count": null,
   "id": "7b26bf2a",
   "metadata": {},
   "outputs": [],
   "source": []
  }
 ],
 "metadata": {
  "kernelspec": {
   "display_name": "Python 3",
   "language": "python",
   "name": "python3"
  },
  "language_info": {
   "codemirror_mode": {
    "name": "ipython",
    "version": 3
   },
   "file_extension": ".py",
   "mimetype": "text/x-python",
   "name": "python",
   "nbconvert_exporter": "python",
   "pygments_lexer": "ipython3",
   "version": "3.8.10"
  }
 },
 "nbformat": 4,
 "nbformat_minor": 5
}
