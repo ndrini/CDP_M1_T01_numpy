{
 "cells": [
  {
   "cell_type": "code",
   "execution_count": 2,
   "id": "systematic-theory",
   "metadata": {},
   "outputs": [],
   "source": [
    "import numpy as np\n",
    "import pandas as pd\n",
    "import os\n",
    "import datetime"
   ]
  },
  {
   "cell_type": "markdown",
   "id": "e994254e",
   "metadata": {},
   "source": [
    "# M1 T02: Data exploration and structure - Dataframes with Pandas\n",
    "Description\n",
    "\n",
    "Familiarize yourself with data exploration techniques using the data structure, Dataframe with the Pandas library.\n",
    "Level 1"
   ]
  },
  {
   "cell_type": "markdown",
   "id": "26060ad9",
   "metadata": {},
   "source": [
    "\n",
    "\n",
    "# - Exercises 1\n",
    "\n",
    "Download the Airlines Delay: Airline on-time statistics and delay causes data set and upload it to a Dataframe pandas. Explore the data it contains, and keep only the columns you consider relevant.\n"
   ]
  },
  {
   "cell_type": "code",
   "execution_count": 26,
   "id": "ranging-event",
   "metadata": {},
   "outputs": [
    {
     "name": "stdout",
     "output_type": "stream",
     "text": [
      "         Year  Month  DayofMonth  DepTime  CRSDepTime UniqueCarrier  AirTime  \\\n",
      "0        2008      1           3   2003.0        1955            WN    116.0   \n",
      "1        2008      1           3    754.0         735            WN    113.0   \n",
      "2        2008      1           3    628.0         620            WN     76.0   \n",
      "3        2008      1           3   1829.0        1755            WN     77.0   \n",
      "4        2008      1           3   1940.0        1915            WN     87.0   \n",
      "...       ...    ...         ...      ...         ...           ...      ...   \n",
      "1936753  2008     12          13   1250.0        1220            DL    120.0   \n",
      "1936754  2008     12          13    657.0         600            DL     78.0   \n",
      "1936755  2008     12          13   1007.0         847            DL    122.0   \n",
      "1936756  2008     12          13   1251.0        1240            DL     89.0   \n",
      "1936757  2008     12          13   1110.0        1103            DL    104.0   \n",
      "\n",
      "         ArrDelay  DepDelay  Distance  \n",
      "0           -14.0       8.0       810  \n",
      "1             2.0      19.0       810  \n",
      "2            14.0       8.0       515  \n",
      "3            34.0      34.0       515  \n",
      "4            11.0      25.0       688  \n",
      "...           ...       ...       ...  \n",
      "1936753      25.0      30.0       906  \n",
      "1936754      75.0      57.0       481  \n",
      "1936755      99.0      80.0       689  \n",
      "1936756       9.0      11.0       533  \n",
      "1936757      -5.0       7.0       874  \n",
      "\n",
      "[1936758 rows x 10 columns]\n"
     ]
    }
   ],
   "source": [
    "# Exercises 1\n",
    "# Download the Airlines Delay: Airline on-time statistics and delay causes data set and upload it to a Dataframe pandas. Explore the data it contains, and keep only the columns you consider relevant.\n",
    "df = pd.read_csv(\n",
    "    # os.path.realpath('.') + \"/archive/DelayedFlights_simple.csv\",\n",
    "    os.path.realpath('.') + \"/archive/DelayedFlights.csv\",\n",
    "    usecols = ['UniqueCarrier', 'Year', 'Month', 'DayofMonth', 'Distance', 'AirTime', 'DepTime', 'CRSDepTime', 'ArrDelay', 'DepDelay'])\n",
    "print(df)"
   ]
  },
  {
   "cell_type": "markdown",
   "id": "orange-primary",
   "metadata": {},
   "source": [
    "### Exercises 2\n",
    "\n",
    "Make a complete report of the date set:\n",
    "  - Summarize the columns of interest statistically\n",
    "  - Find how many missing data are per column\n",
    "  - Create new columns (average flight speed, whether late or not ...)\n",
    "  - Table of airlines with the most accumulated arrears\n",
    "  - What are the longest flights? And the most backward?\n",
    "  - Etc.\n"
   ]
  },
  {
   "cell_type": "code",
   "execution_count": 32,
   "id": "focused-species",
   "metadata": {},
   "outputs": [
    {
     "name": "stdout",
     "output_type": "stream",
     "text": [
      "{'speed_min': 0.3548387096774194, 'speed_max': inf}\n",
      "{'speed_min': 0.3548387096774194, 'speed_max': inf}\n"
     ]
    },
    {
     "ename": "AssertionError",
     "evalue": "",
     "output_type": "error",
     "traceback": [
      "\u001b[0;31m---------------------------------------------------------------------------\u001b[0m",
      "\u001b[0;31mAssertionError\u001b[0m                            Traceback (most recent call last)",
      "\u001b[0;32m<ipython-input-32-75063b566e43>\u001b[0m in \u001b[0;36m<module>\u001b[0;34m\u001b[0m\n\u001b[1;32m     48\u001b[0m     \u001b[0;32massert\u001b[0m \u001b[0mget_report\u001b[0m\u001b[0;34m(\u001b[0m\u001b[0mdf\u001b[0m\u001b[0;34m)\u001b[0m\u001b[0;34m[\u001b[0m\u001b[0;34m'speed_max'\u001b[0m\u001b[0;34m]\u001b[0m \u001b[0;34m==\u001b[0m \u001b[0;34m'inf'\u001b[0m\u001b[0;34m\u001b[0m\u001b[0;34m\u001b[0m\u001b[0m\n\u001b[1;32m     49\u001b[0m     \u001b[0;32massert\u001b[0m \u001b[0mget_report\u001b[0m\u001b[0;34m(\u001b[0m\u001b[0mdf\u001b[0m\u001b[0;34m)\u001b[0m\u001b[0;34m[\u001b[0m\u001b[0;34m'stats'\u001b[0m\u001b[0;34m]\u001b[0m\u001b[0;34m[\u001b[0m\u001b[0;34m'missing_values'\u001b[0m\u001b[0;34m]\u001b[0m \u001b[0;34m==\u001b[0m \u001b[0;36m4\u001b[0m\u001b[0;34m\u001b[0m\u001b[0;34m\u001b[0m\u001b[0m\n\u001b[0;32m---> 50\u001b[0;31m \u001b[0mtest_get_report\u001b[0m\u001b[0;34m(\u001b[0m\u001b[0mdf\u001b[0m\u001b[0;34m)\u001b[0m\u001b[0;34m\u001b[0m\u001b[0;34m\u001b[0m\u001b[0m\n\u001b[0m\u001b[1;32m     51\u001b[0m \u001b[0;34m\u001b[0m\u001b[0m\n\u001b[1;32m     52\u001b[0m \u001b[0mprint\u001b[0m\u001b[0;34m(\u001b[0m\u001b[0mdf\u001b[0m\u001b[0;34m)\u001b[0m\u001b[0;34m\u001b[0m\u001b[0;34m\u001b[0m\u001b[0m\n",
      "\u001b[0;32m<ipython-input-32-75063b566e43>\u001b[0m in \u001b[0;36mtest_get_report\u001b[0;34m(df)\u001b[0m\n\u001b[1;32m     46\u001b[0m     \u001b[0;31m# assert get_report(df) == 123\u001b[0m\u001b[0;34m\u001b[0m\u001b[0;34m\u001b[0m\u001b[0;34m\u001b[0m\u001b[0m\n\u001b[1;32m     47\u001b[0m     \u001b[0;32massert\u001b[0m \u001b[0mget_report\u001b[0m\u001b[0;34m(\u001b[0m\u001b[0mdf\u001b[0m\u001b[0;34m)\u001b[0m\u001b[0;34m[\u001b[0m\u001b[0;34m'speed_min'\u001b[0m\u001b[0;34m]\u001b[0m \u001b[0;34m==\u001b[0m \u001b[0;36m0.3548387096774194\u001b[0m\u001b[0;34m\u001b[0m\u001b[0;34m\u001b[0m\u001b[0m\n\u001b[0;32m---> 48\u001b[0;31m     \u001b[0;32massert\u001b[0m \u001b[0mget_report\u001b[0m\u001b[0;34m(\u001b[0m\u001b[0mdf\u001b[0m\u001b[0;34m)\u001b[0m\u001b[0;34m[\u001b[0m\u001b[0;34m'speed_max'\u001b[0m\u001b[0;34m]\u001b[0m \u001b[0;34m==\u001b[0m \u001b[0;34m'inf'\u001b[0m\u001b[0;34m\u001b[0m\u001b[0;34m\u001b[0m\u001b[0m\n\u001b[0m\u001b[1;32m     49\u001b[0m     \u001b[0;32massert\u001b[0m \u001b[0mget_report\u001b[0m\u001b[0;34m(\u001b[0m\u001b[0mdf\u001b[0m\u001b[0;34m)\u001b[0m\u001b[0;34m[\u001b[0m\u001b[0;34m'stats'\u001b[0m\u001b[0;34m]\u001b[0m\u001b[0;34m[\u001b[0m\u001b[0;34m'missing_values'\u001b[0m\u001b[0;34m]\u001b[0m \u001b[0;34m==\u001b[0m \u001b[0;36m4\u001b[0m\u001b[0;34m\u001b[0m\u001b[0;34m\u001b[0m\u001b[0m\n\u001b[1;32m     50\u001b[0m \u001b[0mtest_get_report\u001b[0m\u001b[0;34m(\u001b[0m\u001b[0mdf\u001b[0m\u001b[0;34m)\u001b[0m\u001b[0;34m\u001b[0m\u001b[0;34m\u001b[0m\u001b[0m\n",
      "\u001b[0;31mAssertionError\u001b[0m: "
     ]
    }
   ],
   "source": [
    "def get_report(df: pd.DataFrame) -> dict:\n",
    "    ''' Find how many missing data are per column '''\n",
    "    results = {} \n",
    "    results['stats'] = calc_stats(df)  \n",
    "    speed = calc_speed(df)\n",
    "    results['speed_min'] = speed['speed_min']\n",
    "    results['speed_max'] = speed['speed_max']\n",
    "    results['faster'] = calc_faster_than_expected(df)\n",
    "    return results\n",
    "\n",
    "def calc_stats(df) -> dict:\n",
    "    ''' Summarize the columns of interest statistically'''\n",
    "    stats = {}\n",
    "    stats['total_rows'] = df.shape[0]\n",
    "    stats['missing_values'] = df.isnull().sum().sum()\n",
    "    # print(df.isnull().sum())\n",
    "    # print(stats['missing_values'])\n",
    "    return stats\n",
    "\n",
    "def calc_speed(df: pd.DataFrame) -> dict:\n",
    "    ''' Create new columns average flight speed'''\n",
    "    df['speed'] = df['Distance']/df['AirTime'] \n",
    "    # df.apply(lambda row: row['Distance']/row['AirTime']),\n",
    "    #                      axis = 1)\n",
    "    # print(df['speed'])\n",
    "    res = {\n",
    "        'speed_min': df['speed'].loc[df['speed'].idxmin()], \n",
    "        'speed_max': df['speed'].loc[df['speed'].idxmax()], \n",
    "        # 'speed_avg': df['speed'].loc[df['speed']. \n",
    "    }\n",
    "    # print(speed_min)\n",
    "    print(res)\n",
    "    return res\n",
    "    \n",
    "def calc_late_or_early(df: pd.DataFrame) -> pd.DataFrame:\n",
    "    ''' Create new columns whether late or early '''\n",
    "    pass\n",
    "\n",
    "def calc_faster_than_expected(df: pd.DataFrame) -> None:\n",
    "    ''' difference between 'ArrDelay', 'DepDelay'])'''''\n",
    "    df['faster'] = df['DepDelay'] - df['ArrDelay']\n",
    "    return None\n",
    "\n",
    "\n",
    "def test_get_report(df):\n",
    "    # assert get_report(df) == 123\n",
    "    assert get_report(df)['speed_min'] == 0.3548387096774194\n",
    "    # assert get_report(df)['speed_max'] == 'inf'\n",
    "    assert get_report(df)['stats']['missing_values'] == 4\n",
    "test_get_report(df)\n",
    "\n",
    "print(df)\n"
   ]
  },
  {
   "cell_type": "code",
   "execution_count": 30,
   "id": "9832f72f",
   "metadata": {},
   "outputs": [
    {
     "name": "stdout",
     "output_type": "stream",
     "text": [
      "                 amax       mean        std\n",
      "UniqueCarrier                              \n",
      "9E             1143.0  46.936493  60.304826\n",
      "AA             1525.0  46.561553  61.260747\n",
      "AQ              338.0  21.255376  35.179935\n",
      "AS              948.0  36.060882  50.988451\n",
      "B6              834.0  55.088739  69.240541\n",
      "CO             1017.0  40.568449  58.591637\n",
      "DL             1007.0  39.881507  54.282458\n",
      "EV              940.0  47.554255  59.226485\n",
      "F9              809.0  27.938953  39.533671\n",
      "FL             1175.0  43.683157  55.915851\n",
      "HA             1050.0  34.209449  63.583432\n",
      "MQ             1707.0  45.295058  60.693197\n",
      "NW             2461.0  43.911000  73.013944\n",
      "OH              955.0  51.016968  58.139086\n",
      "OO              990.0  45.370587  53.700792\n",
      "UA             1322.0  47.784399  59.437690\n",
      "US              876.0  36.445019  50.275237\n",
      "WN              702.0  30.087884  42.966858\n",
      "XE              838.0  50.181217  61.438118\n",
      "YV              606.0  55.287049  60.893065\n"
     ]
    }
   ],
   "source": [
    "def table(df):\n",
    "    ''' - Table of airlines with the most accumulated arrears'''\n",
    "    grouped = df.groupby('UniqueCarrier')\n",
    "    print(grouped['ArrDelay'].agg([np.max, np.mean, np.std]))\n",
    "\n",
    "\n",
    "table(df)"
   ]
  },
  {
   "cell_type": "markdown",
   "id": "egyptian-teens",
   "metadata": {},
   "source": [
    "### Exercises 3\n",
    "\n",
    "Export the data set clean and with the new columns to Excel.\n",
    "\n",
    "\n",
    "Create a function that given a two-dimensional table, calculates the totals per row and the totals per column."
   ]
  },
  {
   "cell_type": "code",
   "execution_count": 36,
   "id": "white-paintball",
   "metadata": {},
   "outputs": [],
   "source": [
    "def export_to_excel(df: pd.DataFrame) -> None:\n",
    "    ''' export dataframe to xlsx, no index '''\n",
    "\n",
    "    if df.shape[0] < 1048576:\n",
    "        # This is a limitation of Excel, where sheets can have a maximum of 1048576 rows. \n",
    "        name = datetime.datetime.now().strftime('%y-%m-%d_%H_%M_%S') + '.xlsx'\n",
    "        df.to_excel(name, index=False) \n",
    "    else: \n",
    "        name = datetime.datetime.now().strftime('%y-%m-%d_%H_%M_%S') + '.csv'\n",
    "        df.to_csv(name, index=False) \n",
    "    \n",
    "export_to_excel(df)"
   ]
  },
  {
   "cell_type": "code",
   "execution_count": null,
   "id": "7b26bf2a",
   "metadata": {},
   "outputs": [],
   "source": []
  }
 ],
 "metadata": {
  "kernelspec": {
   "display_name": "Python 3",
   "language": "python",
   "name": "python3"
  },
  "language_info": {
   "codemirror_mode": {
    "name": "ipython",
    "version": 3
   },
   "file_extension": ".py",
   "mimetype": "text/x-python",
   "name": "python",
   "nbconvert_exporter": "python",
   "pygments_lexer": "ipython3",
   "version": "3.8.10"
  }
 },
 "nbformat": 4,
 "nbformat_minor": 5
}
