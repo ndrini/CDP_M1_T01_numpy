{
 "cells": [
  {
   "cell_type": "code",
   "execution_count": 2,
   "id": "7d43fc61",
   "metadata": {},
   "outputs": [],
   "source": [
    "import pandas as pd\n",
    "import os\n",
    "import kaggle"
   ]
  },
  {
   "cell_type": "markdown",
   "id": "e994254e",
   "metadata": {},
   "source": [
    "# M1 T02: Data exploration and structure - Dataframes with Pandas\n",
    "Description\n",
    "\n",
    "Familiarize yourself with data exploration techniques using the data structure, Dataframe with the Pandas library.\n",
    "Level 1"
   ]
  },
  {
   "cell_type": "markdown",
   "id": "2606cc71",
   "metadata": {},
   "source": [
    "# Exercises 1"
   ]
  },
  {
   "cell_type": "markdown",
   "id": "26060ad9",
   "metadata": {},
   "source": [
    "Download the Airlines Delay: Airline on-time statistics and delay causes data set and upload it to a Dataframe pandas. Explore the data it contains, and keep only the columns you consider relevant.\n"
   ]
  },
  {
   "cell_type": "code",
   "execution_count": 6,
   "id": "befb4c84",
   "metadata": {},
   "outputs": [
    {
     "name": "stdout",
     "output_type": "stream",
     "text": [
      "Downloading airlinedelaycauses.zip to /home/su/workspace/python/ciencia_dades_python/CDP_all_lessons_code/kaggle-airline-df/kaggle-airline-df/kaggle-airline-df\n",
      " 99%|█████████████████████████████████████▋| 66.0M/66.6M [00:09<00:00, 12.0MB/s]\n",
      "100%|██████████████████████████████████████| 66.6M/66.6M [00:09<00:00, 7.10MB/s]\n",
      "Archive:  airlinedelaycauses.zip\n",
      "  inflating: DelayedFlights.csv      \n",
      "  inflating: st99_d00.dbf            \n",
      "  inflating: st99_d00.shp            \n",
      "  inflating: st99_d00.shx            \n"
     ]
    }
   ],
   "source": [
    "# Prepare directories\n",
    "root = os.getcwd()\n",
    "\n",
    "# Change working directory\n",
    "new_wd = \"kaggle-airline-df\"\n",
    "wd_dir = os.path.join(root,new_wd)\n",
    "if not os.path.isdir(wd_dir):\n",
    "    os.mkdir(wd_dir)\n",
    "\n",
    "os.chdir(wd_dir)\n",
    "\n",
    "# Download the dataset using Kaggle's API\n",
    "!kaggle datasets download giovamata/airlinedelaycauses\n",
    "!unzip airlinedelaycauses.zip\n",
    "!rm airlinedelaycauses.zip\n",
    "os.chdir(wd_dir)\n",
    "\n",
    "# Dataset location\n",
    "dataset_dir = os.path.join(wd_dir,\"input\")\n",
    "if not os.path.isdir(dataset_dir):\n",
    "    os.mkdir(dataset_dir)"
   ]
  },
  {
   "cell_type": "code",
   "execution_count": 5,
   "id": "27151e1a",
   "metadata": {},
   "outputs": [
    {
     "name": "stdout",
     "output_type": "stream",
     "text": [
      "['Unnamed: 0', 'Year', 'Month', 'DayofMonth', 'DayOfWeek', 'DepTime', 'CRSDepTime', 'ArrTime', 'CRSArrTime', 'UniqueCarrier', 'FlightNum', 'TailNum', 'ActualElapsedTime', 'CRSElapsedTime', 'AirTime', 'ArrDelay', 'DepDelay', 'Origin', 'Dest', 'Distance', 'TaxiIn', 'TaxiOut', 'Cancelled', 'CancellationCode', 'Diverted', 'CarrierDelay', 'WeatherDelay', 'NASDelay', 'SecurityDelay', 'LateAircraftDelay']\n"
     ]
    }
   ],
   "source": [
    "# As this is a dataset centered around flight delays, the main purpose is to\n",
    "# analyze the timings related to routes, companies, airports, etc.\n",
    "# By reading the column names, we can understand if there are some that \n",
    "# will not be of interest, which will be removed\n",
    "\n",
    "# Load only the column names from the CSV file\n",
    "file_name = \"input/DelayedFlights.csv\"\n",
    "col_names = pd.read_csv(file_name, nrows=1).columns.tolist()\n",
    "print(col_names)\n"
   ]
  },
  {
   "cell_type": "markdown",
   "id": "2e4c82af",
   "metadata": {},
   "source": [
    "### Field explanation"
   ]
  },
  {
   "cell_type": "markdown",
   "id": "8fa63637",
   "metadata": {},
   "source": [
    "Now that the column names are available, we can dive into each column meaning."
   ]
  },
  {
   "cell_type": "markdown",
   "id": "37aa632a",
   "metadata": {},
   "source": [
    "- YEAR: Year in which each of the study samples was collected. In this case, all the samples coincide in the year 2008, however, for studies of greater magnitude and greater temporal amplitude, it is necessary to limit the temporal variable of the data.\n",
    "\n",
    "- MONTH: Month in which each of the study samples were collected. This parameter varies on a scale from 1 to 12, with 1 being the month of January and 12 being the month of December. As in the previous case, all the samples coincide in the month of January, however, for studies of greater magnitude and greater temporal amplitude, it is necessary to limit the temporal variable of the data.\n",
    "\n",
    "- DAY_OF_MONTH: Day of the month on which each study sample was collected. This parameter varies on a scale from 1 to 31, coinciding with the numbering of the monthly day of the data.\n",
    "\n",
    "- DAY_OF_WEEK: Day of the week on which each study sample was collected. This parameter varies on a scale from 1 to 7, with 1 being the number equivalent to Monday and 7 being the equivalent to Sunday. Both this data and the previous one may be necessary to estimate which day of the week (eg the beginning of the weekend) or which day of the month (eg the beginning of the month) it is estimated that there may be more congestion and hence more flight delays.\n",
    "\n",
    "- DEP_TIME: Departure time. Flight departure time in real local time (LMT) expressed as a set of four digits, the first two being the hour and the last two being the minutes. Time computed at the moment in which the aircraft leaves the door or gate. Essential data to calculate and forecast collapses based on the time of day, peak hours and work peaks.\n",
    "\n",
    "- CRS_DEP_TIME: Computerized Reservations Systems (CRS) departure time. Time that each airline has computed as departure time. It can be defined as the departure time that the company estimates at which each flight will depart. Very useful data to check the difference between the actual departure time and the time estimated by the company. Indicator of the \"on-time performance\" of each airline.\n",
    "\n",
    "- ARR_TIME: Arrival time. Arrival time of the flight in real local time (LMT) expressed as a set of four digits, the first two being the hour and the last two being the minutes. Time computed at the moment the aircraft's nosewheel hits the Tarmac. Essential data to calculate and forecast collapses based on the time of day, peak hours and work peaks.\n",
    "\n",
    "- CRS_ARR_TIME: Computerized Reservations Systems (CRS) arrival time. Time that each airline has computed as arrival time. It can be defined as the departure time that the company estimates at which each flight will arrive. Very useful data to check the difference between the real time of arrival and the time estimated by the company. Indicator of the \"on-time performance\" of each airline.\n",
    "\n",
    "- UNIQUE_CARRIER: Name in initials of the airline from which the data sample is collected. Necessary data to associate each delay with each airline and be able to estimate and predict which companies produce more delays. Character string.\n",
    "\n",
    "- FL_NUM: FlightNumber. Flight number of each sample.\n",
    "\n",
    "- TAIL_NUM: TailNumber. Set of numbers and letters that make up the registration record of each aircraft, located in the tail of the plane. This number is unique for each aircraft and its format depends on the country of registration (eg in the case of the USA it is made up of the letter November plus a set of digits). It can be found both in the front and rear of the plane and under the planes.\n",
    "\n",
    "- ACTUAL_ELAPSED_TIME: Actual flight time, from origin departure to destination arrival, expressed in minutes as a set of integers. Useful data for the estimation and identification of behaviors or delays en route.\n",
    "\n",
    "- CRS_ELAPSED_TIME: Computerized Reservations Systems (CRS) elapsed time. Time that each airline has computed in its system as flight time, from departure at origin to arrival at destination, expressed in minutes as a set of integers. Useful data for the estimation and identification of behaviors or delays en route and the difference with the real time of flight for the calculation of the on-time performance.\n",
    "\n",
    "- AIR_TIME: Real flight time in air, from departure at origin to arrival at destination, counted from when the plane leaves the runway until it comes into contact with it again, expressed in minutes as an integer. Useful data for the estimation and identification of behaviors or delays en route.\n",
    "\n",
    "- ARR_DELAY: Difference between the arrival time of CRS or estimated by the company and the actual arrival time at destination, expressed in minutes as an integer. Useful information to identify the source of a problem or delay.\n",
    "\n",
    "- DEP_DELAY: Difference between the departure time of CRS or estimated by the company and the actual departure time at origin, expressed in minutes as a number e\n",
    "\n",
    "- CRS_ELAPSED_TIME: Computerized Reservations Systems (CRS) elapsed time. Time that each airline has computed in its system as flight time, from departure at origin to arrival at destination, expressed in minutes as a set of integers. Useful data for the estimation and identification of behaviors or delays en route and the difference with the real time of flight for the calculation of the on-time performance.\n",
    "\n",
    "- AIR_TIME: Real flight time in air, from departure at origin to arrival at destination, counted from when the plane leaves the runway until it comes into contact with it again, expressed in minutes as an integer. Useful data for the estimation and identification of behaviors or delays en route.\n",
    "\n",
    "- ARR_DELAY: Difference between the arrival time of CRS or estimated by the company and the actual arrival time at destination, expressed in minutes as an integer. Useful information to identify the source of a problem or delay.\n",
    "\n",
    "- DEP_DELAY: Difference between the CRS departure time or estimated by the company and the actual departure time at origin, expressed in minutes as an integer. Useful information to identify the source of a problem or delay.\n",
    "\n",
    "- ORIGIN: Flight origin airport code, expressed as a string of three-letter characters. Unique code for each airport standardized by the International Air Transport Association (IATA).\n",
    "\n",
    "- DEST: Flight destination airport code, expressed as a string of three-letter characters. Unique code for each airport standardized by the International Air Transport Association (IATA).\n",
    "\n",
    "- DISTANCE: Distance between the origin and destination airports, expressed in nautical miles as an integer. Useful data to estimate the relationship between the delays and the flight distance between several jumps.\n",
    "\n",
    "- TAXI_IN: Taxi in time. Rolling time to gate at the destination airport. Expressed as a set of integers in minutes. Useful data to identify delays in rolling phases and operations.\n",
    "\n",
    "- TAXI_OUT: Taxi out time. Taxi time from the gate to the runway at the airport of origin. Expressed as a set of integers in minutes. Useful data to identify delays in rolling phases and operations.\n",
    "\n",
    "- CANCELED: Identifier of canceled flight. Expressed as a binary value, being zero if the flight has taken place or one if it has been cancelled. When this value is one, all other temporary values ​​are ignored.\n",
    "\n",
    "- CANCELLATION_CODE: Cancellation code. Expressed with an alphabetical character depending on the cause of cancellation following the following - legend: A-\"Carrier\", B-\"Weather\", C-\"National Air System\", D-\"Security\".\n",
    "\n",
    "- FUN: Diverted flight indicator. Expressed as a binary value, being zero if the flight has been carried out normally or one if it has been diverted.\n",
    "\n",
    "- CARRIER_DELAY: Delay caused by the carrier. Expressed as a set of integers in minutes. Useful data to identify delays caused by this factor.\n",
    "\n",
    "- WEATHER_DELAY: Delay caused by inclement weather. Expressed as a set of integers in minutes. Useful data to identify delays caused by this factor.\n",
    "\n",
    "- NAS_DELAY: Delay caused by the National Air System. Expressed as a set of integers in minutes. Useful data to identify delays caused by this factor.\n",
    "\n",
    "- SECURITY_DELAY: Delay caused by security controls or their inspections. Expressed as a set of integers in minutes. Useful data to identify delays caused by this factor.\n",
    "\n",
    "- LATE_AIRCRAFT_DELAY: Delay due to late arrival of the aircraft. Expressed as a set of integers in minutes. Useful data to identify delays caused by this factor."
   ]
  },
  {
   "cell_type": "markdown",
   "id": "585140f1",
   "metadata": {},
   "source": [
    "Having a look to previous description and to the notes of exercise 2, it seems expecially importante 'Cancelled' and also 'UniqueCarrier', 'Year', 'Month', 'DayofMonth', 'Distance', 'AirTime', 'DepTime', 'CRSDepTime', 'ArrDelay', 'DepDelay'."
   ]
  },
  {
   "cell_type": "markdown",
   "id": "1856ca53",
   "metadata": {},
   "source": [
    "# Exercises 2"
   ]
  },
  {
   "cell_type": "markdown",
   "id": "orange-primary",
   "metadata": {},
   "source": [
    "Make a complete report of the date set:\n",
    "  - Summarize the columns of interest statistically\n",
    "  - Find how many missing data are per column\n",
    "  - Create new columns (average flight speed, whether late or not ...)\n",
    "  - Table of airlines with the most accumulated arrears\n",
    "  - What are the longest flights? And the most backward?\n",
    "  - Etc.\n"
   ]
  },
  {
   "cell_type": "code",
   "execution_count": 6,
   "id": "f6d357b9",
   "metadata": {},
   "outputs": [
    {
     "name": "stdout",
     "output_type": "stream",
     "text": [
      "         Year  Month  DayofMonth  DepTime  CRSDepTime UniqueCarrier  AirTime  \\\n",
      "0        2008      1           3   2003.0        1955            WN    116.0   \n",
      "1        2008      1           3    754.0         735            WN    113.0   \n",
      "2        2008      1           3    628.0         620            WN     76.0   \n",
      "3        2008      1           3   1829.0        1755            WN     77.0   \n",
      "4        2008      1           3   1940.0        1915            WN     87.0   \n",
      "...       ...    ...         ...      ...         ...           ...      ...   \n",
      "1936753  2008     12          13   1250.0        1220            DL    120.0   \n",
      "1936754  2008     12          13    657.0         600            DL     78.0   \n",
      "1936755  2008     12          13   1007.0         847            DL    122.0   \n",
      "1936756  2008     12          13   1251.0        1240            DL     89.0   \n",
      "1936757  2008     12          13   1110.0        1103            DL    104.0   \n",
      "\n",
      "         ArrDelay  DepDelay  Distance  Cancelled  \n",
      "0           -14.0       8.0       810          0  \n",
      "1             2.0      19.0       810          0  \n",
      "2            14.0       8.0       515          0  \n",
      "3            34.0      34.0       515          0  \n",
      "4            11.0      25.0       688          0  \n",
      "...           ...       ...       ...        ...  \n",
      "1936753      25.0      30.0       906          0  \n",
      "1936754      75.0      57.0       481          0  \n",
      "1936755      99.0      80.0       689          0  \n",
      "1936756       9.0      11.0       533          0  \n",
      "1936757      -5.0       7.0       874          0  \n",
      "\n",
      "[1936758 rows x 11 columns]\n"
     ]
    }
   ],
   "source": [
    "df = pd.read_csv(\n",
    "    file_name,\n",
    "    usecols = [\n",
    "        'Cancelled', 'UniqueCarrier', 'Year', 'Month', 'DayofMonth',\n",
    "        'Distance', 'AirTime', 'DepTime', 'CRSDepTime', 'ArrDelay', 'DepDelay'])\n",
    "print(df)"
   ]
  },
  {
   "cell_type": "code",
   "execution_count": null,
   "id": "8b85df26",
   "metadata": {},
   "outputs": [],
   "source": [
    "# Find how many missing data are per column\n"
   ]
  },
  {
   "cell_type": "code",
   "execution_count": 7,
   "id": "874fa815",
   "metadata": {},
   "outputs": [
    {
     "name": "stdout",
     "output_type": "stream",
     "text": [
      "         Year  Month  DayofMonth  DepTime  CRSDepTime UniqueCarrier  AirTime  \\\n",
      "0        2008      1           3   2003.0        1955            WN    116.0   \n",
      "1        2008      1           3    754.0         735            WN    113.0   \n",
      "2        2008      1           3    628.0         620            WN     76.0   \n",
      "3        2008      1           3   1829.0        1755            WN     77.0   \n",
      "4        2008      1           3   1940.0        1915            WN     87.0   \n",
      "...       ...    ...         ...      ...         ...           ...      ...   \n",
      "1936753  2008     12          13   1250.0        1220            DL    120.0   \n",
      "1936754  2008     12          13    657.0         600            DL     78.0   \n",
      "1936755  2008     12          13   1007.0         847            DL    122.0   \n",
      "1936756  2008     12          13   1251.0        1240            DL     89.0   \n",
      "1936757  2008     12          13   1110.0        1103            DL    104.0   \n",
      "\n",
      "         ArrDelay  DepDelay  Distance  Cancelled  \n",
      "0           -14.0       8.0       810          0  \n",
      "1             2.0      19.0       810          0  \n",
      "2            14.0       8.0       515          0  \n",
      "3            34.0      34.0       515          0  \n",
      "4            11.0      25.0       688          0  \n",
      "...           ...       ...       ...        ...  \n",
      "1936753      25.0      30.0       906          0  \n",
      "1936754      75.0      57.0       481          0  \n",
      "1936755      99.0      80.0       689          0  \n",
      "1936756       9.0      11.0       533          0  \n",
      "1936757      -5.0       7.0       874          0  \n",
      "\n",
      "[1936125 rows x 11 columns]\n"
     ]
    }
   ],
   "source": [
    "# filter not cancelled, cause it can induce a distortion in the speed\n",
    "\n",
    "df = df[df['Cancelled'] == 0 ]\n",
    "print(df)"
   ]
  },
  {
   "cell_type": "code",
   "execution_count": 8,
   "id": "2b742768",
   "metadata": {},
   "outputs": [
    {
     "data": {
      "text/html": [
       "<div>\n",
       "<style scoped>\n",
       "    .dataframe tbody tr th:only-of-type {\n",
       "        vertical-align: middle;\n",
       "    }\n",
       "\n",
       "    .dataframe tbody tr th {\n",
       "        vertical-align: top;\n",
       "    }\n",
       "\n",
       "    .dataframe thead th {\n",
       "        text-align: right;\n",
       "    }\n",
       "</style>\n",
       "<table border=\"1\" class=\"dataframe\">\n",
       "  <thead>\n",
       "    <tr style=\"text-align: right;\">\n",
       "      <th></th>\n",
       "      <th>Year</th>\n",
       "      <th>Month</th>\n",
       "      <th>DayofMonth</th>\n",
       "      <th>DepTime</th>\n",
       "      <th>CRSDepTime</th>\n",
       "      <th>AirTime</th>\n",
       "      <th>ArrDelay</th>\n",
       "      <th>DepDelay</th>\n",
       "      <th>Distance</th>\n",
       "      <th>Cancelled</th>\n",
       "    </tr>\n",
       "  </thead>\n",
       "  <tbody>\n",
       "    <tr>\n",
       "      <th>count</th>\n",
       "      <td>1936125.0</td>\n",
       "      <td>1.936125e+06</td>\n",
       "      <td>1.936125e+06</td>\n",
       "      <td>1.936125e+06</td>\n",
       "      <td>1.936125e+06</td>\n",
       "      <td>1.928371e+06</td>\n",
       "      <td>1.928371e+06</td>\n",
       "      <td>1.936125e+06</td>\n",
       "      <td>1.936125e+06</td>\n",
       "      <td>1936125.0</td>\n",
       "    </tr>\n",
       "    <tr>\n",
       "      <th>mean</th>\n",
       "      <td>2008.0</td>\n",
       "      <td>6.109290e+00</td>\n",
       "      <td>1.575273e+01</td>\n",
       "      <td>1.518516e+03</td>\n",
       "      <td>1.467472e+03</td>\n",
       "      <td>1.082771e+02</td>\n",
       "      <td>4.219988e+01</td>\n",
       "      <td>4.316920e+01</td>\n",
       "      <td>7.657387e+02</td>\n",
       "      <td>0.0</td>\n",
       "    </tr>\n",
       "    <tr>\n",
       "      <th>std</th>\n",
       "      <td>0.0</td>\n",
       "      <td>3.481648e+00</td>\n",
       "      <td>8.776544e+00</td>\n",
       "      <td>4.504648e+02</td>\n",
       "      <td>4.247594e+02</td>\n",
       "      <td>6.864261e+01</td>\n",
       "      <td>5.678472e+01</td>\n",
       "      <td>5.337556e+01</td>\n",
       "      <td>5.744840e+02</td>\n",
       "      <td>0.0</td>\n",
       "    </tr>\n",
       "    <tr>\n",
       "      <th>min</th>\n",
       "      <td>2008.0</td>\n",
       "      <td>1.000000e+00</td>\n",
       "      <td>1.000000e+00</td>\n",
       "      <td>1.000000e+00</td>\n",
       "      <td>0.000000e+00</td>\n",
       "      <td>0.000000e+00</td>\n",
       "      <td>-1.090000e+02</td>\n",
       "      <td>6.000000e+00</td>\n",
       "      <td>1.100000e+01</td>\n",
       "      <td>0.0</td>\n",
       "    </tr>\n",
       "    <tr>\n",
       "      <th>25%</th>\n",
       "      <td>2008.0</td>\n",
       "      <td>3.000000e+00</td>\n",
       "      <td>8.000000e+00</td>\n",
       "      <td>1.203000e+03</td>\n",
       "      <td>1.135000e+03</td>\n",
       "      <td>5.800000e+01</td>\n",
       "      <td>9.000000e+00</td>\n",
       "      <td>1.200000e+01</td>\n",
       "      <td>3.380000e+02</td>\n",
       "      <td>0.0</td>\n",
       "    </tr>\n",
       "    <tr>\n",
       "      <th>50%</th>\n",
       "      <td>2008.0</td>\n",
       "      <td>6.000000e+00</td>\n",
       "      <td>1.600000e+01</td>\n",
       "      <td>1.545000e+03</td>\n",
       "      <td>1.510000e+03</td>\n",
       "      <td>9.000000e+01</td>\n",
       "      <td>2.400000e+01</td>\n",
       "      <td>2.400000e+01</td>\n",
       "      <td>6.060000e+02</td>\n",
       "      <td>0.0</td>\n",
       "    </tr>\n",
       "    <tr>\n",
       "      <th>75%</th>\n",
       "      <td>2008.0</td>\n",
       "      <td>9.000000e+00</td>\n",
       "      <td>2.300000e+01</td>\n",
       "      <td>1.900000e+03</td>\n",
       "      <td>1.815000e+03</td>\n",
       "      <td>1.370000e+02</td>\n",
       "      <td>5.600000e+01</td>\n",
       "      <td>5.300000e+01</td>\n",
       "      <td>9.980000e+02</td>\n",
       "      <td>0.0</td>\n",
       "    </tr>\n",
       "    <tr>\n",
       "      <th>max</th>\n",
       "      <td>2008.0</td>\n",
       "      <td>1.200000e+01</td>\n",
       "      <td>3.100000e+01</td>\n",
       "      <td>2.400000e+03</td>\n",
       "      <td>2.359000e+03</td>\n",
       "      <td>1.091000e+03</td>\n",
       "      <td>2.461000e+03</td>\n",
       "      <td>2.467000e+03</td>\n",
       "      <td>4.962000e+03</td>\n",
       "      <td>0.0</td>\n",
       "    </tr>\n",
       "  </tbody>\n",
       "</table>\n",
       "</div>"
      ],
      "text/plain": [
       "            Year         Month    DayofMonth       DepTime    CRSDepTime  \\\n",
       "count  1936125.0  1.936125e+06  1.936125e+06  1.936125e+06  1.936125e+06   \n",
       "mean      2008.0  6.109290e+00  1.575273e+01  1.518516e+03  1.467472e+03   \n",
       "std          0.0  3.481648e+00  8.776544e+00  4.504648e+02  4.247594e+02   \n",
       "min       2008.0  1.000000e+00  1.000000e+00  1.000000e+00  0.000000e+00   \n",
       "25%       2008.0  3.000000e+00  8.000000e+00  1.203000e+03  1.135000e+03   \n",
       "50%       2008.0  6.000000e+00  1.600000e+01  1.545000e+03  1.510000e+03   \n",
       "75%       2008.0  9.000000e+00  2.300000e+01  1.900000e+03  1.815000e+03   \n",
       "max       2008.0  1.200000e+01  3.100000e+01  2.400000e+03  2.359000e+03   \n",
       "\n",
       "            AirTime      ArrDelay      DepDelay      Distance  Cancelled  \n",
       "count  1.928371e+06  1.928371e+06  1.936125e+06  1.936125e+06  1936125.0  \n",
       "mean   1.082771e+02  4.219988e+01  4.316920e+01  7.657387e+02        0.0  \n",
       "std    6.864261e+01  5.678472e+01  5.337556e+01  5.744840e+02        0.0  \n",
       "min    0.000000e+00 -1.090000e+02  6.000000e+00  1.100000e+01        0.0  \n",
       "25%    5.800000e+01  9.000000e+00  1.200000e+01  3.380000e+02        0.0  \n",
       "50%    9.000000e+01  2.400000e+01  2.400000e+01  6.060000e+02        0.0  \n",
       "75%    1.370000e+02  5.600000e+01  5.300000e+01  9.980000e+02        0.0  \n",
       "max    1.091000e+03  2.461000e+03  2.467000e+03  4.962000e+03        0.0  "
      ]
     },
     "execution_count": 8,
     "metadata": {},
     "output_type": "execute_result"
    }
   ],
   "source": [
    "# statistic\n",
    "df.describe()"
   ]
  },
  {
   "cell_type": "code",
   "execution_count": 9,
   "id": "a40cb876",
   "metadata": {},
   "outputs": [],
   "source": [
    "df['Speed'] = df['Distance']/df['AirTime'] "
   ]
  },
  {
   "cell_type": "code",
   "execution_count": 10,
   "id": "0a670d1c",
   "metadata": {},
   "outputs": [
    {
     "name": "stdout",
     "output_type": "stream",
     "text": [
      "         Year  Month  DayofMonth  DepTime  CRSDepTime UniqueCarrier  AirTime  \\\n",
      "0        2008      1           3   2003.0        1955            WN    116.0   \n",
      "1        2008      1           3    754.0         735            WN    113.0   \n",
      "2        2008      1           3    628.0         620            WN     76.0   \n",
      "3        2008      1           3   1829.0        1755            WN     77.0   \n",
      "4        2008      1           3   1940.0        1915            WN     87.0   \n",
      "...       ...    ...         ...      ...         ...           ...      ...   \n",
      "1936753  2008     12          13   1250.0        1220            DL    120.0   \n",
      "1936754  2008     12          13    657.0         600            DL     78.0   \n",
      "1936755  2008     12          13   1007.0         847            DL    122.0   \n",
      "1936756  2008     12          13   1251.0        1240            DL     89.0   \n",
      "1936757  2008     12          13   1110.0        1103            DL    104.0   \n",
      "\n",
      "         ArrDelay  DepDelay  Distance  Cancelled     Speed  \n",
      "0           -14.0       8.0       810          0  6.982759  \n",
      "1             2.0      19.0       810          0  7.168142  \n",
      "2            14.0       8.0       515          0  6.776316  \n",
      "3            34.0      34.0       515          0  6.688312  \n",
      "4            11.0      25.0       688          0  7.908046  \n",
      "...           ...       ...       ...        ...       ...  \n",
      "1936753      25.0      30.0       906          0  7.550000  \n",
      "1936754      75.0      57.0       481          0  6.166667  \n",
      "1936755      99.0      80.0       689          0  5.647541  \n",
      "1936756       9.0      11.0       533          0  5.988764  \n",
      "1936757      -5.0       7.0       874          0  8.403846  \n",
      "\n",
      "[1936125 rows x 12 columns]\n"
     ]
    }
   ],
   "source": [
    "print(df)"
   ]
  },
  {
   "cell_type": "code",
   "execution_count": 11,
   "id": "045860a9",
   "metadata": {},
   "outputs": [
    {
     "data": {
      "text/html": [
       "<div>\n",
       "<style scoped>\n",
       "    .dataframe tbody tr th:only-of-type {\n",
       "        vertical-align: middle;\n",
       "    }\n",
       "\n",
       "    .dataframe tbody tr th {\n",
       "        vertical-align: top;\n",
       "    }\n",
       "\n",
       "    .dataframe thead th {\n",
       "        text-align: right;\n",
       "    }\n",
       "</style>\n",
       "<table border=\"1\" class=\"dataframe\">\n",
       "  <thead>\n",
       "    <tr style=\"text-align: right;\">\n",
       "      <th></th>\n",
       "      <th>Distance</th>\n",
       "      <th>AirTime</th>\n",
       "      <th>Speed</th>\n",
       "    </tr>\n",
       "  </thead>\n",
       "  <tbody>\n",
       "    <tr>\n",
       "      <th>count</th>\n",
       "      <td>1.936125e+06</td>\n",
       "      <td>1.928371e+06</td>\n",
       "      <td>1.928371e+06</td>\n",
       "    </tr>\n",
       "    <tr>\n",
       "      <th>mean</th>\n",
       "      <td>7.657387e+02</td>\n",
       "      <td>1.082771e+02</td>\n",
       "      <td>inf</td>\n",
       "    </tr>\n",
       "    <tr>\n",
       "      <th>std</th>\n",
       "      <td>5.744840e+02</td>\n",
       "      <td>6.864261e+01</td>\n",
       "      <td>NaN</td>\n",
       "    </tr>\n",
       "    <tr>\n",
       "      <th>min</th>\n",
       "      <td>1.100000e+01</td>\n",
       "      <td>0.000000e+00</td>\n",
       "      <td>3.548387e-01</td>\n",
       "    </tr>\n",
       "    <tr>\n",
       "      <th>25%</th>\n",
       "      <td>3.380000e+02</td>\n",
       "      <td>5.800000e+01</td>\n",
       "      <td>5.864407e+00</td>\n",
       "    </tr>\n",
       "    <tr>\n",
       "      <th>50%</th>\n",
       "      <td>6.060000e+02</td>\n",
       "      <td>9.000000e+01</td>\n",
       "      <td>6.730337e+00</td>\n",
       "    </tr>\n",
       "    <tr>\n",
       "      <th>75%</th>\n",
       "      <td>9.980000e+02</td>\n",
       "      <td>1.370000e+02</td>\n",
       "      <td>7.469136e+00</td>\n",
       "    </tr>\n",
       "    <tr>\n",
       "      <th>max</th>\n",
       "      <td>4.962000e+03</td>\n",
       "      <td>1.091000e+03</td>\n",
       "      <td>inf</td>\n",
       "    </tr>\n",
       "  </tbody>\n",
       "</table>\n",
       "</div>"
      ],
      "text/plain": [
       "           Distance       AirTime         Speed\n",
       "count  1.936125e+06  1.928371e+06  1.928371e+06\n",
       "mean   7.657387e+02  1.082771e+02           inf\n",
       "std    5.744840e+02  6.864261e+01           NaN\n",
       "min    1.100000e+01  0.000000e+00  3.548387e-01\n",
       "25%    3.380000e+02  5.800000e+01  5.864407e+00\n",
       "50%    6.060000e+02  9.000000e+01  6.730337e+00\n",
       "75%    9.980000e+02  1.370000e+02  7.469136e+00\n",
       "max    4.962000e+03  1.091000e+03           inf"
      ]
     },
     "execution_count": 11,
     "metadata": {},
     "output_type": "execute_result"
    }
   ],
   "source": [
    "# check if values are maningful \n",
    "df[['Distance', 'AirTime', 'Speed']].describe()   # notice double ["
   ]
  },
  {
   "cell_type": "code",
   "execution_count": 12,
   "id": "bb440959",
   "metadata": {},
   "outputs": [
    {
     "ename": "ValueError",
     "evalue": "supplied range of [0.3548387096774194, inf] is not finite",
     "output_type": "error",
     "traceback": [
      "\u001b[0;31m---------------------------------------------------------------------------\u001b[0m",
      "\u001b[0;31mValueError\u001b[0m                                Traceback (most recent call last)",
      "\u001b[1;32m/home/su/workspace/python/ciencia_dades_python/CDP_M1_T01_numpy/M1_T02_dataframe.ipynb Cell 17'\u001b[0m in \u001b[0;36m<module>\u001b[0;34m\u001b[0m\n\u001b[1;32m      <a href='vscode-notebook-cell:/home/su/workspace/python/ciencia_dades_python/CDP_M1_T01_numpy/M1_T02_dataframe.ipynb#ch0000015?line=0'>1</a>\u001b[0m \u001b[39m# infinite values force me to filter the \u001b[39;00m\n\u001b[1;32m      <a href='vscode-notebook-cell:/home/su/workspace/python/ciencia_dades_python/CDP_M1_T01_numpy/M1_T02_dataframe.ipynb#ch0000015?line=1'>2</a>\u001b[0m \u001b[39m# visual inspect\u001b[39;00m\n\u001b[0;32m----> <a href='vscode-notebook-cell:/home/su/workspace/python/ciencia_dades_python/CDP_M1_T01_numpy/M1_T02_dataframe.ipynb#ch0000015?line=2'>3</a>\u001b[0m df[[\u001b[39m'\u001b[39;49m\u001b[39mDistance\u001b[39;49m\u001b[39m'\u001b[39;49m, \u001b[39m'\u001b[39;49m\u001b[39mAirTime\u001b[39;49m\u001b[39m'\u001b[39;49m, \u001b[39m'\u001b[39;49m\u001b[39mSpeed\u001b[39;49m\u001b[39m'\u001b[39;49m]]\u001b[39m.\u001b[39;49mhist()\n",
      "File \u001b[0;32m~/workspace/python/ciencia_dades_python/CDP_M1_T01_numpy/cdp_venv/lib/python3.9/site-packages/pandas/plotting/_core.py:226\u001b[0m, in \u001b[0;36mhist_frame\u001b[0;34m(data, column, by, grid, xlabelsize, xrot, ylabelsize, yrot, ax, sharex, sharey, figsize, layout, bins, backend, legend, **kwargs)\u001b[0m\n\u001b[1;32m    <a href='file:///~/workspace/python/ciencia_dades_python/CDP_M1_T01_numpy/cdp_venv/lib/python3.9/site-packages/pandas/plotting/_core.py?line=134'>135</a>\u001b[0m \u001b[39m\"\"\"\u001b[39;00m\n\u001b[1;32m    <a href='file:///~/workspace/python/ciencia_dades_python/CDP_M1_T01_numpy/cdp_venv/lib/python3.9/site-packages/pandas/plotting/_core.py?line=135'>136</a>\u001b[0m \u001b[39mMake a histogram of the DataFrame's columns.\u001b[39;00m\n\u001b[1;32m    <a href='file:///~/workspace/python/ciencia_dades_python/CDP_M1_T01_numpy/cdp_venv/lib/python3.9/site-packages/pandas/plotting/_core.py?line=136'>137</a>\u001b[0m \n\u001b[0;32m   (...)\u001b[0m\n\u001b[1;32m    <a href='file:///~/workspace/python/ciencia_dades_python/CDP_M1_T01_numpy/cdp_venv/lib/python3.9/site-packages/pandas/plotting/_core.py?line=222'>223</a>\u001b[0m \u001b[39m    >>> hist = df.hist(bins=3)\u001b[39;00m\n\u001b[1;32m    <a href='file:///~/workspace/python/ciencia_dades_python/CDP_M1_T01_numpy/cdp_venv/lib/python3.9/site-packages/pandas/plotting/_core.py?line=223'>224</a>\u001b[0m \u001b[39m\"\"\"\u001b[39;00m\n\u001b[1;32m    <a href='file:///~/workspace/python/ciencia_dades_python/CDP_M1_T01_numpy/cdp_venv/lib/python3.9/site-packages/pandas/plotting/_core.py?line=224'>225</a>\u001b[0m plot_backend \u001b[39m=\u001b[39m _get_plot_backend(backend)\n\u001b[0;32m--> <a href='file:///~/workspace/python/ciencia_dades_python/CDP_M1_T01_numpy/cdp_venv/lib/python3.9/site-packages/pandas/plotting/_core.py?line=225'>226</a>\u001b[0m \u001b[39mreturn\u001b[39;00m plot_backend\u001b[39m.\u001b[39;49mhist_frame(\n\u001b[1;32m    <a href='file:///~/workspace/python/ciencia_dades_python/CDP_M1_T01_numpy/cdp_venv/lib/python3.9/site-packages/pandas/plotting/_core.py?line=226'>227</a>\u001b[0m     data,\n\u001b[1;32m    <a href='file:///~/workspace/python/ciencia_dades_python/CDP_M1_T01_numpy/cdp_venv/lib/python3.9/site-packages/pandas/plotting/_core.py?line=227'>228</a>\u001b[0m     column\u001b[39m=\u001b[39;49mcolumn,\n\u001b[1;32m    <a href='file:///~/workspace/python/ciencia_dades_python/CDP_M1_T01_numpy/cdp_venv/lib/python3.9/site-packages/pandas/plotting/_core.py?line=228'>229</a>\u001b[0m     by\u001b[39m=\u001b[39;49mby,\n\u001b[1;32m    <a href='file:///~/workspace/python/ciencia_dades_python/CDP_M1_T01_numpy/cdp_venv/lib/python3.9/site-packages/pandas/plotting/_core.py?line=229'>230</a>\u001b[0m     grid\u001b[39m=\u001b[39;49mgrid,\n\u001b[1;32m    <a href='file:///~/workspace/python/ciencia_dades_python/CDP_M1_T01_numpy/cdp_venv/lib/python3.9/site-packages/pandas/plotting/_core.py?line=230'>231</a>\u001b[0m     xlabelsize\u001b[39m=\u001b[39;49mxlabelsize,\n\u001b[1;32m    <a href='file:///~/workspace/python/ciencia_dades_python/CDP_M1_T01_numpy/cdp_venv/lib/python3.9/site-packages/pandas/plotting/_core.py?line=231'>232</a>\u001b[0m     xrot\u001b[39m=\u001b[39;49mxrot,\n\u001b[1;32m    <a href='file:///~/workspace/python/ciencia_dades_python/CDP_M1_T01_numpy/cdp_venv/lib/python3.9/site-packages/pandas/plotting/_core.py?line=232'>233</a>\u001b[0m     ylabelsize\u001b[39m=\u001b[39;49mylabelsize,\n\u001b[1;32m    <a href='file:///~/workspace/python/ciencia_dades_python/CDP_M1_T01_numpy/cdp_venv/lib/python3.9/site-packages/pandas/plotting/_core.py?line=233'>234</a>\u001b[0m     yrot\u001b[39m=\u001b[39;49myrot,\n\u001b[1;32m    <a href='file:///~/workspace/python/ciencia_dades_python/CDP_M1_T01_numpy/cdp_venv/lib/python3.9/site-packages/pandas/plotting/_core.py?line=234'>235</a>\u001b[0m     ax\u001b[39m=\u001b[39;49max,\n\u001b[1;32m    <a href='file:///~/workspace/python/ciencia_dades_python/CDP_M1_T01_numpy/cdp_venv/lib/python3.9/site-packages/pandas/plotting/_core.py?line=235'>236</a>\u001b[0m     sharex\u001b[39m=\u001b[39;49msharex,\n\u001b[1;32m    <a href='file:///~/workspace/python/ciencia_dades_python/CDP_M1_T01_numpy/cdp_venv/lib/python3.9/site-packages/pandas/plotting/_core.py?line=236'>237</a>\u001b[0m     sharey\u001b[39m=\u001b[39;49msharey,\n\u001b[1;32m    <a href='file:///~/workspace/python/ciencia_dades_python/CDP_M1_T01_numpy/cdp_venv/lib/python3.9/site-packages/pandas/plotting/_core.py?line=237'>238</a>\u001b[0m     figsize\u001b[39m=\u001b[39;49mfigsize,\n\u001b[1;32m    <a href='file:///~/workspace/python/ciencia_dades_python/CDP_M1_T01_numpy/cdp_venv/lib/python3.9/site-packages/pandas/plotting/_core.py?line=238'>239</a>\u001b[0m     layout\u001b[39m=\u001b[39;49mlayout,\n\u001b[1;32m    <a href='file:///~/workspace/python/ciencia_dades_python/CDP_M1_T01_numpy/cdp_venv/lib/python3.9/site-packages/pandas/plotting/_core.py?line=239'>240</a>\u001b[0m     legend\u001b[39m=\u001b[39;49mlegend,\n\u001b[1;32m    <a href='file:///~/workspace/python/ciencia_dades_python/CDP_M1_T01_numpy/cdp_venv/lib/python3.9/site-packages/pandas/plotting/_core.py?line=240'>241</a>\u001b[0m     bins\u001b[39m=\u001b[39;49mbins,\n\u001b[1;32m    <a href='file:///~/workspace/python/ciencia_dades_python/CDP_M1_T01_numpy/cdp_venv/lib/python3.9/site-packages/pandas/plotting/_core.py?line=241'>242</a>\u001b[0m     \u001b[39m*\u001b[39;49m\u001b[39m*\u001b[39;49mkwargs,\n\u001b[1;32m    <a href='file:///~/workspace/python/ciencia_dades_python/CDP_M1_T01_numpy/cdp_venv/lib/python3.9/site-packages/pandas/plotting/_core.py?line=242'>243</a>\u001b[0m )\n",
      "File \u001b[0;32m~/workspace/python/ciencia_dades_python/CDP_M1_T01_numpy/cdp_venv/lib/python3.9/site-packages/pandas/plotting/_matplotlib/hist.py:501\u001b[0m, in \u001b[0;36mhist_frame\u001b[0;34m(data, column, by, grid, xlabelsize, xrot, ylabelsize, yrot, ax, sharex, sharey, figsize, layout, bins, legend, **kwds)\u001b[0m\n\u001b[1;32m    <a href='file:///~/workspace/python/ciencia_dades_python/CDP_M1_T01_numpy/cdp_venv/lib/python3.9/site-packages/pandas/plotting/_matplotlib/hist.py?line=498'>499</a>\u001b[0m \u001b[39mif\u001b[39;00m legend \u001b[39mand\u001b[39;00m can_set_label:\n\u001b[1;32m    <a href='file:///~/workspace/python/ciencia_dades_python/CDP_M1_T01_numpy/cdp_venv/lib/python3.9/site-packages/pandas/plotting/_matplotlib/hist.py?line=499'>500</a>\u001b[0m     kwds[\u001b[39m\"\u001b[39m\u001b[39mlabel\u001b[39m\u001b[39m\"\u001b[39m] \u001b[39m=\u001b[39m col\n\u001b[0;32m--> <a href='file:///~/workspace/python/ciencia_dades_python/CDP_M1_T01_numpy/cdp_venv/lib/python3.9/site-packages/pandas/plotting/_matplotlib/hist.py?line=500'>501</a>\u001b[0m ax\u001b[39m.\u001b[39;49mhist(data[col]\u001b[39m.\u001b[39;49mdropna()\u001b[39m.\u001b[39;49mvalues, bins\u001b[39m=\u001b[39;49mbins, \u001b[39m*\u001b[39;49m\u001b[39m*\u001b[39;49mkwds)\n\u001b[1;32m    <a href='file:///~/workspace/python/ciencia_dades_python/CDP_M1_T01_numpy/cdp_venv/lib/python3.9/site-packages/pandas/plotting/_matplotlib/hist.py?line=501'>502</a>\u001b[0m ax\u001b[39m.\u001b[39mset_title(col)\n\u001b[1;32m    <a href='file:///~/workspace/python/ciencia_dades_python/CDP_M1_T01_numpy/cdp_venv/lib/python3.9/site-packages/pandas/plotting/_matplotlib/hist.py?line=502'>503</a>\u001b[0m ax\u001b[39m.\u001b[39mgrid(grid)\n",
      "File \u001b[0;32m~/workspace/python/ciencia_dades_python/CDP_M1_T01_numpy/cdp_venv/lib/python3.9/site-packages/matplotlib/__init__.py:1412\u001b[0m, in \u001b[0;36m_preprocess_data.<locals>.inner\u001b[0;34m(ax, data, *args, **kwargs)\u001b[0m\n\u001b[1;32m   <a href='file:///~/workspace/python/ciencia_dades_python/CDP_M1_T01_numpy/cdp_venv/lib/python3.9/site-packages/matplotlib/__init__.py?line=1408'>1409</a>\u001b[0m \u001b[39m@functools\u001b[39m\u001b[39m.\u001b[39mwraps(func)\n\u001b[1;32m   <a href='file:///~/workspace/python/ciencia_dades_python/CDP_M1_T01_numpy/cdp_venv/lib/python3.9/site-packages/matplotlib/__init__.py?line=1409'>1410</a>\u001b[0m \u001b[39mdef\u001b[39;00m \u001b[39minner\u001b[39m(ax, \u001b[39m*\u001b[39margs, data\u001b[39m=\u001b[39m\u001b[39mNone\u001b[39;00m, \u001b[39m*\u001b[39m\u001b[39m*\u001b[39mkwargs):\n\u001b[1;32m   <a href='file:///~/workspace/python/ciencia_dades_python/CDP_M1_T01_numpy/cdp_venv/lib/python3.9/site-packages/matplotlib/__init__.py?line=1410'>1411</a>\u001b[0m     \u001b[39mif\u001b[39;00m data \u001b[39mis\u001b[39;00m \u001b[39mNone\u001b[39;00m:\n\u001b[0;32m-> <a href='file:///~/workspace/python/ciencia_dades_python/CDP_M1_T01_numpy/cdp_venv/lib/python3.9/site-packages/matplotlib/__init__.py?line=1411'>1412</a>\u001b[0m         \u001b[39mreturn\u001b[39;00m func(ax, \u001b[39m*\u001b[39;49m\u001b[39mmap\u001b[39;49m(sanitize_sequence, args), \u001b[39m*\u001b[39;49m\u001b[39m*\u001b[39;49mkwargs)\n\u001b[1;32m   <a href='file:///~/workspace/python/ciencia_dades_python/CDP_M1_T01_numpy/cdp_venv/lib/python3.9/site-packages/matplotlib/__init__.py?line=1413'>1414</a>\u001b[0m     bound \u001b[39m=\u001b[39m new_sig\u001b[39m.\u001b[39mbind(ax, \u001b[39m*\u001b[39margs, \u001b[39m*\u001b[39m\u001b[39m*\u001b[39mkwargs)\n\u001b[1;32m   <a href='file:///~/workspace/python/ciencia_dades_python/CDP_M1_T01_numpy/cdp_venv/lib/python3.9/site-packages/matplotlib/__init__.py?line=1414'>1415</a>\u001b[0m     auto_label \u001b[39m=\u001b[39m (bound\u001b[39m.\u001b[39marguments\u001b[39m.\u001b[39mget(label_namer)\n\u001b[1;32m   <a href='file:///~/workspace/python/ciencia_dades_python/CDP_M1_T01_numpy/cdp_venv/lib/python3.9/site-packages/matplotlib/__init__.py?line=1415'>1416</a>\u001b[0m                   \u001b[39mor\u001b[39;00m bound\u001b[39m.\u001b[39mkwargs\u001b[39m.\u001b[39mget(label_namer))\n",
      "File \u001b[0;32m~/workspace/python/ciencia_dades_python/CDP_M1_T01_numpy/cdp_venv/lib/python3.9/site-packages/matplotlib/axes/_axes.py:6639\u001b[0m, in \u001b[0;36mAxes.hist\u001b[0;34m(self, x, bins, range, density, weights, cumulative, bottom, histtype, align, orientation, rwidth, log, color, label, stacked, **kwargs)\u001b[0m\n\u001b[1;32m   <a href='file:///~/workspace/python/ciencia_dades_python/CDP_M1_T01_numpy/cdp_venv/lib/python3.9/site-packages/matplotlib/axes/_axes.py?line=6634'>6635</a>\u001b[0m \u001b[39m# Loop through datasets\u001b[39;00m\n\u001b[1;32m   <a href='file:///~/workspace/python/ciencia_dades_python/CDP_M1_T01_numpy/cdp_venv/lib/python3.9/site-packages/matplotlib/axes/_axes.py?line=6635'>6636</a>\u001b[0m \u001b[39mfor\u001b[39;00m i \u001b[39min\u001b[39;00m \u001b[39mrange\u001b[39m(nx):\n\u001b[1;32m   <a href='file:///~/workspace/python/ciencia_dades_python/CDP_M1_T01_numpy/cdp_venv/lib/python3.9/site-packages/matplotlib/axes/_axes.py?line=6636'>6637</a>\u001b[0m     \u001b[39m# this will automatically overwrite bins,\u001b[39;00m\n\u001b[1;32m   <a href='file:///~/workspace/python/ciencia_dades_python/CDP_M1_T01_numpy/cdp_venv/lib/python3.9/site-packages/matplotlib/axes/_axes.py?line=6637'>6638</a>\u001b[0m     \u001b[39m# so that each histogram uses the same bins\u001b[39;00m\n\u001b[0;32m-> <a href='file:///~/workspace/python/ciencia_dades_python/CDP_M1_T01_numpy/cdp_venv/lib/python3.9/site-packages/matplotlib/axes/_axes.py?line=6638'>6639</a>\u001b[0m     m, bins \u001b[39m=\u001b[39m np\u001b[39m.\u001b[39;49mhistogram(x[i], bins, weights\u001b[39m=\u001b[39;49mw[i], \u001b[39m*\u001b[39;49m\u001b[39m*\u001b[39;49mhist_kwargs)\n\u001b[1;32m   <a href='file:///~/workspace/python/ciencia_dades_python/CDP_M1_T01_numpy/cdp_venv/lib/python3.9/site-packages/matplotlib/axes/_axes.py?line=6639'>6640</a>\u001b[0m     tops\u001b[39m.\u001b[39mappend(m)\n\u001b[1;32m   <a href='file:///~/workspace/python/ciencia_dades_python/CDP_M1_T01_numpy/cdp_venv/lib/python3.9/site-packages/matplotlib/axes/_axes.py?line=6640'>6641</a>\u001b[0m tops \u001b[39m=\u001b[39m np\u001b[39m.\u001b[39marray(tops, \u001b[39mfloat\u001b[39m)  \u001b[39m# causes problems later if it's an int\u001b[39;00m\n",
      "File \u001b[0;32m<__array_function__ internals>:180\u001b[0m, in \u001b[0;36mhistogram\u001b[0;34m(*args, **kwargs)\u001b[0m\n",
      "File \u001b[0;32m~/workspace/python/ciencia_dades_python/CDP_M1_T01_numpy/cdp_venv/lib/python3.9/site-packages/numpy/lib/histograms.py:793\u001b[0m, in \u001b[0;36mhistogram\u001b[0;34m(a, bins, range, normed, weights, density)\u001b[0m\n\u001b[1;32m    <a href='file:///~/workspace/python/ciencia_dades_python/CDP_M1_T01_numpy/cdp_venv/lib/python3.9/site-packages/numpy/lib/histograms.py?line=680'>681</a>\u001b[0m \u001b[39mr\u001b[39m\u001b[39m\"\"\"\u001b[39;00m\n\u001b[1;32m    <a href='file:///~/workspace/python/ciencia_dades_python/CDP_M1_T01_numpy/cdp_venv/lib/python3.9/site-packages/numpy/lib/histograms.py?line=681'>682</a>\u001b[0m \u001b[39mCompute the histogram of a dataset.\u001b[39;00m\n\u001b[1;32m    <a href='file:///~/workspace/python/ciencia_dades_python/CDP_M1_T01_numpy/cdp_venv/lib/python3.9/site-packages/numpy/lib/histograms.py?line=682'>683</a>\u001b[0m \n\u001b[0;32m   (...)\u001b[0m\n\u001b[1;32m    <a href='file:///~/workspace/python/ciencia_dades_python/CDP_M1_T01_numpy/cdp_venv/lib/python3.9/site-packages/numpy/lib/histograms.py?line=788'>789</a>\u001b[0m \n\u001b[1;32m    <a href='file:///~/workspace/python/ciencia_dades_python/CDP_M1_T01_numpy/cdp_venv/lib/python3.9/site-packages/numpy/lib/histograms.py?line=789'>790</a>\u001b[0m \u001b[39m\"\"\"\u001b[39;00m\n\u001b[1;32m    <a href='file:///~/workspace/python/ciencia_dades_python/CDP_M1_T01_numpy/cdp_venv/lib/python3.9/site-packages/numpy/lib/histograms.py?line=790'>791</a>\u001b[0m a, weights \u001b[39m=\u001b[39m _ravel_and_check_weights(a, weights)\n\u001b[0;32m--> <a href='file:///~/workspace/python/ciencia_dades_python/CDP_M1_T01_numpy/cdp_venv/lib/python3.9/site-packages/numpy/lib/histograms.py?line=792'>793</a>\u001b[0m bin_edges, uniform_bins \u001b[39m=\u001b[39m _get_bin_edges(a, bins, \u001b[39mrange\u001b[39;49m, weights)\n\u001b[1;32m    <a href='file:///~/workspace/python/ciencia_dades_python/CDP_M1_T01_numpy/cdp_venv/lib/python3.9/site-packages/numpy/lib/histograms.py?line=794'>795</a>\u001b[0m \u001b[39m# Histogram is an integer or a float array depending on the weights.\u001b[39;00m\n\u001b[1;32m    <a href='file:///~/workspace/python/ciencia_dades_python/CDP_M1_T01_numpy/cdp_venv/lib/python3.9/site-packages/numpy/lib/histograms.py?line=795'>796</a>\u001b[0m \u001b[39mif\u001b[39;00m weights \u001b[39mis\u001b[39;00m \u001b[39mNone\u001b[39;00m:\n",
      "File \u001b[0;32m~/workspace/python/ciencia_dades_python/CDP_M1_T01_numpy/cdp_venv/lib/python3.9/site-packages/numpy/lib/histograms.py:426\u001b[0m, in \u001b[0;36m_get_bin_edges\u001b[0;34m(a, bins, range, weights)\u001b[0m\n\u001b[1;32m    <a href='file:///~/workspace/python/ciencia_dades_python/CDP_M1_T01_numpy/cdp_venv/lib/python3.9/site-packages/numpy/lib/histograms.py?line=422'>423</a>\u001b[0m     \u001b[39mif\u001b[39;00m n_equal_bins \u001b[39m<\u001b[39m \u001b[39m1\u001b[39m:\n\u001b[1;32m    <a href='file:///~/workspace/python/ciencia_dades_python/CDP_M1_T01_numpy/cdp_venv/lib/python3.9/site-packages/numpy/lib/histograms.py?line=423'>424</a>\u001b[0m         \u001b[39mraise\u001b[39;00m \u001b[39mValueError\u001b[39;00m(\u001b[39m'\u001b[39m\u001b[39m`bins` must be positive, when an integer\u001b[39m\u001b[39m'\u001b[39m)\n\u001b[0;32m--> <a href='file:///~/workspace/python/ciencia_dades_python/CDP_M1_T01_numpy/cdp_venv/lib/python3.9/site-packages/numpy/lib/histograms.py?line=425'>426</a>\u001b[0m     first_edge, last_edge \u001b[39m=\u001b[39m _get_outer_edges(a, \u001b[39mrange\u001b[39;49m)\n\u001b[1;32m    <a href='file:///~/workspace/python/ciencia_dades_python/CDP_M1_T01_numpy/cdp_venv/lib/python3.9/site-packages/numpy/lib/histograms.py?line=427'>428</a>\u001b[0m \u001b[39melif\u001b[39;00m np\u001b[39m.\u001b[39mndim(bins) \u001b[39m==\u001b[39m \u001b[39m1\u001b[39m:\n\u001b[1;32m    <a href='file:///~/workspace/python/ciencia_dades_python/CDP_M1_T01_numpy/cdp_venv/lib/python3.9/site-packages/numpy/lib/histograms.py?line=428'>429</a>\u001b[0m     bin_edges \u001b[39m=\u001b[39m np\u001b[39m.\u001b[39masarray(bins)\n",
      "File \u001b[0;32m~/workspace/python/ciencia_dades_python/CDP_M1_T01_numpy/cdp_venv/lib/python3.9/site-packages/numpy/lib/histograms.py:315\u001b[0m, in \u001b[0;36m_get_outer_edges\u001b[0;34m(a, range)\u001b[0m\n\u001b[1;32m    <a href='file:///~/workspace/python/ciencia_dades_python/CDP_M1_T01_numpy/cdp_venv/lib/python3.9/site-packages/numpy/lib/histograms.py?line=311'>312</a>\u001b[0m         \u001b[39mraise\u001b[39;00m \u001b[39mValueError\u001b[39;00m(\n\u001b[1;32m    <a href='file:///~/workspace/python/ciencia_dades_python/CDP_M1_T01_numpy/cdp_venv/lib/python3.9/site-packages/numpy/lib/histograms.py?line=312'>313</a>\u001b[0m             \u001b[39m'\u001b[39m\u001b[39mmax must be larger than min in range parameter.\u001b[39m\u001b[39m'\u001b[39m)\n\u001b[1;32m    <a href='file:///~/workspace/python/ciencia_dades_python/CDP_M1_T01_numpy/cdp_venv/lib/python3.9/site-packages/numpy/lib/histograms.py?line=313'>314</a>\u001b[0m     \u001b[39mif\u001b[39;00m \u001b[39mnot\u001b[39;00m (np\u001b[39m.\u001b[39misfinite(first_edge) \u001b[39mand\u001b[39;00m np\u001b[39m.\u001b[39misfinite(last_edge)):\n\u001b[0;32m--> <a href='file:///~/workspace/python/ciencia_dades_python/CDP_M1_T01_numpy/cdp_venv/lib/python3.9/site-packages/numpy/lib/histograms.py?line=314'>315</a>\u001b[0m         \u001b[39mraise\u001b[39;00m \u001b[39mValueError\u001b[39;00m(\n\u001b[1;32m    <a href='file:///~/workspace/python/ciencia_dades_python/CDP_M1_T01_numpy/cdp_venv/lib/python3.9/site-packages/numpy/lib/histograms.py?line=315'>316</a>\u001b[0m             \u001b[39m\"\u001b[39m\u001b[39msupplied range of [\u001b[39m\u001b[39m{}\u001b[39;00m\u001b[39m, \u001b[39m\u001b[39m{}\u001b[39;00m\u001b[39m] is not finite\u001b[39m\u001b[39m\"\u001b[39m\u001b[39m.\u001b[39mformat(first_edge, last_edge))\n\u001b[1;32m    <a href='file:///~/workspace/python/ciencia_dades_python/CDP_M1_T01_numpy/cdp_venv/lib/python3.9/site-packages/numpy/lib/histograms.py?line=316'>317</a>\u001b[0m \u001b[39melif\u001b[39;00m a\u001b[39m.\u001b[39msize \u001b[39m==\u001b[39m \u001b[39m0\u001b[39m:\n\u001b[1;32m    <a href='file:///~/workspace/python/ciencia_dades_python/CDP_M1_T01_numpy/cdp_venv/lib/python3.9/site-packages/numpy/lib/histograms.py?line=317'>318</a>\u001b[0m     \u001b[39m# handle empty arrays. Can't determine range, so use 0-1.\u001b[39;00m\n\u001b[1;32m    <a href='file:///~/workspace/python/ciencia_dades_python/CDP_M1_T01_numpy/cdp_venv/lib/python3.9/site-packages/numpy/lib/histograms.py?line=318'>319</a>\u001b[0m     first_edge, last_edge \u001b[39m=\u001b[39m \u001b[39m0\u001b[39m, \u001b[39m1\u001b[39m\n",
      "\u001b[0;31mValueError\u001b[0m: supplied range of [0.3548387096774194, inf] is not finite"
     ]
    },
    {
     "data": {
      "image/png": "[encoded data removed]",
      "text/plain": [
       "<Figure size 432x288 with 4 Axes>"
      ]
     },
     "metadata": {
      "needs_background": "light"
     },
     "output_type": "display_data"
    }
   ],
   "source": [
    "# infinite values force me to filter the \n",
    "# visual inspect\n",
    "df[['Distance', 'AirTime', 'Speed']].hist()"
   ]
  },
  {
   "cell_type": "code",
   "execution_count": 13,
   "id": "1665f856",
   "metadata": {},
   "outputs": [],
   "source": [
    "# avoid 0 flight values\n",
    "df = df[df['AirTime'] > 0]\n"
   ]
  },
  {
   "cell_type": "code",
   "execution_count": 14,
   "id": "6b999723",
   "metadata": {},
   "outputs": [],
   "source": [
    "df['Speed'] = df['Distance']/df['AirTime'] "
   ]
  },
  {
   "cell_type": "code",
   "execution_count": 15,
   "id": "2b2d83a8",
   "metadata": {},
   "outputs": [
    {
     "data": {
      "text/plain": [
       "array([[<AxesSubplot:title={'center':'Distance'}>,\n",
       "        <AxesSubplot:title={'center':'AirTime'}>],\n",
       "       [<AxesSubplot:title={'center':'Speed'}>, <AxesSubplot:>]],\n",
       "      dtype=object)"
      ]
     },
     "execution_count": 15,
     "metadata": {},
     "output_type": "execute_result"
    },
    {
     "data": {
      "image/png": "[encoded data removed]",
      "text/plain": [
       "<Figure size 432x288 with 4 Axes>"
      ]
     },
     "metadata": {
      "needs_background": "light"
     },
     "output_type": "display_data"
    }
   ],
   "source": [
    "df[['Distance', 'AirTime', 'Speed']].hist()"
   ]
  },
  {
   "cell_type": "code",
   "execution_count": 16,
   "id": "67f395e4",
   "metadata": {},
   "outputs": [
    {
     "data": {
      "text/plain": [
       "count    1.928364e+06\n",
       "mean     6.615878e+00\n",
       "std      1.625243e+00\n",
       "min      3.548387e-01\n",
       "25%      5.864407e+00\n",
       "50%      6.730337e+00\n",
       "75%      7.469136e+00\n",
       "max      9.320000e+02\n",
       "Name: Speed, dtype: float64"
      ]
     },
     "execution_count": 16,
     "metadata": {},
     "output_type": "execute_result"
    }
   ],
   "source": [
    "df['Speed'].describe()"
   ]
  },
  {
   "cell_type": "code",
   "execution_count": 18,
   "id": "663c435e",
   "metadata": {},
   "outputs": [
    {
     "data": {
      "text/html": [
       "<div>\n",
       "<style scoped>\n",
       "    .dataframe tbody tr th:only-of-type {\n",
       "        vertical-align: middle;\n",
       "    }\n",
       "\n",
       "    .dataframe tbody tr th {\n",
       "        vertical-align: top;\n",
       "    }\n",
       "\n",
       "    .dataframe thead th {\n",
       "        text-align: right;\n",
       "    }\n",
       "</style>\n",
       "<table border=\"1\" class=\"dataframe\">\n",
       "  <thead>\n",
       "    <tr style=\"text-align: right;\">\n",
       "      <th></th>\n",
       "      <th>Distance</th>\n",
       "      <th>AirTime</th>\n",
       "      <th>Speed</th>\n",
       "    </tr>\n",
       "  </thead>\n",
       "  <tbody>\n",
       "    <tr>\n",
       "      <th>774654</th>\n",
       "      <td>11</td>\n",
       "      <td>31.0</td>\n",
       "      <td>0.354839</td>\n",
       "    </tr>\n",
       "    <tr>\n",
       "      <th>939427</th>\n",
       "      <td>94</td>\n",
       "      <td>170.0</td>\n",
       "      <td>0.552941</td>\n",
       "    </tr>\n",
       "    <tr>\n",
       "      <th>303042</th>\n",
       "      <td>102</td>\n",
       "      <td>182.0</td>\n",
       "      <td>0.560440</td>\n",
       "    </tr>\n",
       "    <tr>\n",
       "      <th>940429</th>\n",
       "      <td>187</td>\n",
       "      <td>321.0</td>\n",
       "      <td>0.582555</td>\n",
       "    </tr>\n",
       "    <tr>\n",
       "      <th>239253</th>\n",
       "      <td>201</td>\n",
       "      <td>335.0</td>\n",
       "      <td>0.600000</td>\n",
       "    </tr>\n",
       "  </tbody>\n",
       "</table>\n",
       "</div>"
      ],
      "text/plain": [
       "        Distance  AirTime     Speed\n",
       "774654        11     31.0  0.354839\n",
       "939427        94    170.0  0.552941\n",
       "303042       102    182.0  0.560440\n",
       "940429       187    321.0  0.582555\n",
       "239253       201    335.0  0.600000"
      ]
     },
     "execution_count": 18,
     "metadata": {},
     "output_type": "execute_result"
    }
   ],
   "source": [
    "df[['Distance', 'AirTime', 'Speed']].sort_values(by='Speed').head()"
   ]
  },
  {
   "cell_type": "code",
   "execution_count": 19,
   "id": "5eab9f9e",
   "metadata": {},
   "outputs": [
    {
     "data": {
      "text/html": [
       "<div>\n",
       "<style scoped>\n",
       "    .dataframe tbody tr th:only-of-type {\n",
       "        vertical-align: middle;\n",
       "    }\n",
       "\n",
       "    .dataframe tbody tr th {\n",
       "        vertical-align: top;\n",
       "    }\n",
       "\n",
       "    .dataframe thead th {\n",
       "        text-align: right;\n",
       "    }\n",
       "</style>\n",
       "<table border=\"1\" class=\"dataframe\">\n",
       "  <thead>\n",
       "    <tr style=\"text-align: right;\">\n",
       "      <th></th>\n",
       "      <th>Distance</th>\n",
       "      <th>AirTime</th>\n",
       "      <th>Speed</th>\n",
       "    </tr>\n",
       "  </thead>\n",
       "  <tbody>\n",
       "    <tr>\n",
       "      <th>782709</th>\n",
       "      <td>267</td>\n",
       "      <td>1.0</td>\n",
       "      <td>267.0</td>\n",
       "    </tr>\n",
       "    <tr>\n",
       "      <th>1248647</th>\n",
       "      <td>274</td>\n",
       "      <td>1.0</td>\n",
       "      <td>274.0</td>\n",
       "    </tr>\n",
       "    <tr>\n",
       "      <th>615069</th>\n",
       "      <td>461</td>\n",
       "      <td>1.0</td>\n",
       "      <td>461.0</td>\n",
       "    </tr>\n",
       "    <tr>\n",
       "      <th>919536</th>\n",
       "      <td>710</td>\n",
       "      <td>1.0</td>\n",
       "      <td>710.0</td>\n",
       "    </tr>\n",
       "    <tr>\n",
       "      <th>1178266</th>\n",
       "      <td>932</td>\n",
       "      <td>1.0</td>\n",
       "      <td>932.0</td>\n",
       "    </tr>\n",
       "  </tbody>\n",
       "</table>\n",
       "</div>"
      ],
      "text/plain": [
       "         Distance  AirTime  Speed\n",
       "782709        267      1.0  267.0\n",
       "1248647       274      1.0  274.0\n",
       "615069        461      1.0  461.0\n",
       "919536        710      1.0  710.0\n",
       "1178266       932      1.0  932.0"
      ]
     },
     "execution_count": 19,
     "metadata": {},
     "output_type": "execute_result"
    }
   ],
   "source": [
    "df[['Distance', 'AirTime', 'Speed']].sort_values(by='Speed').tail()"
   ]
  },
  {
   "cell_type": "code",
   "execution_count": null,
   "id": "9f71a50c",
   "metadata": {},
   "outputs": [],
   "source": [
    "# TODO\n",
    "# ?? add SI units in the columns (parameters)\n",
    "# comment the cells"
   ]
  },
  {
   "cell_type": "code",
   "execution_count": null,
   "id": "d91b3462",
   "metadata": {},
   "outputs": [],
   "source": [
    "'''   - Create new columns (average flight speed, whether late or not ...)\n",
    "  - Table of airlines with the most accumulated arrears\n",
    "  - What are the longest flights? And the most backward?\n",
    "  - Etc. '''"
   ]
  },
  {
   "cell_type": "code",
   "execution_count": null,
   "metadata": {},
   "outputs": [],
   "source": [
    "# late or not \n",
    "# Create new columns (average flight speed, whether late or not ...)"
   ]
  },
  {
   "cell_type": "code",
   "execution_count": null,
   "id": "2eade388",
   "metadata": {},
   "outputs": [],
   "source": []
  },
  {
   "cell_type": "code",
   "execution_count": null,
   "metadata": {},
   "outputs": [],
   "source": []
  },
  {
   "cell_type": "code",
   "execution_count": null,
   "id": "50f6b762",
   "metadata": {},
   "outputs": [],
   "source": [
    "\n",
    "# Table of airlines with the most accumulated delay\n",
    "\n",
    "# group by sum / count_number_of_flights \n"
   ]
  },
  {
   "cell_type": "code",
   "execution_count": null,
   "id": "047b9261",
   "metadata": {},
   "outputs": [],
   "source": []
  },
  {
   "cell_type": "code",
   "execution_count": null,
   "id": "59356c78",
   "metadata": {},
   "outputs": [],
   "source": [
    "# What are the longest flights? And the most backward?\n",
    "  "
   ]
  },
  {
   "cell_type": "code",
   "execution_count": null,
   "metadata": {},
   "outputs": [],
   "source": []
  },
  {
   "cell_type": "code",
   "execution_count": null,
   "id": "52417280",
   "metadata": {},
   "outputs": [],
   "source": []
  },
  {
   "cell_type": "code",
   "execution_count": null,
   "metadata": {},
   "outputs": [],
   "source": []
  },
  {
   "cell_type": "code",
   "execution_count": 32,
   "id": "focused-species",
   "metadata": {},
   "outputs": [
    {
     "name": "stdout",
     "output_type": "stream",
     "text": [
      "{'speed_min': 0.3548387096774194, 'speed_max': inf}\n",
      "{'speed_min': 0.3548387096774194, 'speed_max': inf}\n"
     ]
    },
    {
     "ename": "AssertionError",
     "evalue": "",
     "output_type": "error",
     "traceback": [
      "\u001b[0;31m---------------------------------------------------------------------------\u001b[0m",
      "\u001b[0;31mAssertionError\u001b[0m                            Traceback (most recent call last)",
      "\u001b[0;32m<ipython-input-32-75063b566e43>\u001b[0m in \u001b[0;36m<module>\u001b[0;34m\u001b[0m\n\u001b[1;32m     48\u001b[0m     \u001b[0;32massert\u001b[0m \u001b[0mget_report\u001b[0m\u001b[0;34m(\u001b[0m\u001b[0mdf\u001b[0m\u001b[0;34m)\u001b[0m\u001b[0;34m[\u001b[0m\u001b[0;34m'speed_max'\u001b[0m\u001b[0;34m]\u001b[0m \u001b[0;34m==\u001b[0m \u001b[0;34m'inf'\u001b[0m\u001b[0;34m\u001b[0m\u001b[0;34m\u001b[0m\u001b[0m\n\u001b[1;32m     49\u001b[0m     \u001b[0;32massert\u001b[0m \u001b[0mget_report\u001b[0m\u001b[0;34m(\u001b[0m\u001b[0mdf\u001b[0m\u001b[0;34m)\u001b[0m\u001b[0;34m[\u001b[0m\u001b[0;34m'stats'\u001b[0m\u001b[0;34m]\u001b[0m\u001b[0;34m[\u001b[0m\u001b[0;34m'missing_values'\u001b[0m\u001b[0;34m]\u001b[0m \u001b[0;34m==\u001b[0m \u001b[0;36m4\u001b[0m\u001b[0;34m\u001b[0m\u001b[0;34m\u001b[0m\u001b[0m\n\u001b[0;32m---> 50\u001b[0;31m \u001b[0mtest_get_report\u001b[0m\u001b[0;34m(\u001b[0m\u001b[0mdf\u001b[0m\u001b[0;34m)\u001b[0m\u001b[0;34m\u001b[0m\u001b[0;34m\u001b[0m\u001b[0m\n\u001b[0m\u001b[1;32m     51\u001b[0m \u001b[0;34m\u001b[0m\u001b[0m\n\u001b[1;32m     52\u001b[0m \u001b[0mprint\u001b[0m\u001b[0;34m(\u001b[0m\u001b[0mdf\u001b[0m\u001b[0;34m)\u001b[0m\u001b[0;34m\u001b[0m\u001b[0;34m\u001b[0m\u001b[0m\n",
      "\u001b[0;32m<ipython-input-32-75063b566e43>\u001b[0m in \u001b[0;36mtest_get_report\u001b[0;34m(df)\u001b[0m\n\u001b[1;32m     46\u001b[0m     \u001b[0;31m# assert get_report(df) == 123\u001b[0m\u001b[0;34m\u001b[0m\u001b[0;34m\u001b[0m\u001b[0;34m\u001b[0m\u001b[0m\n\u001b[1;32m     47\u001b[0m     \u001b[0;32massert\u001b[0m \u001b[0mget_report\u001b[0m\u001b[0;34m(\u001b[0m\u001b[0mdf\u001b[0m\u001b[0;34m)\u001b[0m\u001b[0;34m[\u001b[0m\u001b[0;34m'speed_min'\u001b[0m\u001b[0;34m]\u001b[0m \u001b[0;34m==\u001b[0m \u001b[0;36m0.3548387096774194\u001b[0m\u001b[0;34m\u001b[0m\u001b[0;34m\u001b[0m\u001b[0m\n\u001b[0;32m---> 48\u001b[0;31m     \u001b[0;32massert\u001b[0m \u001b[0mget_report\u001b[0m\u001b[0;34m(\u001b[0m\u001b[0mdf\u001b[0m\u001b[0;34m)\u001b[0m\u001b[0;34m[\u001b[0m\u001b[0;34m'speed_max'\u001b[0m\u001b[0;34m]\u001b[0m \u001b[0;34m==\u001b[0m \u001b[0;34m'inf'\u001b[0m\u001b[0;34m\u001b[0m\u001b[0;34m\u001b[0m\u001b[0m\n\u001b[0m\u001b[1;32m     49\u001b[0m     \u001b[0;32massert\u001b[0m \u001b[0mget_report\u001b[0m\u001b[0;34m(\u001b[0m\u001b[0mdf\u001b[0m\u001b[0;34m)\u001b[0m\u001b[0;34m[\u001b[0m\u001b[0;34m'stats'\u001b[0m\u001b[0;34m]\u001b[0m\u001b[0;34m[\u001b[0m\u001b[0;34m'missing_values'\u001b[0m\u001b[0;34m]\u001b[0m \u001b[0;34m==\u001b[0m \u001b[0;36m4\u001b[0m\u001b[0;34m\u001b[0m\u001b[0;34m\u001b[0m\u001b[0m\n\u001b[1;32m     50\u001b[0m \u001b[0mtest_get_report\u001b[0m\u001b[0;34m(\u001b[0m\u001b[0mdf\u001b[0m\u001b[0;34m)\u001b[0m\u001b[0;34m\u001b[0m\u001b[0;34m\u001b[0m\u001b[0m\n",
      "\u001b[0;31mAssertionError\u001b[0m: "
     ]
    }
   ],
   "source": [
    "def get_report(df: pd.DataFrame) -> dict:\n",
    "    ''' Find how many missing data are per column '''\n",
    "    results = {} \n",
    "    results['stats'] = calc_stats(df)  \n",
    "    speed = calc_speed(df)\n",
    "    results['speed_min'] = speed['speed_min']\n",
    "    results['speed_max'] = speed['speed_max']\n",
    "    results['faster'] = calc_faster_than_expected(df)\n",
    "    return results\n",
    "\n",
    "def calc_stats(df) -> dict:\n",
    "    ''' Summarize the columns of interest statistically'''\n",
    "    stats = {}\n",
    "    stats['total_rows'] = df.shape[0]\n",
    "    stats['missing_values'] = df.isnull().sum().sum()\n",
    "    # print(df.isnull().sum())\n",
    "    # print(stats['missing_values'])\n",
    "    return stats\n",
    "\n",
    "def calc_speed(df: pd.DataFrame) -> dict:\n",
    "    ''' Create new columns average flight speed'''\n",
    "    df['speed'] = df['Distance']/df['AirTime'] \n",
    "    # df.apply(lambda row: row['Distance']/row['AirTime']),\n",
    "    #                      axis = 1)\n",
    "    # print(df['speed'])\n",
    "    res = {\n",
    "        'speed_min': df['speed'].loc[df['speed'].idxmin()], \n",
    "        'speed_max': df['speed'].loc[df['speed'].idxmax()], \n",
    "        # 'speed_avg': df['speed'].loc[df['speed']. \n",
    "    }\n",
    "    # print(speed_min)\n",
    "    print(res)\n",
    "    return res\n",
    "    \n",
    "def calc_late_or_early(df: pd.DataFrame) -> pd.DataFrame:\n",
    "    ''' Create new columns whether late or early '''\n",
    "    pass\n",
    "\n",
    "def calc_faster_than_expected(df: pd.DataFrame) -> None:\n",
    "    ''' difference between 'ArrDelay', 'DepDelay'])'''''\n",
    "    df['faster'] = df['DepDelay'] - df['ArrDelay']\n",
    "    return None\n",
    "\n",
    "\n",
    "def test_get_report(df):\n",
    "    # assert get_report(df) == 123\n",
    "    assert get_report(df)['speed_min'] == 0.3548387096774194\n",
    "    # assert get_report(df)['speed_max'] == 'inf'\n",
    "    assert get_report(df)['stats']['missing_values'] == 4\n",
    "test_get_report(df)\n",
    "\n",
    "print(df)\n"
   ]
  },
  {
   "cell_type": "code",
   "execution_count": 30,
   "id": "9832f72f",
   "metadata": {},
   "outputs": [
    {
     "name": "stdout",
     "output_type": "stream",
     "text": [
      "                 amax       mean        std\n",
      "UniqueCarrier                              \n",
      "9E             1143.0  46.936493  60.304826\n",
      "AA             1525.0  46.561553  61.260747\n",
      "AQ              338.0  21.255376  35.179935\n",
      "AS              948.0  36.060882  50.988451\n",
      "B6              834.0  55.088739  69.240541\n",
      "CO             1017.0  40.568449  58.591637\n",
      "DL             1007.0  39.881507  54.282458\n",
      "EV              940.0  47.554255  59.226485\n",
      "F9              809.0  27.938953  39.533671\n",
      "FL             1175.0  43.683157  55.915851\n",
      "HA             1050.0  34.209449  63.583432\n",
      "MQ             1707.0  45.295058  60.693197\n",
      "NW             2461.0  43.911000  73.013944\n",
      "OH              955.0  51.016968  58.139086\n",
      "OO              990.0  45.370587  53.700792\n",
      "UA             1322.0  47.784399  59.437690\n",
      "US              876.0  36.445019  50.275237\n",
      "WN              702.0  30.087884  42.966858\n",
      "XE              838.0  50.181217  61.438118\n",
      "YV              606.0  55.287049  60.893065\n"
     ]
    }
   ],
   "source": [
    "def table(df):\n",
    "    ''' - Table of airlines with the most accumulated arrears'''\n",
    "    grouped = df.groupby('UniqueCarrier')\n",
    "    print(grouped['ArrDelay'].agg([np.max, np.mean, np.std]))\n",
    "\n",
    "\n",
    "table(df)"
   ]
  },
  {
   "cell_type": "markdown",
   "id": "egyptian-teens",
   "metadata": {},
   "source": [
    "### Exercises 3\n",
    "\n",
    "Export the data set clean and with the new columns to Excel.\n",
    "\n",
    "\n",
    "Create a function that given a two-dimensional table, calculates the totals per row and the totals per column."
   ]
  },
  {
   "cell_type": "code",
   "execution_count": 36,
   "id": "white-paintball",
   "metadata": {},
   "outputs": [],
   "source": [
    "def export_to_excel(df: pd.DataFrame) -> None:\n",
    "    ''' export dataframe to xlsx, no index '''\n",
    "\n",
    "    if df.shape[0] < 1048576:\n",
    "        # This is a limitation of Excel, where sheets can have a maximum of 1048576 rows. \n",
    "        name = datetime.datetime.now().strftime('%y-%m-%d_%H_%M_%S') + '.xlsx'\n",
    "        df.to_excel(name, index=False) \n",
    "    else: \n",
    "        name = datetime.datetime.now().strftime('%y-%m-%d_%H_%M_%S') + '.csv'\n",
    "        df.to_csv(name, index=False) \n",
    "    \n",
    "export_to_excel(df)"
   ]
  },
  {
   "cell_type": "code",
   "execution_count": null,
   "id": "7b26bf2a",
   "metadata": {},
   "outputs": [],
   "source": []
  }
 ],
 "metadata": {
  "kernelspec": {
   "display_name": "Python 3",
   "language": "python",
   "name": "python3"
  },
  "language_info": {
   "codemirror_mode": {
    "name": "ipython",
    "version": 3
   },
   "file_extension": ".py",
   "mimetype": "text/x-python",
   "name": "python",
   "nbconvert_exporter": "python",
   "pygments_lexer": "ipython3",
   "version": "3.9.5"
  }
 },
 "nbformat": 4,
 "nbformat_minor": 5
}
