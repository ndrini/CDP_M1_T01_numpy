{
 "cells": [
  {
   "cell_type": "code",
   "execution_count": 1,
   "id": "7d43fc61",
   "metadata": {},
   "outputs": [],
   "source": [
    "import pandas as pd\n",
    "import numpy as np\n",
    "import datetime\n",
    "import os\n",
    "import kaggle"
   ]
  },
  {
   "cell_type": "markdown",
   "id": "e994254e",
   "metadata": {},
   "source": [
    "# M1 T02: Data exploration and structure - Dataframes with Pandas\n",
    "Description\n",
    "\n",
    "Familiarize yourself with data exploration techniques using the data structure, Dataframe with the Pandas library.\n",
    "Level 1"
   ]
  },
  {
   "cell_type": "markdown",
   "id": "2606cc71",
   "metadata": {},
   "source": [
    "# Exercises 1"
   ]
  },
  {
   "cell_type": "markdown",
   "id": "26060ad9",
   "metadata": {},
   "source": [
    "Download the Airlines Delay: Airline on-time statistics and delay causes data set and upload it to a Dataframe pandas. Explore the data it contains, and keep only the columns you consider relevant.\n"
   ]
  },
  {
   "cell_type": "code",
   "execution_count": 10,
   "id": "dc3a515a",
   "metadata": {},
   "outputs": [
    {
     "name": "stdout",
     "output_type": "stream",
     "text": [
      "Project path:  /home/su/workspace/python/ciencia_dades_python/CDP_all_lessons_code\n"
     ]
    }
   ],
   "source": [
    "# Prepare directories\n",
    "root = os.getcwd()\n",
    "print(\"Project path: \", root)\n",
    "\n",
    "# Change working directory\n",
    "new_wd = \"kaggle-airline-df\"\n",
    "data_dir = os.path.join(root, new_wd)\n",
    "if not os.path.isdir(data_dir):\n",
    "    os.mkdir(data_dir)\n",
    "# move into data_dir to download the data\n",
    "os.chdir(data_dir)\n",
    "# Tip: if a \"strange\" dir path is load, restar the kernel"
   ]
  },
  {
   "cell_type": "code",
   "execution_count": 11,
   "id": "9d5e3969",
   "metadata": {},
   "outputs": [
    {
     "name": "stdout",
     "output_type": "stream",
     "text": [
      "Downloading airlinedelaycauses.zip to /home/su/workspace/python/ciencia_dades_python/CDP_all_lessons_code/kaggle-airline-df\n",
      "100%|██████████████████████████████████████| 66.6M/66.6M [00:06<00:00, 11.3MB/s]\n",
      "100%|██████████████████████████████████████| 66.6M/66.6M [00:06<00:00, 11.3MB/s]\n",
      "Archive:  airlinedelaycauses.zip\n",
      "  inflating: DelayedFlights.csv      \n",
      "  inflating: st99_d00.dbf            \n",
      "  inflating: st99_d00.shp            \n",
      "  inflating: st99_d00.shx            \n"
     ]
    }
   ],
   "source": [
    "# Download the dataset using Kaggle's API\n",
    "!kaggle datasets download giovamata/airlinedelaycauses\n",
    "!unzip airlinedelaycauses.zip\n",
    "!rm airlinedelaycauses.zip"
   ]
  },
  {
   "cell_type": "code",
   "execution_count": 12,
   "id": "76d6ca59",
   "metadata": {},
   "outputs": [
    {
     "name": "stdout",
     "output_type": "stream",
     "text": [
      "Actual data folder:  /home/su/workspace/python/ciencia_dades_python/CDP_all_lessons_code/kaggle-airline-df\n"
     ]
    },
    {
     "data": {
      "text/plain": [
       "'/home/su/workspace/python/ciencia_dades_python/CDP_all_lessons_code'"
      ]
     },
     "execution_count": 12,
     "metadata": {},
     "output_type": "execute_result"
    }
   ],
   "source": [
    "# going back to main folder\n",
    "print('Actual data folder: ', os.getcwd())\n",
    "os.chdir(root)\n",
    "print('Actual code folder: ', os.getcwd())"
   ]
  },
  {
   "cell_type": "code",
   "execution_count": 14,
   "id": "27151e1a",
   "metadata": {},
   "outputs": [
    {
     "name": "stdout",
     "output_type": "stream",
     "text": [
      "['Unnamed: 0', 'Year', 'Month', 'DayofMonth', 'DayOfWeek', 'DepTime', 'CRSDepTime', 'ArrTime', 'CRSArrTime', 'UniqueCarrier', 'FlightNum', 'TailNum', 'ActualElapsedTime', 'CRSElapsedTime', 'AirTime', 'ArrDelay', 'DepDelay', 'Origin', 'Dest', 'Distance', 'TaxiIn', 'TaxiOut', 'Cancelled', 'CancellationCode', 'Diverted', 'CarrierDelay', 'WeatherDelay', 'NASDelay', 'SecurityDelay', 'LateAircraftDelay']\n"
     ]
    }
   ],
   "source": [
    "# As this is a dataset centered around flight delays, the main purpose is to\n",
    "# analyze the timings related to routes, companies, airports, etc.\n",
    "# By reading the column names, we can understand if there are some that \n",
    "# will not be of interest, which will be removed\n",
    "\n",
    "# Load only the column names from the CSV file\n",
    "file_name = \"kaggle-airline-df/DelayedFlights.csv\"\n",
    "col_names = pd.read_csv(file_name, nrows=1).columns.tolist()\n",
    "print(col_names)"
   ]
  },
  {
   "cell_type": "markdown",
   "id": "2e4c82af",
   "metadata": {},
   "source": [
    "### Field explanation"
   ]
  },
  {
   "cell_type": "markdown",
   "id": "8fa63637",
   "metadata": {},
   "source": [
    "Now that the column names are available, we can dive into each column meaning."
   ]
  },
  {
   "cell_type": "markdown",
   "id": "37aa632a",
   "metadata": {},
   "source": [
    "- YEAR: Year in which each of the study samples was collected. In this case, all the samples coincide in the year 2008, however, for studies of greater magnitude and greater temporal amplitude, it is necessary to limit the temporal variable of the data.\n",
    "\n",
    "- MONTH: Month in which each of the study samples were collected. This parameter varies on a scale from 1 to 12, with 1 being the month of January and 12 being the month of December. As in the previous case, all the samples coincide in the month of January, however, for studies of greater magnitude and greater temporal amplitude, it is necessary to limit the temporal variable of the data.\n",
    "\n",
    "- DAY_OF_MONTH: Day of the month on which each study sample was collected. This parameter varies on a scale from 1 to 31, coinciding with the numbering of the monthly day of the data.\n",
    "\n",
    "- DAY_OF_WEEK: Day of the week on which each study sample was collected. This parameter varies on a scale from 1 to 7, with 1 being the number equivalent to Monday and 7 being the equivalent to Sunday. Both this data and the previous one may be necessary to estimate which day of the week (eg the beginning of the weekend) or which day of the month (eg the beginning of the month) it is estimated that there may be more congestion and hence more flight delays.\n",
    "\n",
    "- DEP_TIME: Departure time. Flight departure time in real local time (LMT) expressed as a set of four digits, the first two being the hour and the last two being the minutes. Time computed at the moment in which the aircraft leaves the door or gate. Essential data to calculate and forecast collapses based on the time of day, peak hours and work peaks.\n",
    "\n",
    "- CRS_DEP_TIME: Computerized Reservations Systems (CRS) departure time. Time that each airline has computed as departure time. It can be defined as the departure time that the company estimates at which each flight will depart. Very useful data to check the difference between the actual departure time and the time estimated by the company. Indicator of the \"on-time performance\" of each airline.\n",
    "\n",
    "- ARR_TIME: Arrival time. Arrival time of the flight in real local time (LMT) expressed as a set of four digits, the first two being the hour and the last two being the minutes. Time computed at the moment the aircraft's nosewheel hits the Tarmac. Essential data to calculate and forecast collapses based on the time of day, peak hours and work peaks.\n",
    "\n",
    "- CRS_ARR_TIME: Computerized Reservations Systems (CRS) arrival time. Time that each airline has computed as arrival time. It can be defined as the departure time that the company estimates at which each flight will arrive. Very useful data to check the difference between the real time of arrival and the time estimated by the company. Indicator of the \"on-time performance\" of each airline.\n",
    "\n",
    "- UNIQUE_CARRIER: Name in initials of the airline from which the data sample is collected. Necessary data to associate each delay with each airline and be able to estimate and predict which companies produce more delays. Character string.\n",
    "\n",
    "- FL_NUM: FlightNumber. Flight number of each sample.\n",
    "\n",
    "- TAIL_NUM: TailNumber. Set of numbers and letters that make up the registration record of each aircraft, located in the tail of the plane. This number is unique for each aircraft and its format depends on the country of registration (eg in the case of the USA it is made up of the letter November plus a set of digits). It can be found both in the front and rear of the plane and under the planes.\n",
    "\n",
    "- ACTUAL_ELAPSED_TIME: Actual flight time, from origin departure to destination arrival, expressed in minutes as a set of integers. Useful data for the estimation and identification of behaviors or delays en route.\n",
    "\n",
    "- CRS_ELAPSED_TIME: Computerized Reservations Systems (CRS) elapsed time. Time that each airline has computed in its system as flight time, from departure at origin to arrival at destination, expressed in minutes as a set of integers. Useful data for the estimation and identification of behaviors or delays en route and the difference with the real time of flight for the calculation of the on-time performance.\n",
    "\n",
    "- AIR_TIME: Real flight time in air, from departure at origin to arrival at destination, counted from when the plane leaves the runway until it comes into contact with it again, expressed in minutes as an integer. Useful data for the estimation and identification of behaviors or delays en route.\n",
    "\n",
    "- ARR_DELAY: Difference between the arrival time of CRS or estimated by the company and the actual arrival time at destination, expressed in minutes as an integer. Useful information to identify the source of a problem or delay.\n",
    "\n",
    "- DEP_DELAY: Difference between the departure time of CRS or estimated by the company and the actual departure time at origin, expressed in minutes as a number e\n",
    "\n",
    "- CRS_ELAPSED_TIME: Computerized Reservations Systems (CRS) elapsed time. Time that each airline has computed in its system as flight time, from departure at origin to arrival at destination, expressed in minutes as a set of integers. Useful data for the estimation and identification of behaviors or delays en route and the difference with the real time of flight for the calculation of the on-time performance.\n",
    "\n",
    "- AIR_TIME: Real flight time in air, from departure at origin to arrival at destination, counted from when the plane leaves the runway until it comes into contact with it again, expressed in minutes as an integer. Useful data for the estimation and identification of behaviors or delays en route.\n",
    "\n",
    "- ARR_DELAY: Difference between the arrival time of CRS or estimated by the company and the actual arrival time at destination, expressed in minutes as an integer. Useful information to identify the source of a problem or delay.\n",
    "\n",
    "- DEP_DELAY: Difference between the CRS departure time or estimated by the company and the actual departure time at origin, expressed in minutes as an integer. Useful information to identify the source of a problem or delay.\n",
    "\n",
    "- ORIGIN: Flight origin airport code, expressed as a string of three-letter characters. Unique code for each airport standardized by the International Air Transport Association (IATA).\n",
    "\n",
    "- DEST: Flight destination airport code, expressed as a string of three-letter characters. Unique code for each airport standardized by the International Air Transport Association (IATA).\n",
    "\n",
    "- DISTANCE: Distance between the origin and destination airports, expressed in nautical miles as an integer. Useful data to estimate the relationship between the delays and the flight distance between several jumps.\n",
    "\n",
    "- TAXI_IN: Taxi in time. Rolling time to gate at the destination airport. Expressed as a set of integers in minutes. Useful data to identify delays in rolling phases and operations.\n",
    "\n",
    "- TAXI_OUT: Taxi out time. Taxi time from the gate to the runway at the airport of origin. Expressed as a set of integers in minutes. Useful data to identify delays in rolling phases and operations.\n",
    "\n",
    "- CANCELED: Identifier of canceled flight. Expressed as a binary value, being zero if the flight has taken place or one if it has been cancelled. When this value is one, all other temporary values ​​are ignored.\n",
    "\n",
    "- CANCELLATION_CODE: Cancellation code. Expressed with an alphabetical character depending on the cause of cancellation following the following - legend: A-\"Carrier\", B-\"Weather\", C-\"National Air System\", D-\"Security\".\n",
    "\n",
    "- FUN: Diverted flight indicator. Expressed as a binary value, being zero if the flight has been carried out normally or one if it has been diverted.\n",
    "\n",
    "- CARRIER_DELAY: Delay caused by the carrier. Expressed as a set of integers in minutes. Useful data to identify delays caused by this factor.\n",
    "\n",
    "- WEATHER_DELAY: Delay caused by inclement weather. Expressed as a set of integers in minutes. Useful data to identify delays caused by this factor.\n",
    "\n",
    "- NAS_DELAY: Delay caused by the National Air System. Expressed as a set of integers in minutes. Useful data to identify delays caused by this factor.\n",
    "\n",
    "- SECURITY_DELAY: Delay caused by security controls or their inspections. Expressed as a set of integers in minutes. Useful data to identify delays caused by this factor.\n",
    "\n",
    "- LATE_AIRCRAFT_DELAY: Delay due to late arrival of the aircraft. Expressed as a set of integers in minutes. Useful data to identify delays caused by this factor."
   ]
  },
  {
   "cell_type": "markdown",
   "id": "585140f1",
   "metadata": {},
   "source": [
    "Having a look to previous description and to the notes of exercise 2, it seems expecially importante 'Cancelled' and also 'UniqueCarrier', 'Year', 'Month', 'DayofMonth', 'Distance', 'AirTime', 'DepTime', 'CRSDepTime', 'ArrDelay', 'DepDelay'."
   ]
  },
  {
   "cell_type": "markdown",
   "id": "1856ca53",
   "metadata": {},
   "source": [
    "# Exercises 2"
   ]
  },
  {
   "cell_type": "markdown",
   "id": "orange-primary",
   "metadata": {},
   "source": [
    "Make a complete report of the date set:\n",
    "  - Summarize the columns of interest statistically\n",
    "  - Find how many missing data are per column\n",
    "  - Create new columns (average flight speed, whether late or not ...)\n",
    "  - Table of airlines with the most accumulated arrears\n",
    "  - What are the longest flights? And the most backward?\n",
    "  - Etc.\n"
   ]
  },
  {
   "cell_type": "code",
   "execution_count": 16,
   "id": "f6d357b9",
   "metadata": {},
   "outputs": [
    {
     "name": "stdout",
     "output_type": "stream",
     "text": [
      "         Year  Month  DayofMonth  DepTime  CRSDepTime UniqueCarrier  AirTime  \\\n",
      "0        2008      1           3   2003.0        1955            WN    116.0   \n",
      "1        2008      1           3    754.0         735            WN    113.0   \n",
      "2        2008      1           3    628.0         620            WN     76.0   \n",
      "3        2008      1           3   1829.0        1755            WN     77.0   \n",
      "4        2008      1           3   1940.0        1915            WN     87.0   \n",
      "...       ...    ...         ...      ...         ...           ...      ...   \n",
      "1936753  2008     12          13   1250.0        1220            DL    120.0   \n",
      "1936754  2008     12          13    657.0         600            DL     78.0   \n",
      "1936755  2008     12          13   1007.0         847            DL    122.0   \n",
      "1936756  2008     12          13   1251.0        1240            DL     89.0   \n",
      "1936757  2008     12          13   1110.0        1103            DL    104.0   \n",
      "\n",
      "         ArrDelay  DepDelay  Distance  Cancelled  \n",
      "0           -14.0       8.0       810          0  \n",
      "1             2.0      19.0       810          0  \n",
      "2            14.0       8.0       515          0  \n",
      "3            34.0      34.0       515          0  \n",
      "4            11.0      25.0       688          0  \n",
      "...           ...       ...       ...        ...  \n",
      "1936753      25.0      30.0       906          0  \n",
      "1936754      75.0      57.0       481          0  \n",
      "1936755      99.0      80.0       689          0  \n",
      "1936756       9.0      11.0       533          0  \n",
      "1936757      -5.0       7.0       874          0  \n",
      "\n",
      "[1936758 rows x 11 columns]\n"
     ]
    }
   ],
   "source": [
    "df = pd.read_csv(\n",
    "    file_name,\n",
    "    usecols = [\n",
    "        'Cancelled', 'UniqueCarrier', 'Year', 'Month', 'DayofMonth',\n",
    "        'Distance', 'AirTime', 'DepTime', 'CRSDepTime', 'ArrDelay', 'DepDelay'])\n",
    "print(df)"
   ]
  },
  {
   "cell_type": "markdown",
   "id": "09e2638c",
   "metadata": {},
   "source": [
    "## data exploration and preparation"
   ]
  },
  {
   "cell_type": "code",
   "execution_count": 21,
   "id": "36a195b4",
   "metadata": {},
   "outputs": [
    {
     "data": {
      "text/plain": [
       "Year               int64\n",
       "Month              int64\n",
       "DayofMonth         int64\n",
       "DepTime          float64\n",
       "CRSDepTime         int64\n",
       "UniqueCarrier     object\n",
       "AirTime          float64\n",
       "ArrDelay         float64\n",
       "DepDelay         float64\n",
       "Distance           int64\n",
       "Cancelled          int64\n",
       "dtype: object"
      ]
     },
     "execution_count": 21,
     "metadata": {},
     "output_type": "execute_result"
    }
   ],
   "source": [
    "# inspect the type of data\n",
    "df.dtypes"
   ]
  },
  {
   "cell_type": "code",
   "execution_count": 24,
   "id": "a39147cc",
   "metadata": {},
   "outputs": [],
   "source": [
    "# use category type for UniqueCarrier\n",
    "df['UniqueCarrier'] = df['UniqueCarrier'].astype('category')"
   ]
  },
  {
   "cell_type": "code",
   "execution_count": 25,
   "id": "343d6377",
   "metadata": {},
   "outputs": [
    {
     "data": {
      "text/plain": [
       "Year                int64\n",
       "Month               int64\n",
       "DayofMonth          int64\n",
       "DepTime           float64\n",
       "CRSDepTime          int64\n",
       "UniqueCarrier    category\n",
       "AirTime           float64\n",
       "ArrDelay          float64\n",
       "DepDelay          float64\n",
       "Distance            int64\n",
       "Cancelled           int64\n",
       "dtype: object"
      ]
     },
     "execution_count": 25,
     "metadata": {},
     "output_type": "execute_result"
    }
   ],
   "source": [
    "df.dtypes"
   ]
  },
  {
   "cell_type": "markdown",
   "id": "55de3b58",
   "metadata": {},
   "source": [
    "As an additional mesure, we could reduce Year, Month, DayOfMonth fields to int16, or (even better) add a column of type datetime, join those fields."
   ]
  },
  {
   "cell_type": "code",
   "execution_count": null,
   "id": "be2e1310",
   "metadata": {},
   "outputs": [],
   "source": []
  },
  {
   "cell_type": "code",
   "execution_count": 17,
   "id": "8b85df26",
   "metadata": {},
   "outputs": [
    {
     "data": {
      "text/plain": [
       "16774"
      ]
     },
     "execution_count": 17,
     "metadata": {},
     "output_type": "execute_result"
    }
   ],
   "source": [
    "# Find how many missing data are per column\n",
    "df.isna().sum().sum()"
   ]
  },
  {
   "cell_type": "code",
   "execution_count": 18,
   "id": "874fa815",
   "metadata": {},
   "outputs": [
    {
     "name": "stdout",
     "output_type": "stream",
     "text": [
      "         Year  Month  DayofMonth  DepTime  CRSDepTime UniqueCarrier  AirTime  \\\n",
      "0        2008      1           3   2003.0        1955            WN    116.0   \n",
      "1        2008      1           3    754.0         735            WN    113.0   \n",
      "2        2008      1           3    628.0         620            WN     76.0   \n",
      "3        2008      1           3   1829.0        1755            WN     77.0   \n",
      "4        2008      1           3   1940.0        1915            WN     87.0   \n",
      "...       ...    ...         ...      ...         ...           ...      ...   \n",
      "1936753  2008     12          13   1250.0        1220            DL    120.0   \n",
      "1936754  2008     12          13    657.0         600            DL     78.0   \n",
      "1936755  2008     12          13   1007.0         847            DL    122.0   \n",
      "1936756  2008     12          13   1251.0        1240            DL     89.0   \n",
      "1936757  2008     12          13   1110.0        1103            DL    104.0   \n",
      "\n",
      "         ArrDelay  DepDelay  Distance  Cancelled  \n",
      "0           -14.0       8.0       810          0  \n",
      "1             2.0      19.0       810          0  \n",
      "2            14.0       8.0       515          0  \n",
      "3            34.0      34.0       515          0  \n",
      "4            11.0      25.0       688          0  \n",
      "...           ...       ...       ...        ...  \n",
      "1936753      25.0      30.0       906          0  \n",
      "1936754      75.0      57.0       481          0  \n",
      "1936755      99.0      80.0       689          0  \n",
      "1936756       9.0      11.0       533          0  \n",
      "1936757      -5.0       7.0       874          0  \n",
      "\n",
      "[1936125 rows x 11 columns]\n"
     ]
    }
   ],
   "source": [
    "# filter not cancelled, cause it can induce a distortion in the speed\n",
    "df = df[df['Cancelled'] == 0 ]\n",
    "print(df)"
   ]
  },
  {
   "cell_type": "code",
   "execution_count": 19,
   "id": "2b742768",
   "metadata": {},
   "outputs": [
    {
     "data": {
      "text/html": [
       "<div>\n",
       "<style scoped>\n",
       "    .dataframe tbody tr th:only-of-type {\n",
       "        vertical-align: middle;\n",
       "    }\n",
       "\n",
       "    .dataframe tbody tr th {\n",
       "        vertical-align: top;\n",
       "    }\n",
       "\n",
       "    .dataframe thead th {\n",
       "        text-align: right;\n",
       "    }\n",
       "</style>\n",
       "<table border=\"1\" class=\"dataframe\">\n",
       "  <thead>\n",
       "    <tr style=\"text-align: right;\">\n",
       "      <th></th>\n",
       "      <th>Year</th>\n",
       "      <th>Month</th>\n",
       "      <th>DayofMonth</th>\n",
       "      <th>DepTime</th>\n",
       "      <th>CRSDepTime</th>\n",
       "      <th>AirTime</th>\n",
       "      <th>ArrDelay</th>\n",
       "      <th>DepDelay</th>\n",
       "      <th>Distance</th>\n",
       "      <th>Cancelled</th>\n",
       "    </tr>\n",
       "  </thead>\n",
       "  <tbody>\n",
       "    <tr>\n",
       "      <th>count</th>\n",
       "      <td>1936125.0</td>\n",
       "      <td>1.936125e+06</td>\n",
       "      <td>1.936125e+06</td>\n",
       "      <td>1.936125e+06</td>\n",
       "      <td>1.936125e+06</td>\n",
       "      <td>1.928371e+06</td>\n",
       "      <td>1.928371e+06</td>\n",
       "      <td>1.936125e+06</td>\n",
       "      <td>1.936125e+06</td>\n",
       "      <td>1936125.0</td>\n",
       "    </tr>\n",
       "    <tr>\n",
       "      <th>mean</th>\n",
       "      <td>2008.0</td>\n",
       "      <td>6.109290e+00</td>\n",
       "      <td>1.575273e+01</td>\n",
       "      <td>1.518516e+03</td>\n",
       "      <td>1.467472e+03</td>\n",
       "      <td>1.082771e+02</td>\n",
       "      <td>4.219988e+01</td>\n",
       "      <td>4.316920e+01</td>\n",
       "      <td>7.657387e+02</td>\n",
       "      <td>0.0</td>\n",
       "    </tr>\n",
       "    <tr>\n",
       "      <th>std</th>\n",
       "      <td>0.0</td>\n",
       "      <td>3.481648e+00</td>\n",
       "      <td>8.776544e+00</td>\n",
       "      <td>4.504648e+02</td>\n",
       "      <td>4.247594e+02</td>\n",
       "      <td>6.864261e+01</td>\n",
       "      <td>5.678472e+01</td>\n",
       "      <td>5.337556e+01</td>\n",
       "      <td>5.744840e+02</td>\n",
       "      <td>0.0</td>\n",
       "    </tr>\n",
       "    <tr>\n",
       "      <th>min</th>\n",
       "      <td>2008.0</td>\n",
       "      <td>1.000000e+00</td>\n",
       "      <td>1.000000e+00</td>\n",
       "      <td>1.000000e+00</td>\n",
       "      <td>0.000000e+00</td>\n",
       "      <td>0.000000e+00</td>\n",
       "      <td>-1.090000e+02</td>\n",
       "      <td>6.000000e+00</td>\n",
       "      <td>1.100000e+01</td>\n",
       "      <td>0.0</td>\n",
       "    </tr>\n",
       "    <tr>\n",
       "      <th>25%</th>\n",
       "      <td>2008.0</td>\n",
       "      <td>3.000000e+00</td>\n",
       "      <td>8.000000e+00</td>\n",
       "      <td>1.203000e+03</td>\n",
       "      <td>1.135000e+03</td>\n",
       "      <td>5.800000e+01</td>\n",
       "      <td>9.000000e+00</td>\n",
       "      <td>1.200000e+01</td>\n",
       "      <td>3.380000e+02</td>\n",
       "      <td>0.0</td>\n",
       "    </tr>\n",
       "    <tr>\n",
       "      <th>50%</th>\n",
       "      <td>2008.0</td>\n",
       "      <td>6.000000e+00</td>\n",
       "      <td>1.600000e+01</td>\n",
       "      <td>1.545000e+03</td>\n",
       "      <td>1.510000e+03</td>\n",
       "      <td>9.000000e+01</td>\n",
       "      <td>2.400000e+01</td>\n",
       "      <td>2.400000e+01</td>\n",
       "      <td>6.060000e+02</td>\n",
       "      <td>0.0</td>\n",
       "    </tr>\n",
       "    <tr>\n",
       "      <th>75%</th>\n",
       "      <td>2008.0</td>\n",
       "      <td>9.000000e+00</td>\n",
       "      <td>2.300000e+01</td>\n",
       "      <td>1.900000e+03</td>\n",
       "      <td>1.815000e+03</td>\n",
       "      <td>1.370000e+02</td>\n",
       "      <td>5.600000e+01</td>\n",
       "      <td>5.300000e+01</td>\n",
       "      <td>9.980000e+02</td>\n",
       "      <td>0.0</td>\n",
       "    </tr>\n",
       "    <tr>\n",
       "      <th>max</th>\n",
       "      <td>2008.0</td>\n",
       "      <td>1.200000e+01</td>\n",
       "      <td>3.100000e+01</td>\n",
       "      <td>2.400000e+03</td>\n",
       "      <td>2.359000e+03</td>\n",
       "      <td>1.091000e+03</td>\n",
       "      <td>2.461000e+03</td>\n",
       "      <td>2.467000e+03</td>\n",
       "      <td>4.962000e+03</td>\n",
       "      <td>0.0</td>\n",
       "    </tr>\n",
       "  </tbody>\n",
       "</table>\n",
       "</div>"
      ],
      "text/plain": [
       "            Year         Month    DayofMonth       DepTime    CRSDepTime  \\\n",
       "count  1936125.0  1.936125e+06  1.936125e+06  1.936125e+06  1.936125e+06   \n",
       "mean      2008.0  6.109290e+00  1.575273e+01  1.518516e+03  1.467472e+03   \n",
       "std          0.0  3.481648e+00  8.776544e+00  4.504648e+02  4.247594e+02   \n",
       "min       2008.0  1.000000e+00  1.000000e+00  1.000000e+00  0.000000e+00   \n",
       "25%       2008.0  3.000000e+00  8.000000e+00  1.203000e+03  1.135000e+03   \n",
       "50%       2008.0  6.000000e+00  1.600000e+01  1.545000e+03  1.510000e+03   \n",
       "75%       2008.0  9.000000e+00  2.300000e+01  1.900000e+03  1.815000e+03   \n",
       "max       2008.0  1.200000e+01  3.100000e+01  2.400000e+03  2.359000e+03   \n",
       "\n",
       "            AirTime      ArrDelay      DepDelay      Distance  Cancelled  \n",
       "count  1.928371e+06  1.928371e+06  1.936125e+06  1.936125e+06  1936125.0  \n",
       "mean   1.082771e+02  4.219988e+01  4.316920e+01  7.657387e+02        0.0  \n",
       "std    6.864261e+01  5.678472e+01  5.337556e+01  5.744840e+02        0.0  \n",
       "min    0.000000e+00 -1.090000e+02  6.000000e+00  1.100000e+01        0.0  \n",
       "25%    5.800000e+01  9.000000e+00  1.200000e+01  3.380000e+02        0.0  \n",
       "50%    9.000000e+01  2.400000e+01  2.400000e+01  6.060000e+02        0.0  \n",
       "75%    1.370000e+02  5.600000e+01  5.300000e+01  9.980000e+02        0.0  \n",
       "max    1.091000e+03  2.461000e+03  2.467000e+03  4.962000e+03        0.0  "
      ]
     },
     "execution_count": 19,
     "metadata": {},
     "output_type": "execute_result"
    }
   ],
   "source": [
    "# statistic\n",
    "df.describe()"
   ]
  },
  {
   "cell_type": "code",
   "execution_count": 31,
   "id": "aba2745a",
   "metadata": {},
   "outputs": [],
   "source": [
    "# it looks like that wrong values are present in the df, that can affect the speed column"
   ]
  },
  {
   "cell_type": "code",
   "execution_count": 30,
   "id": "a40cb876",
   "metadata": {},
   "outputs": [
    {
     "data": {
      "text/html": [
       "<div>\n",
       "<style scoped>\n",
       "    .dataframe tbody tr th:only-of-type {\n",
       "        vertical-align: middle;\n",
       "    }\n",
       "\n",
       "    .dataframe tbody tr th {\n",
       "        vertical-align: top;\n",
       "    }\n",
       "\n",
       "    .dataframe thead th {\n",
       "        text-align: right;\n",
       "    }\n",
       "</style>\n",
       "<table border=\"1\" class=\"dataframe\">\n",
       "  <thead>\n",
       "    <tr style=\"text-align: right;\">\n",
       "      <th></th>\n",
       "      <th>Year</th>\n",
       "      <th>Month</th>\n",
       "      <th>DayofMonth</th>\n",
       "      <th>DepTime</th>\n",
       "      <th>CRSDepTime</th>\n",
       "      <th>AirTime</th>\n",
       "      <th>ArrDelay</th>\n",
       "      <th>DepDelay</th>\n",
       "      <th>Distance</th>\n",
       "      <th>Cancelled</th>\n",
       "      <th>Speed</th>\n",
       "    </tr>\n",
       "  </thead>\n",
       "  <tbody>\n",
       "    <tr>\n",
       "      <th>count</th>\n",
       "      <td>1936125.0</td>\n",
       "      <td>1.936125e+06</td>\n",
       "      <td>1.936125e+06</td>\n",
       "      <td>1.936125e+06</td>\n",
       "      <td>1.936125e+06</td>\n",
       "      <td>1.928371e+06</td>\n",
       "      <td>1.928371e+06</td>\n",
       "      <td>1.936125e+06</td>\n",
       "      <td>1.936125e+06</td>\n",
       "      <td>1936125.0</td>\n",
       "      <td>1.928371e+06</td>\n",
       "    </tr>\n",
       "    <tr>\n",
       "      <th>mean</th>\n",
       "      <td>2008.0</td>\n",
       "      <td>6.109290e+00</td>\n",
       "      <td>1.575273e+01</td>\n",
       "      <td>1.518516e+03</td>\n",
       "      <td>1.467472e+03</td>\n",
       "      <td>1.082771e+02</td>\n",
       "      <td>4.219988e+01</td>\n",
       "      <td>4.316920e+01</td>\n",
       "      <td>7.657387e+02</td>\n",
       "      <td>0.0</td>\n",
       "      <td>inf</td>\n",
       "    </tr>\n",
       "    <tr>\n",
       "      <th>std</th>\n",
       "      <td>0.0</td>\n",
       "      <td>3.481648e+00</td>\n",
       "      <td>8.776544e+00</td>\n",
       "      <td>4.504648e+02</td>\n",
       "      <td>4.247594e+02</td>\n",
       "      <td>6.864261e+01</td>\n",
       "      <td>5.678472e+01</td>\n",
       "      <td>5.337556e+01</td>\n",
       "      <td>5.744840e+02</td>\n",
       "      <td>0.0</td>\n",
       "      <td>NaN</td>\n",
       "    </tr>\n",
       "    <tr>\n",
       "      <th>min</th>\n",
       "      <td>2008.0</td>\n",
       "      <td>1.000000e+00</td>\n",
       "      <td>1.000000e+00</td>\n",
       "      <td>1.000000e+00</td>\n",
       "      <td>0.000000e+00</td>\n",
       "      <td>0.000000e+00</td>\n",
       "      <td>-1.090000e+02</td>\n",
       "      <td>6.000000e+00</td>\n",
       "      <td>1.100000e+01</td>\n",
       "      <td>0.0</td>\n",
       "      <td>3.548387e-01</td>\n",
       "    </tr>\n",
       "    <tr>\n",
       "      <th>25%</th>\n",
       "      <td>2008.0</td>\n",
       "      <td>3.000000e+00</td>\n",
       "      <td>8.000000e+00</td>\n",
       "      <td>1.203000e+03</td>\n",
       "      <td>1.135000e+03</td>\n",
       "      <td>5.800000e+01</td>\n",
       "      <td>9.000000e+00</td>\n",
       "      <td>1.200000e+01</td>\n",
       "      <td>3.380000e+02</td>\n",
       "      <td>0.0</td>\n",
       "      <td>5.864407e+00</td>\n",
       "    </tr>\n",
       "    <tr>\n",
       "      <th>50%</th>\n",
       "      <td>2008.0</td>\n",
       "      <td>6.000000e+00</td>\n",
       "      <td>1.600000e+01</td>\n",
       "      <td>1.545000e+03</td>\n",
       "      <td>1.510000e+03</td>\n",
       "      <td>9.000000e+01</td>\n",
       "      <td>2.400000e+01</td>\n",
       "      <td>2.400000e+01</td>\n",
       "      <td>6.060000e+02</td>\n",
       "      <td>0.0</td>\n",
       "      <td>6.730337e+00</td>\n",
       "    </tr>\n",
       "    <tr>\n",
       "      <th>75%</th>\n",
       "      <td>2008.0</td>\n",
       "      <td>9.000000e+00</td>\n",
       "      <td>2.300000e+01</td>\n",
       "      <td>1.900000e+03</td>\n",
       "      <td>1.815000e+03</td>\n",
       "      <td>1.370000e+02</td>\n",
       "      <td>5.600000e+01</td>\n",
       "      <td>5.300000e+01</td>\n",
       "      <td>9.980000e+02</td>\n",
       "      <td>0.0</td>\n",
       "      <td>7.469136e+00</td>\n",
       "    </tr>\n",
       "    <tr>\n",
       "      <th>max</th>\n",
       "      <td>2008.0</td>\n",
       "      <td>1.200000e+01</td>\n",
       "      <td>3.100000e+01</td>\n",
       "      <td>2.400000e+03</td>\n",
       "      <td>2.359000e+03</td>\n",
       "      <td>1.091000e+03</td>\n",
       "      <td>2.461000e+03</td>\n",
       "      <td>2.467000e+03</td>\n",
       "      <td>4.962000e+03</td>\n",
       "      <td>0.0</td>\n",
       "      <td>inf</td>\n",
       "    </tr>\n",
       "  </tbody>\n",
       "</table>\n",
       "</div>"
      ],
      "text/plain": [
       "            Year         Month    DayofMonth       DepTime    CRSDepTime  \\\n",
       "count  1936125.0  1.936125e+06  1.936125e+06  1.936125e+06  1.936125e+06   \n",
       "mean      2008.0  6.109290e+00  1.575273e+01  1.518516e+03  1.467472e+03   \n",
       "std          0.0  3.481648e+00  8.776544e+00  4.504648e+02  4.247594e+02   \n",
       "min       2008.0  1.000000e+00  1.000000e+00  1.000000e+00  0.000000e+00   \n",
       "25%       2008.0  3.000000e+00  8.000000e+00  1.203000e+03  1.135000e+03   \n",
       "50%       2008.0  6.000000e+00  1.600000e+01  1.545000e+03  1.510000e+03   \n",
       "75%       2008.0  9.000000e+00  2.300000e+01  1.900000e+03  1.815000e+03   \n",
       "max       2008.0  1.200000e+01  3.100000e+01  2.400000e+03  2.359000e+03   \n",
       "\n",
       "            AirTime      ArrDelay      DepDelay      Distance  Cancelled  \\\n",
       "count  1.928371e+06  1.928371e+06  1.936125e+06  1.936125e+06  1936125.0   \n",
       "mean   1.082771e+02  4.219988e+01  4.316920e+01  7.657387e+02        0.0   \n",
       "std    6.864261e+01  5.678472e+01  5.337556e+01  5.744840e+02        0.0   \n",
       "min    0.000000e+00 -1.090000e+02  6.000000e+00  1.100000e+01        0.0   \n",
       "25%    5.800000e+01  9.000000e+00  1.200000e+01  3.380000e+02        0.0   \n",
       "50%    9.000000e+01  2.400000e+01  2.400000e+01  6.060000e+02        0.0   \n",
       "75%    1.370000e+02  5.600000e+01  5.300000e+01  9.980000e+02        0.0   \n",
       "max    1.091000e+03  2.461000e+03  2.467000e+03  4.962000e+03        0.0   \n",
       "\n",
       "              Speed  \n",
       "count  1.928371e+06  \n",
       "mean            inf  \n",
       "std             NaN  \n",
       "min    3.548387e-01  \n",
       "25%    5.864407e+00  \n",
       "50%    6.730337e+00  \n",
       "75%    7.469136e+00  \n",
       "max             inf  "
      ]
     },
     "execution_count": 30,
     "metadata": {},
     "output_type": "execute_result"
    }
   ],
   "source": [
    "df['Speed'] = df['Distance']/df['AirTime'] \n",
    "df.describe()"
   ]
  },
  {
   "cell_type": "markdown",
   "id": "04fa7e62",
   "metadata": {},
   "source": [
    "infinte value for speed means data needs finement"
   ]
  },
  {
   "cell_type": "code",
   "execution_count": 32,
   "id": "045860a9",
   "metadata": {},
   "outputs": [
    {
     "data": {
      "text/html": [
       "<div>\n",
       "<style scoped>\n",
       "    .dataframe tbody tr th:only-of-type {\n",
       "        vertical-align: middle;\n",
       "    }\n",
       "\n",
       "    .dataframe tbody tr th {\n",
       "        vertical-align: top;\n",
       "    }\n",
       "\n",
       "    .dataframe thead th {\n",
       "        text-align: right;\n",
       "    }\n",
       "</style>\n",
       "<table border=\"1\" class=\"dataframe\">\n",
       "  <thead>\n",
       "    <tr style=\"text-align: right;\">\n",
       "      <th></th>\n",
       "      <th>Distance</th>\n",
       "      <th>AirTime</th>\n",
       "      <th>Speed</th>\n",
       "    </tr>\n",
       "  </thead>\n",
       "  <tbody>\n",
       "    <tr>\n",
       "      <th>count</th>\n",
       "      <td>1.936125e+06</td>\n",
       "      <td>1.928371e+06</td>\n",
       "      <td>1.928371e+06</td>\n",
       "    </tr>\n",
       "    <tr>\n",
       "      <th>mean</th>\n",
       "      <td>7.657387e+02</td>\n",
       "      <td>1.082771e+02</td>\n",
       "      <td>inf</td>\n",
       "    </tr>\n",
       "    <tr>\n",
       "      <th>std</th>\n",
       "      <td>5.744840e+02</td>\n",
       "      <td>6.864261e+01</td>\n",
       "      <td>NaN</td>\n",
       "    </tr>\n",
       "    <tr>\n",
       "      <th>min</th>\n",
       "      <td>1.100000e+01</td>\n",
       "      <td>0.000000e+00</td>\n",
       "      <td>3.548387e-01</td>\n",
       "    </tr>\n",
       "    <tr>\n",
       "      <th>25%</th>\n",
       "      <td>3.380000e+02</td>\n",
       "      <td>5.800000e+01</td>\n",
       "      <td>5.864407e+00</td>\n",
       "    </tr>\n",
       "    <tr>\n",
       "      <th>50%</th>\n",
       "      <td>6.060000e+02</td>\n",
       "      <td>9.000000e+01</td>\n",
       "      <td>6.730337e+00</td>\n",
       "    </tr>\n",
       "    <tr>\n",
       "      <th>75%</th>\n",
       "      <td>9.980000e+02</td>\n",
       "      <td>1.370000e+02</td>\n",
       "      <td>7.469136e+00</td>\n",
       "    </tr>\n",
       "    <tr>\n",
       "      <th>max</th>\n",
       "      <td>4.962000e+03</td>\n",
       "      <td>1.091000e+03</td>\n",
       "      <td>inf</td>\n",
       "    </tr>\n",
       "  </tbody>\n",
       "</table>\n",
       "</div>"
      ],
      "text/plain": [
       "           Distance       AirTime         Speed\n",
       "count  1.936125e+06  1.928371e+06  1.928371e+06\n",
       "mean   7.657387e+02  1.082771e+02           inf\n",
       "std    5.744840e+02  6.864261e+01           NaN\n",
       "min    1.100000e+01  0.000000e+00  3.548387e-01\n",
       "25%    3.380000e+02  5.800000e+01  5.864407e+00\n",
       "50%    6.060000e+02  9.000000e+01  6.730337e+00\n",
       "75%    9.980000e+02  1.370000e+02  7.469136e+00\n",
       "max    4.962000e+03  1.091000e+03           inf"
      ]
     },
     "execution_count": 32,
     "metadata": {},
     "output_type": "execute_result"
    }
   ],
   "source": [
    "# So, narrowing down the implied fields: check if values are meaningful \n",
    "df[['Distance', 'AirTime', 'Speed']].describe()   # tip: notice double ["
   ]
  },
  {
   "cell_type": "code",
   "execution_count": 33,
   "id": "bb440959",
   "metadata": {},
   "outputs": [
    {
     "ename": "ValueError",
     "evalue": "supplied range of [0.3548387096774194, inf] is not finite",
     "output_type": "error",
     "traceback": [
      "\u001b[0;31m---------------------------------------------------------------------------\u001b[0m",
      "\u001b[0;31mValueError\u001b[0m                                Traceback (most recent call last)",
      "\u001b[0;32m/tmp/ipykernel_14317/2286339112.py\u001b[0m in \u001b[0;36m<module>\u001b[0;34m\u001b[0m\n\u001b[1;32m      1\u001b[0m \u001b[0;31m# infinite values force me to filter the\u001b[0m\u001b[0;34m\u001b[0m\u001b[0;34m\u001b[0m\u001b[0;34m\u001b[0m\u001b[0m\n\u001b[1;32m      2\u001b[0m \u001b[0;31m# visual inspect\u001b[0m\u001b[0;34m\u001b[0m\u001b[0;34m\u001b[0m\u001b[0;34m\u001b[0m\u001b[0m\n\u001b[0;32m----> 3\u001b[0;31m \u001b[0mdf\u001b[0m\u001b[0;34m[\u001b[0m\u001b[0;34m[\u001b[0m\u001b[0;34m'Distance'\u001b[0m\u001b[0;34m,\u001b[0m \u001b[0;34m'AirTime'\u001b[0m\u001b[0;34m,\u001b[0m \u001b[0;34m'Speed'\u001b[0m\u001b[0;34m]\u001b[0m\u001b[0;34m]\u001b[0m\u001b[0;34m.\u001b[0m\u001b[0mhist\u001b[0m\u001b[0;34m(\u001b[0m\u001b[0;34m)\u001b[0m\u001b[0;34m\u001b[0m\u001b[0;34m\u001b[0m\u001b[0m\n\u001b[0m",
      "\u001b[0;32m~/workspace/python/ciencia_dades_python/CDP_all_lessons_code/venv_ML/lib/python3.9/site-packages/pandas/plotting/_core.py\u001b[0m in \u001b[0;36mhist_frame\u001b[0;34m(data, column, by, grid, xlabelsize, xrot, ylabelsize, yrot, ax, sharex, sharey, figsize, layout, bins, backend, legend, **kwargs)\u001b[0m\n\u001b[1;32m    224\u001b[0m     \"\"\"\n\u001b[1;32m    225\u001b[0m     \u001b[0mplot_backend\u001b[0m \u001b[0;34m=\u001b[0m \u001b[0m_get_plot_backend\u001b[0m\u001b[0;34m(\u001b[0m\u001b[0mbackend\u001b[0m\u001b[0;34m)\u001b[0m\u001b[0;34m\u001b[0m\u001b[0;34m\u001b[0m\u001b[0m\n\u001b[0;32m--> 226\u001b[0;31m     return plot_backend.hist_frame(\n\u001b[0m\u001b[1;32m    227\u001b[0m         \u001b[0mdata\u001b[0m\u001b[0;34m,\u001b[0m\u001b[0;34m\u001b[0m\u001b[0;34m\u001b[0m\u001b[0m\n\u001b[1;32m    228\u001b[0m         \u001b[0mcolumn\u001b[0m\u001b[0;34m=\u001b[0m\u001b[0mcolumn\u001b[0m\u001b[0;34m,\u001b[0m\u001b[0;34m\u001b[0m\u001b[0;34m\u001b[0m\u001b[0m\n",
      "\u001b[0;32m~/workspace/python/ciencia_dades_python/CDP_all_lessons_code/venv_ML/lib/python3.9/site-packages/pandas/plotting/_matplotlib/hist.py\u001b[0m in \u001b[0;36mhist_frame\u001b[0;34m(data, column, by, grid, xlabelsize, xrot, ylabelsize, yrot, ax, sharex, sharey, figsize, layout, bins, legend, **kwds)\u001b[0m\n\u001b[1;32m    499\u001b[0m         \u001b[0;32mif\u001b[0m \u001b[0mlegend\u001b[0m \u001b[0;32mand\u001b[0m \u001b[0mcan_set_label\u001b[0m\u001b[0;34m:\u001b[0m\u001b[0;34m\u001b[0m\u001b[0;34m\u001b[0m\u001b[0m\n\u001b[1;32m    500\u001b[0m             \u001b[0mkwds\u001b[0m\u001b[0;34m[\u001b[0m\u001b[0;34m\"label\"\u001b[0m\u001b[0;34m]\u001b[0m \u001b[0;34m=\u001b[0m \u001b[0mcol\u001b[0m\u001b[0;34m\u001b[0m\u001b[0;34m\u001b[0m\u001b[0m\n\u001b[0;32m--> 501\u001b[0;31m         \u001b[0max\u001b[0m\u001b[0;34m.\u001b[0m\u001b[0mhist\u001b[0m\u001b[0;34m(\u001b[0m\u001b[0mdata\u001b[0m\u001b[0;34m[\u001b[0m\u001b[0mcol\u001b[0m\u001b[0;34m]\u001b[0m\u001b[0;34m.\u001b[0m\u001b[0mdropna\u001b[0m\u001b[0;34m(\u001b[0m\u001b[0;34m)\u001b[0m\u001b[0;34m.\u001b[0m\u001b[0mvalues\u001b[0m\u001b[0;34m,\u001b[0m \u001b[0mbins\u001b[0m\u001b[0;34m=\u001b[0m\u001b[0mbins\u001b[0m\u001b[0;34m,\u001b[0m \u001b[0;34m**\u001b[0m\u001b[0mkwds\u001b[0m\u001b[0;34m)\u001b[0m\u001b[0;34m\u001b[0m\u001b[0;34m\u001b[0m\u001b[0m\n\u001b[0m\u001b[1;32m    502\u001b[0m         \u001b[0max\u001b[0m\u001b[0;34m.\u001b[0m\u001b[0mset_title\u001b[0m\u001b[0;34m(\u001b[0m\u001b[0mcol\u001b[0m\u001b[0;34m)\u001b[0m\u001b[0;34m\u001b[0m\u001b[0;34m\u001b[0m\u001b[0m\n\u001b[1;32m    503\u001b[0m         \u001b[0max\u001b[0m\u001b[0;34m.\u001b[0m\u001b[0mgrid\u001b[0m\u001b[0;34m(\u001b[0m\u001b[0mgrid\u001b[0m\u001b[0;34m)\u001b[0m\u001b[0;34m\u001b[0m\u001b[0;34m\u001b[0m\u001b[0m\n",
      "\u001b[0;32m~/workspace/python/ciencia_dades_python/CDP_all_lessons_code/venv_ML/lib/python3.9/site-packages/matplotlib/__init__.py\u001b[0m in \u001b[0;36minner\u001b[0;34m(ax, data, *args, **kwargs)\u001b[0m\n\u001b[1;32m   1410\u001b[0m     \u001b[0;32mdef\u001b[0m \u001b[0minner\u001b[0m\u001b[0;34m(\u001b[0m\u001b[0max\u001b[0m\u001b[0;34m,\u001b[0m \u001b[0;34m*\u001b[0m\u001b[0margs\u001b[0m\u001b[0;34m,\u001b[0m \u001b[0mdata\u001b[0m\u001b[0;34m=\u001b[0m\u001b[0;32mNone\u001b[0m\u001b[0;34m,\u001b[0m \u001b[0;34m**\u001b[0m\u001b[0mkwargs\u001b[0m\u001b[0;34m)\u001b[0m\u001b[0;34m:\u001b[0m\u001b[0;34m\u001b[0m\u001b[0;34m\u001b[0m\u001b[0m\n\u001b[1;32m   1411\u001b[0m         \u001b[0;32mif\u001b[0m \u001b[0mdata\u001b[0m \u001b[0;32mis\u001b[0m \u001b[0;32mNone\u001b[0m\u001b[0;34m:\u001b[0m\u001b[0;34m\u001b[0m\u001b[0;34m\u001b[0m\u001b[0m\n\u001b[0;32m-> 1412\u001b[0;31m             \u001b[0;32mreturn\u001b[0m \u001b[0mfunc\u001b[0m\u001b[0;34m(\u001b[0m\u001b[0max\u001b[0m\u001b[0;34m,\u001b[0m \u001b[0;34m*\u001b[0m\u001b[0mmap\u001b[0m\u001b[0;34m(\u001b[0m\u001b[0msanitize_sequence\u001b[0m\u001b[0;34m,\u001b[0m \u001b[0margs\u001b[0m\u001b[0;34m)\u001b[0m\u001b[0;34m,\u001b[0m \u001b[0;34m**\u001b[0m\u001b[0mkwargs\u001b[0m\u001b[0;34m)\u001b[0m\u001b[0;34m\u001b[0m\u001b[0;34m\u001b[0m\u001b[0m\n\u001b[0m\u001b[1;32m   1413\u001b[0m \u001b[0;34m\u001b[0m\u001b[0m\n\u001b[1;32m   1414\u001b[0m         \u001b[0mbound\u001b[0m \u001b[0;34m=\u001b[0m \u001b[0mnew_sig\u001b[0m\u001b[0;34m.\u001b[0m\u001b[0mbind\u001b[0m\u001b[0;34m(\u001b[0m\u001b[0max\u001b[0m\u001b[0;34m,\u001b[0m \u001b[0;34m*\u001b[0m\u001b[0margs\u001b[0m\u001b[0;34m,\u001b[0m \u001b[0;34m**\u001b[0m\u001b[0mkwargs\u001b[0m\u001b[0;34m)\u001b[0m\u001b[0;34m\u001b[0m\u001b[0;34m\u001b[0m\u001b[0m\n",
      "\u001b[0;32m~/workspace/python/ciencia_dades_python/CDP_all_lessons_code/venv_ML/lib/python3.9/site-packages/matplotlib/axes/_axes.py\u001b[0m in \u001b[0;36mhist\u001b[0;34m(self, x, bins, range, density, weights, cumulative, bottom, histtype, align, orientation, rwidth, log, color, label, stacked, **kwargs)\u001b[0m\n\u001b[1;32m   6637\u001b[0m             \u001b[0;31m# this will automatically overwrite bins,\u001b[0m\u001b[0;34m\u001b[0m\u001b[0;34m\u001b[0m\u001b[0;34m\u001b[0m\u001b[0m\n\u001b[1;32m   6638\u001b[0m             \u001b[0;31m# so that each histogram uses the same bins\u001b[0m\u001b[0;34m\u001b[0m\u001b[0;34m\u001b[0m\u001b[0;34m\u001b[0m\u001b[0m\n\u001b[0;32m-> 6639\u001b[0;31m             \u001b[0mm\u001b[0m\u001b[0;34m,\u001b[0m \u001b[0mbins\u001b[0m \u001b[0;34m=\u001b[0m \u001b[0mnp\u001b[0m\u001b[0;34m.\u001b[0m\u001b[0mhistogram\u001b[0m\u001b[0;34m(\u001b[0m\u001b[0mx\u001b[0m\u001b[0;34m[\u001b[0m\u001b[0mi\u001b[0m\u001b[0;34m]\u001b[0m\u001b[0;34m,\u001b[0m \u001b[0mbins\u001b[0m\u001b[0;34m,\u001b[0m \u001b[0mweights\u001b[0m\u001b[0;34m=\u001b[0m\u001b[0mw\u001b[0m\u001b[0;34m[\u001b[0m\u001b[0mi\u001b[0m\u001b[0;34m]\u001b[0m\u001b[0;34m,\u001b[0m \u001b[0;34m**\u001b[0m\u001b[0mhist_kwargs\u001b[0m\u001b[0;34m)\u001b[0m\u001b[0;34m\u001b[0m\u001b[0;34m\u001b[0m\u001b[0m\n\u001b[0m\u001b[1;32m   6640\u001b[0m             \u001b[0mtops\u001b[0m\u001b[0;34m.\u001b[0m\u001b[0mappend\u001b[0m\u001b[0;34m(\u001b[0m\u001b[0mm\u001b[0m\u001b[0;34m)\u001b[0m\u001b[0;34m\u001b[0m\u001b[0;34m\u001b[0m\u001b[0m\n\u001b[1;32m   6641\u001b[0m         \u001b[0mtops\u001b[0m \u001b[0;34m=\u001b[0m \u001b[0mnp\u001b[0m\u001b[0;34m.\u001b[0m\u001b[0marray\u001b[0m\u001b[0;34m(\u001b[0m\u001b[0mtops\u001b[0m\u001b[0;34m,\u001b[0m \u001b[0mfloat\u001b[0m\u001b[0;34m)\u001b[0m  \u001b[0;31m# causes problems later if it's an int\u001b[0m\u001b[0;34m\u001b[0m\u001b[0;34m\u001b[0m\u001b[0m\n",
      "\u001b[0;32m<__array_function__ internals>\u001b[0m in \u001b[0;36mhistogram\u001b[0;34m(*args, **kwargs)\u001b[0m\n",
      "\u001b[0;32m~/workspace/python/ciencia_dades_python/CDP_all_lessons_code/venv_ML/lib/python3.9/site-packages/numpy/lib/histograms.py\u001b[0m in \u001b[0;36mhistogram\u001b[0;34m(a, bins, range, normed, weights, density)\u001b[0m\n\u001b[1;32m    791\u001b[0m     \u001b[0ma\u001b[0m\u001b[0;34m,\u001b[0m \u001b[0mweights\u001b[0m \u001b[0;34m=\u001b[0m \u001b[0m_ravel_and_check_weights\u001b[0m\u001b[0;34m(\u001b[0m\u001b[0ma\u001b[0m\u001b[0;34m,\u001b[0m \u001b[0mweights\u001b[0m\u001b[0;34m)\u001b[0m\u001b[0;34m\u001b[0m\u001b[0;34m\u001b[0m\u001b[0m\n\u001b[1;32m    792\u001b[0m \u001b[0;34m\u001b[0m\u001b[0m\n\u001b[0;32m--> 793\u001b[0;31m     \u001b[0mbin_edges\u001b[0m\u001b[0;34m,\u001b[0m \u001b[0muniform_bins\u001b[0m \u001b[0;34m=\u001b[0m \u001b[0m_get_bin_edges\u001b[0m\u001b[0;34m(\u001b[0m\u001b[0ma\u001b[0m\u001b[0;34m,\u001b[0m \u001b[0mbins\u001b[0m\u001b[0;34m,\u001b[0m \u001b[0mrange\u001b[0m\u001b[0;34m,\u001b[0m \u001b[0mweights\u001b[0m\u001b[0;34m)\u001b[0m\u001b[0;34m\u001b[0m\u001b[0;34m\u001b[0m\u001b[0m\n\u001b[0m\u001b[1;32m    794\u001b[0m \u001b[0;34m\u001b[0m\u001b[0m\n\u001b[1;32m    795\u001b[0m     \u001b[0;31m# Histogram is an integer or a float array depending on the weights.\u001b[0m\u001b[0;34m\u001b[0m\u001b[0;34m\u001b[0m\u001b[0;34m\u001b[0m\u001b[0m\n",
      "\u001b[0;32m~/workspace/python/ciencia_dades_python/CDP_all_lessons_code/venv_ML/lib/python3.9/site-packages/numpy/lib/histograms.py\u001b[0m in \u001b[0;36m_get_bin_edges\u001b[0;34m(a, bins, range, weights)\u001b[0m\n\u001b[1;32m    424\u001b[0m             \u001b[0;32mraise\u001b[0m \u001b[0mValueError\u001b[0m\u001b[0;34m(\u001b[0m\u001b[0;34m'`bins` must be positive, when an integer'\u001b[0m\u001b[0;34m)\u001b[0m\u001b[0;34m\u001b[0m\u001b[0;34m\u001b[0m\u001b[0m\n\u001b[1;32m    425\u001b[0m \u001b[0;34m\u001b[0m\u001b[0m\n\u001b[0;32m--> 426\u001b[0;31m         \u001b[0mfirst_edge\u001b[0m\u001b[0;34m,\u001b[0m \u001b[0mlast_edge\u001b[0m \u001b[0;34m=\u001b[0m \u001b[0m_get_outer_edges\u001b[0m\u001b[0;34m(\u001b[0m\u001b[0ma\u001b[0m\u001b[0;34m,\u001b[0m \u001b[0mrange\u001b[0m\u001b[0;34m)\u001b[0m\u001b[0;34m\u001b[0m\u001b[0;34m\u001b[0m\u001b[0m\n\u001b[0m\u001b[1;32m    427\u001b[0m \u001b[0;34m\u001b[0m\u001b[0m\n\u001b[1;32m    428\u001b[0m     \u001b[0;32melif\u001b[0m \u001b[0mnp\u001b[0m\u001b[0;34m.\u001b[0m\u001b[0mndim\u001b[0m\u001b[0;34m(\u001b[0m\u001b[0mbins\u001b[0m\u001b[0;34m)\u001b[0m \u001b[0;34m==\u001b[0m \u001b[0;36m1\u001b[0m\u001b[0;34m:\u001b[0m\u001b[0;34m\u001b[0m\u001b[0;34m\u001b[0m\u001b[0m\n",
      "\u001b[0;32m~/workspace/python/ciencia_dades_python/CDP_all_lessons_code/venv_ML/lib/python3.9/site-packages/numpy/lib/histograms.py\u001b[0m in \u001b[0;36m_get_outer_edges\u001b[0;34m(a, range)\u001b[0m\n\u001b[1;32m    313\u001b[0m                 'max must be larger than min in range parameter.')\n\u001b[1;32m    314\u001b[0m         \u001b[0;32mif\u001b[0m \u001b[0;32mnot\u001b[0m \u001b[0;34m(\u001b[0m\u001b[0mnp\u001b[0m\u001b[0;34m.\u001b[0m\u001b[0misfinite\u001b[0m\u001b[0;34m(\u001b[0m\u001b[0mfirst_edge\u001b[0m\u001b[0;34m)\u001b[0m \u001b[0;32mand\u001b[0m \u001b[0mnp\u001b[0m\u001b[0;34m.\u001b[0m\u001b[0misfinite\u001b[0m\u001b[0;34m(\u001b[0m\u001b[0mlast_edge\u001b[0m\u001b[0;34m)\u001b[0m\u001b[0;34m)\u001b[0m\u001b[0;34m:\u001b[0m\u001b[0;34m\u001b[0m\u001b[0;34m\u001b[0m\u001b[0m\n\u001b[0;32m--> 315\u001b[0;31m             raise ValueError(\n\u001b[0m\u001b[1;32m    316\u001b[0m                 \"supplied range of [{}, {}] is not finite\".format(first_edge, last_edge))\n\u001b[1;32m    317\u001b[0m     \u001b[0;32melif\u001b[0m \u001b[0ma\u001b[0m\u001b[0;34m.\u001b[0m\u001b[0msize\u001b[0m \u001b[0;34m==\u001b[0m \u001b[0;36m0\u001b[0m\u001b[0;34m:\u001b[0m\u001b[0;34m\u001b[0m\u001b[0;34m\u001b[0m\u001b[0m\n",
      "\u001b[0;31mValueError\u001b[0m: supplied range of [0.3548387096774194, inf] is not finite"
     ]
    },
    {
     "data": {
      "image/png": "[encoded data removed]",
      "text/plain": [
       "<Figure size 432x288 with 4 Axes>"
      ]
     },
     "metadata": {
      "needs_background": "light"
     },
     "output_type": "display_data"
    }
   ],
   "source": [
    "# infinite values force me to filter the \n",
    "# visual inspect\n",
    "df[['Distance', 'AirTime', 'Speed']].hist()\n",
    "\n",
    "# remove inf lines or accept the error"
   ]
  },
  {
   "cell_type": "code",
   "execution_count": null,
   "id": "1665f856",
   "metadata": {},
   "outputs": [],
   "source": [
    "# avoid 0 flight values\n",
    "df = df[df['AirTime'] > 0]\n"
   ]
  },
  {
   "cell_type": "code",
   "execution_count": null,
   "id": "6b999723",
   "metadata": {},
   "outputs": [],
   "source": [
    "df['Speed'] = df['Distance']/df['AirTime'] "
   ]
  },
  {
   "cell_type": "code",
   "execution_count": null,
   "id": "2b2d83a8",
   "metadata": {},
   "outputs": [],
   "source": [
    "df[['Distance', 'AirTime', 'Speed']].hist()"
   ]
  },
  {
   "cell_type": "code",
   "execution_count": null,
   "id": "67f395e4",
   "metadata": {},
   "outputs": [],
   "source": [
    "df['Speed'].describe()"
   ]
  },
  {
   "cell_type": "code",
   "execution_count": null,
   "id": "663c435e",
   "metadata": {},
   "outputs": [],
   "source": [
    "df[['Distance', 'AirTime', 'Speed']].sort_values(by='Speed').head()"
   ]
  },
  {
   "cell_type": "code",
   "execution_count": null,
   "id": "5eab9f9e",
   "metadata": {},
   "outputs": [],
   "source": [
    "df[['Distance', 'AirTime', 'Speed']].sort_values(by='Speed').tail()"
   ]
  },
  {
   "cell_type": "code",
   "execution_count": null,
   "id": "9f71a50c",
   "metadata": {},
   "outputs": [],
   "source": [
    "# TODO\n",
    "# ?? add SI units in the columns (parameters)\n",
    "# comment the cells"
   ]
  },
  {
   "cell_type": "code",
   "execution_count": null,
   "id": "d91b3462",
   "metadata": {},
   "outputs": [],
   "source": [
    "'''   - Create new columns (average flight speed, whether late or not ...)\n",
    "  - Table of airlines with the most accumulated arrears\n",
    "  - What are the longest flights? And the most backward?\n",
    "  - Etc. '''"
   ]
  },
  {
   "cell_type": "code",
   "execution_count": null,
   "metadata": {},
   "outputs": [],
   "source": [
    "# late or not \n",
    "# Create new columns (average flight speed, whether late or not ...)"
   ]
  },
  {
   "cell_type": "code",
   "execution_count": null,
   "id": "2eade388",
   "metadata": {},
   "outputs": [],
   "source": []
  },
  {
   "cell_type": "code",
   "execution_count": null,
   "metadata": {},
   "outputs": [],
   "source": []
  },
  {
   "cell_type": "code",
   "execution_count": null,
   "id": "50f6b762",
   "metadata": {},
   "outputs": [],
   "source": [
    "\n",
    "# Table of airlines with the most accumulated delay\n",
    "\n",
    "# group by sum / count_number_of_flights \n"
   ]
  },
  {
   "cell_type": "code",
   "execution_count": null,
   "id": "047b9261",
   "metadata": {},
   "outputs": [],
   "source": []
  },
  {
   "cell_type": "code",
   "execution_count": null,
   "id": "59356c78",
   "metadata": {},
   "outputs": [],
   "source": [
    "# What are the longest flights? And the most backward?\n",
    "  "
   ]
  },
  {
   "cell_type": "code",
   "execution_count": null,
   "metadata": {},
   "outputs": [],
   "source": []
  },
  {
   "cell_type": "code",
   "execution_count": null,
   "id": "52417280",
   "metadata": {},
   "outputs": [],
   "source": []
  },
  {
   "cell_type": "code",
   "execution_count": null,
   "metadata": {},
   "outputs": [],
   "source": []
  },
  {
   "cell_type": "code",
   "execution_count": null,
   "id": "focused-species",
   "metadata": {},
   "outputs": [],
   "source": [
    "def get_report(df: pd.DataFrame) -> dict:\n",
    "    ''' Find how many missing data are per column '''\n",
    "    results = {} \n",
    "    results['stats'] = calc_stats(df)  \n",
    "    speed = calc_speed(df)\n",
    "    results['speed_min'] = speed['speed_min']\n",
    "    results['speed_max'] = speed['speed_max']\n",
    "    results['faster'] = calc_faster_than_expected(df)\n",
    "    return results\n",
    "\n",
    "def calc_stats(df) -> dict:\n",
    "    ''' Summarize the columns of interest statistically'''\n",
    "    stats = {}\n",
    "    stats['total_rows'] = df.shape[0]\n",
    "    stats['missing_values'] = df.isnull().sum().sum()\n",
    "    # print(df.isnull().sum())\n",
    "    # print(stats['missing_values'])\n",
    "    return stats\n",
    "\n",
    "def calc_speed(df: pd.DataFrame) -> dict:\n",
    "    ''' Create new columns average flight speed'''\n",
    "    df['speed'] = df['Distance']/df['AirTime'] \n",
    "    # df.apply(lambda row: row['Distance']/row['AirTime']),\n",
    "    #                      axis = 1)\n",
    "    # print(df['speed'])\n",
    "    res = {\n",
    "        'speed_min': df['speed'].loc[df['speed'].idxmin()], \n",
    "        'speed_max': df['speed'].loc[df['speed'].idxmax()], \n",
    "        # 'speed_avg': df['speed'].loc[df['speed']. \n",
    "    }\n",
    "    # print(speed_min)\n",
    "    print(res)\n",
    "    return res\n",
    "    \n",
    "def calc_late_or_early(df: pd.DataFrame) -> pd.DataFrame:\n",
    "    ''' Create new columns whether late or early '''\n",
    "    pass\n",
    "\n",
    "def calc_faster_than_expected(df: pd.DataFrame) -> None:\n",
    "    ''' difference between 'ArrDelay', 'DepDelay'])'''''\n",
    "    df['faster'] = df['DepDelay'] - df['ArrDelay']\n",
    "    return None\n",
    "\n",
    "\n",
    "def test_get_report(df):\n",
    "    # assert get_report(df) == 123\n",
    "    assert get_report(df)['speed_min'] == 0.3548387096774194\n",
    "    # assert get_report(df)['speed_max'] == 'inf'\n",
    "    assert get_report(df)['stats']['missing_values'] == 4\n",
    "test_get_report(df)\n",
    "\n",
    "print(df)\n"
   ]
  },
  {
   "cell_type": "code",
   "execution_count": null,
   "id": "9832f72f",
   "metadata": {},
   "outputs": [],
   "source": [
    "def table(df):\n",
    "    ''' - Table of airlines with the most accumulated arrears'''\n",
    "    grouped = df.groupby('UniqueCarrier')\n",
    "    print(grouped['ArrDelay'].agg([np.max, np.mean, np.std]))\n",
    "\n",
    "\n",
    "table(df)"
   ]
  },
  {
   "cell_type": "markdown",
   "id": "egyptian-teens",
   "metadata": {},
   "source": [
    "### Exercises 3\n",
    "\n",
    "Export the data set clean and with the new columns to Excel.\n",
    "\n",
    "\n",
    "Create a function that given a two-dimensional table, calculates the totals per row and the totals per column."
   ]
  },
  {
   "cell_type": "code",
   "execution_count": null,
   "id": "white-paintball",
   "metadata": {},
   "outputs": [],
   "source": [
    "def export_to_excel(df: pd.DataFrame) -> None:\n",
    "    ''' export dataframe to xlsx, no index '''\n",
    "\n",
    "    if df.shape[0] < 1048576:\n",
    "        # This is a limitation of Excel, where sheets can have a maximum of 1048576 rows. \n",
    "        name = datetime.datetime.now().strftime('%y-%m-%d_%H_%M_%S') + '.xlsx'\n",
    "        df.to_excel(name, index=False) \n",
    "    else: \n",
    "        name = datetime.datetime.now().strftime('%y-%m-%d_%H_%M_%S') + '.csv'\n",
    "        df.to_csv(name, index=False) \n",
    "    \n",
    "export_to_excel(df)"
   ]
  },
  {
   "cell_type": "code",
   "execution_count": null,
   "id": "7b26bf2a",
   "metadata": {},
   "outputs": [],
   "source": []
  }
 ],
 "metadata": {
  "kernelspec": {
   "display_name": "Python 3",
   "language": "python",
   "name": "python3"
  },
  "language_info": {
   "codemirror_mode": {
    "name": "ipython",
    "version": 3
   },
   "file_extension": ".py",
   "mimetype": "text/x-python",
   "name": "python",
   "nbconvert_exporter": "python",
   "pygments_lexer": "ipython3",
   "version": "3.9.5"
  }
 },
 "nbformat": 4,
 "nbformat_minor": 5
}
