{
 "cells": [
  {
   "cell_type": "code",
   "execution_count": 3,
   "id": "systematic-theory",
   "metadata": {},
   "outputs": [],
   "source": [
    "import numpy as np\n",
    "import pandas as pd\n",
    "import os"
   ]
  },
  {
   "cell_type": "markdown",
   "id": "e994254e",
   "metadata": {},
   "source": [
    "# M1 T02: Data exploration and structure - Dataframes with Pandas\n",
    "Description\n",
    "\n",
    "Familiarize yourself with data exploration techniques using the data structure, Dataframe with the Pandas library.\n",
    "Level 1"
   ]
  },
  {
   "cell_type": "markdown",
   "id": "26060ad9",
   "metadata": {},
   "source": [
    "\n",
    "\n",
    "# - Exercises 1\n",
    "\n",
    "Download the Airlines Delay: Airline on-time statistics and delay causes data set and upload it to a Dataframe pandas. Explore the data it contains, and keep only the columns you consider relevant.\n"
   ]
  },
  {
   "cell_type": "code",
   "execution_count": 4,
   "id": "ranging-event",
   "metadata": {},
   "outputs": [
    {
     "name": "stdout",
     "output_type": "stream",
     "text": [
      "    Year  Month  DayofMonth  DepTime  CRSDepTime  AirTime  Distance\n",
      "0   2008      1           3   2003.0        1955    116.0     810.0\n",
      "1   2008      1           3    754.0         735    113.0     810.0\n",
      "2   2008      1           3    628.0         620     76.0     515.0\n",
      "3   2008      1           3   1829.0        1755     77.0     515.0\n",
      "4   2008      1           3   1940.0        1915     87.0     688.0\n",
      "5   2008      1           3   1937.0        1830    230.0    1591.0\n",
      "6   2008      1           3    706.0         700    106.0     828.0\n",
      "7   2008      1           3   1644.0        1510    107.0     828.0\n",
      "8   2008      1           3   1029.0        1020     37.0     162.0\n",
      "9   2008      1           3   1452.0        1425    213.0    1489.0\n",
      "10  2008      1           3    754.0         745    205.0    1489.0\n",
      "11  2008      1           3   1323.0        1255    110.0     838.0\n",
      "12  2008      1           3   1416.0        1325     49.0     220.0\n",
      "13  2008      1           3   1657.0        1625      NaN     220.0\n",
      "14  2008      1           3   1900.0        1840     49.0     220.0\n",
      "15  2008      1           3   1039.0        1030     47.0     220.0\n",
      "16  2008      1           3   1520.0        1455     50.0       NaN\n",
      "17  2008      1           3   1422.0        1255    143.0    1093.0\n",
      "18  2008      1           3   1954.0        1925    155.0    1093.0\n",
      "19  2008      1           3   2107.0        1945    134.0     972.0\n"
     ]
    }
   ],
   "source": [
    "# Exercises 1\n",
    "# Download the Airlines Delay: Airline on-time statistics and delay causes data set and upload it to a Dataframe pandas. Explore the data it contains, and keep only the columns you consider relevant.\n",
    "df = pd.read_csv(\n",
    "    os.path.realpath('.') + \"/archive/DelayedFlights_simple.csv\",\n",
    "    # os.path.realpath('.') + \"/archive/DelayedFlights.csv\",\n",
    "    usecols = ['Year', 'Month', 'DayofMonth', 'Distance', 'AirTime', 'DepTime', 'CRSDepTime'])\n",
    "print(df)"
   ]
  },
  {
   "cell_type": "markdown",
   "id": "orange-primary",
   "metadata": {},
   "source": [
    "### Exercises 2\n",
    "\n",
    "Make a complete report of the date set:\n",
    "  - Summarize the columns of interest statistically\n",
    "  - Find how many missing data are per column\n",
    "  - Create new columns (average flight speed, whether late or not ...)\n",
    "  - Table of airlines with the most accumulated arrears\n",
    "  - What are the longest flights? And the most backward?\n",
    "  - Etc.\n"
   ]
  },
  {
   "cell_type": "code",
   "execution_count": 14,
   "id": "focused-species",
   "metadata": {},
   "outputs": [
    {
     "name": "stdout",
     "output_type": "stream",
     "text": [
      "Year          0\n",
      "Month         0\n",
      "DayofMonth    0\n",
      "DepTime       0\n",
      "CRSDepTime    0\n",
      "AirTime       1\n",
      "Distance      1\n",
      "speed         2\n",
      "dtype: int64\n",
      "4\n",
      "Year          0\n",
      "Month         0\n",
      "DayofMonth    0\n",
      "DepTime       0\n",
      "CRSDepTime    0\n",
      "AirTime       1\n",
      "Distance      1\n",
      "speed         2\n",
      "dtype: int64\n",
      "4\n"
     ]
    }
   ],
   "source": [
    "def get_report(df: pd.DataFrame) -> dict:\n",
    "    ''' Find how many missing data are per column '''\n",
    "    results = {} \n",
    "    results['stats'] = calc_stats(df)  \n",
    "    results['speed_min'] = calc_speed(df)  \n",
    "    # return {'speed_max': 123}\n",
    "    return results\n",
    "\n",
    "def calc_stats(df) -> dict:\n",
    "    ''' Summarize the columns of interest statistically'''\n",
    "    stats = {}\n",
    "    stats['total_rows'] = df.shape[0]\n",
    "    stats['missing_values'] = df.isnull().sum().sum()\n",
    "    print(df.isnull().sum())\n",
    "    print(stats['missing_values'])\n",
    "    return stats\n",
    "\n",
    "def calc_speed(df: pd.DataFrame) -> pd.DataFrame:\n",
    "    ''' Create new columns (average flight speed, whether late or not ...) '''\n",
    "    df['speed'] = df['Distance']/df['AirTime'] \n",
    "    # df.apply(lambda row: row['Distance']/row['AirTime']),\n",
    "    #                      axis = 1)\n",
    "    # print(df['speed'])\n",
    "    speed_min = df['speed'].loc[df['speed'].idxmin()] \n",
    "    # print(speed_min)\n",
    "    return speed_min\n",
    "\n",
    "\n",
    "def test_get_report(df):\n",
    "    # assert get_report(df) == 123\n",
    "    assert get_report(df)['speed_min'] == 4.378378378378378\n",
    "    assert get_report(df)['stats']['missing_values'] == 4\n",
    "test_get_report(df)"
   ]
  },
  {
   "cell_type": "markdown",
   "id": "egyptian-teens",
   "metadata": {},
   "source": [
    "### Exercises 3\n",
    "\n",
    "Export the data set clean and with the new columns to Excel.\n",
    "\n",
    "\n",
    "Create a function that given a two-dimensional table, calculates the totals per row and the totals per column."
   ]
  },
  {
   "cell_type": "code",
   "execution_count": 133,
   "id": "white-paintball",
   "metadata": {},
   "outputs": [
    {
     "name": "stdout",
     "output_type": "stream",
     "text": [
      "[[1 0 1 1 0 1 1 1]\n",
      " [1 0 0 1 1 0 1 0]\n",
      " [0 0 1 1 1 0 0 1]\n",
      " [1 0 1 0 1 0 0 0]\n",
      " [1 1 0 1 1 0 1 1]\n",
      " [0 1 0 1 0 1 1 1]]\n",
      "(array([6, 4, 4, 3, 6, 5]), array([4, 2, 3, 5, 4, 2, 4, 4]))\n"
     ]
    }
   ],
   "source": [
    "def random_couple() -> Tuple[int, int]:\n",
    "    return (6,8)\n",
    "     #        n = np.random.randint(1,6)\n",
    "     #    arr = random_n_square(n)\n",
    "\n",
    "def totals_2D(n):\n",
    "    ''' given a two-dimensional table, calculates the totals per row and the totals per column '''\n",
    "    ax_0, ax_1 = random_couple()\n",
    "    arr = np.random.randint(0, 2, [ax_0, ax_1])\n",
    "    print(arr)\n",
    "    return np.sum(arr, axis = 1), np.sum(arr, axis = 0)\n",
    "    \n",
    "print(totals_2D(5))"
   ]
  },
  {
   "cell_type": "markdown",
   "id": "special-segment",
   "metadata": {},
   "source": [
    "### Exercises 4\n",
    "\n",
    "Manually implements a function that calculates the correlation coefficient. Learn about its uses and interpretation.\n",
    "\n",
    "[boston](https://sphweb.bumc.bu.edu/otlt/MPH-Modules/PH717-QuantCore/PH717-Module9-Correlation-Regression/PH717-Module9-Correlation-Regression4.html)\n",
    "\n",
    "\n",
    "    \n"
   ]
  },
  {
   "cell_type": "code",
   "execution_count": null,
   "id": "scenic-thomson",
   "metadata": {},
   "outputs": [],
   "source": [
    "def Cov(X,Y) is the covariance, i.e., how far each observed (X,Y) pair is from the mean of X and the mean of Y, simultaneously, and and sx2 and sy2 are the sample variances for X and Y.\n",
    "\n",
    "def calc_correlation():\n",
    "     ''' return the correlation coefficient '''\n",
    "        \n",
    "        \n",
    "        \n",
    "\n",
    "def test_calc_correlation():\n",
    "     ''' return the correlation coefficient '''\n",
    "\n",
    "        . Learn about its uses and interpretation. "
   ]
  }
 ],
 "metadata": {
  "kernelspec": {
   "display_name": "Python 3",
   "language": "python",
   "name": "python3"
  },
  "language_info": {
   "codemirror_mode": {
    "name": "ipython",
    "version": 3
   },
   "file_extension": ".py",
   "mimetype": "text/x-python",
   "name": "python",
   "nbconvert_exporter": "python",
   "pygments_lexer": "ipython3",
   "version": "3.8.10"
  }
 },
 "nbformat": 4,
 "nbformat_minor": 5
}
