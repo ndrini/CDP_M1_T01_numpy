{
 "cells": [
  {
   "cell_type": "code",
   "execution_count": 21,
   "id": "systematic-theory",
   "metadata": {},
   "outputs": [],
   "source": [
    "import pandas as pd\n",
    "import os\n",
    "from  typing import Union, Tuple\n",
    "import numpy as np\n",
    "import matplotlib.pyplot as plt\n",
    "import seaborn as sns\n",
    "import kaggle\n",
    "\n",
    "import utils"
   ]
  },
  {
   "cell_type": "markdown",
   "id": "dae46635",
   "metadata": {},
   "source": [
    "# M2 T01: Graphic visualization of a dataset\n",
    "Complementing the exploration techniques of the data by means of the graphic visualization, with the libraries Matplotlib and Searborn.\n"
   ]
  },
  {
   "cell_type": "markdown",
   "id": "64284b23",
   "metadata": {},
   "source": [
    "## Import data (again)"
   ]
  },
  {
   "cell_type": "code",
   "execution_count": 2,
   "id": "3c8179a6",
   "metadata": {},
   "outputs": [
    {
     "name": "stdout",
     "output_type": "stream",
     "text": [
      "/home/su/workspace/python/ciencia_dades_python/CDP_all_lessons_code\n",
      "['Unnamed: 0', 'Year', 'Month', 'DayofMonth', 'DayOfWeek', 'DepTime', 'CRSDepTime', 'ArrTime', 'CRSArrTime', 'UniqueCarrier', 'FlightNum', 'TailNum', 'ActualElapsedTime', 'CRSElapsedTime', 'AirTime', 'ArrDelay', 'DepDelay', 'Origin', 'Dest', 'Distance', 'TaxiIn', 'TaxiOut', 'Cancelled', 'CancellationCode', 'Diverted', 'CarrierDelay', 'WeatherDelay', 'NASDelay', 'SecurityDelay', 'LateAircraftDelay']\n"
     ]
    }
   ],
   "source": [
    "file_name = \"input/DelayedFlights.csv\"\n",
    "\n",
    "# import df again, just some columns\n",
    "root = os.getcwd()\n",
    "\n",
    "# ?? inspect variables \n",
    "print(root)\n",
    "new_wd = \"kaggle-airline-df\"\n",
    "wd_dir = os.path.join(root,new_wd)\n",
    "os.chdir(wd_dir)\n",
    "\n",
    "\n",
    "col_names = pd.read_csv(file_name, nrows=1).columns.tolist()\n",
    "print(col_names)\n",
    "# /home/su/workspace/python/ciencia_dades_python/CDP_all_lessons_code/kaggle-airline-df/input/DelayedFlights.csv\n"
   ]
  },
  {
   "cell_type": "code",
   "execution_count": 3,
   "id": "e1d94e12",
   "metadata": {},
   "outputs": [
    {
     "name": "stdout",
     "output_type": "stream",
     "text": [
      "         Year  Month  DayofMonth  DepTime  CRSDepTime UniqueCarrier  AirTime  \\\n",
      "0        2008      1           3   2003.0        1955            WN    116.0   \n",
      "1        2008      1           3    754.0         735            WN    113.0   \n",
      "2        2008      1           3    628.0         620            WN     76.0   \n",
      "3        2008      1           3   1829.0        1755            WN     77.0   \n",
      "4        2008      1           3   1940.0        1915            WN     87.0   \n",
      "...       ...    ...         ...      ...         ...           ...      ...   \n",
      "1936753  2008     12          13   1250.0        1220            DL    120.0   \n",
      "1936754  2008     12          13    657.0         600            DL     78.0   \n",
      "1936755  2008     12          13   1007.0         847            DL    122.0   \n",
      "1936756  2008     12          13   1251.0        1240            DL     89.0   \n",
      "1936757  2008     12          13   1110.0        1103            DL    104.0   \n",
      "\n",
      "         ArrDelay  DepDelay  Distance  \n",
      "0           -14.0       8.0       810  \n",
      "1             2.0      19.0       810  \n",
      "2            14.0       8.0       515  \n",
      "3            34.0      34.0       515  \n",
      "4            11.0      25.0       688  \n",
      "...           ...       ...       ...  \n",
      "1936753      25.0      30.0       906  \n",
      "1936754      75.0      57.0       481  \n",
      "1936755      99.0      80.0       689  \n",
      "1936756       9.0      11.0       533  \n",
      "1936757      -5.0       7.0       874  \n",
      "\n",
      "[1936758 rows x 10 columns]\n"
     ]
    }
   ],
   "source": [
    "# import selected columns\n",
    "df = pd.read_csv(\n",
    "    # os.path.realpath('..') + \"/archive/DelayedFlights_simple.csv\",\n",
    "    # os.path.realpath('..') + \"/archive/DelayedFlights.csv\",\n",
    "    file_name,\n",
    "    usecols = ['UniqueCarrier', 'Year', 'Month', 'DayofMonth', 'Distance', 'AirTime', 'DepTime', 'CRSDepTime', 'ArrDelay', 'DepDelay'])\n",
    "print(df)"
   ]
  },
  {
   "cell_type": "markdown",
   "id": "47694c2c",
   "metadata": {},
   "source": []
  },
  {
   "cell_type": "markdown",
   "id": "7f7b77ed",
   "metadata": {},
   "source": [
    "## Plot data"
   ]
  },
  {
   "cell_type": "markdown",
   "id": "68bf4efb",
   "metadata": {},
   "source": [
    "The task is: \n",
    "\n",
    "- 1. Create a view for a categorical variable (UniqueCarrier)\n",
    "- 2. Create a view for a numeric variable (ArrDelay)\n",
    "- 3. Create a view for Variable numeric and category (ArrDelay and UniqueCarrier)\n",
    "-   Create a view for Three variables (ArrDelay, DepDelay and UniqueCarrier)\n",
    "-   Create a view for Two numeric variables (ArrDelay and DepDelay)\n",
    "-   Create a view for Three variables (ArrDelay, DepDelay and UniqueCarrier)\n",
    "-   Create a view for Three variables (ArrDelay, DepDelay and UniqueCarrier)\n",
    "-   Create a view for More than three variables (ArrDelay, DepDelay, AirTime and UniqueCarrier\n",
    "\n",
    "\n",
    "\n",
    "\n",
    "    1. Una variable categòrica (UniqueCarrier)\n",
    "    2. Una variable numèrica (ArrDelay)\n",
    "    3. Una variable numèrica i una categòrica (ArrDelay i UniqueCarrier)\n",
    "    4 Dues variables numèriques (ArrDelay i DepDelay)\n",
    "    5 Tres variables (ArrDelay, DepDelay i UniqueCarrier)\n",
    "    6 Més de tres variables (ArrDelay, DepDelay, AirTime i UniqueCarrier).\n"
   ]
  },
  {
   "cell_type": "markdown",
   "id": "c08fad0f",
   "metadata": {},
   "source": [
    "## 1 Categorical "
   ]
  },
  {
   "cell_type": "markdown",
   "id": "a2680ff9",
   "metadata": {},
   "source": [
    "Check the most present airlines (carrier)"
   ]
  },
  {
   "cell_type": "code",
   "execution_count": 4,
   "id": "cbdf642f",
   "metadata": {},
   "outputs": [],
   "source": [
    "import matplotlib.pyplot as plt\n",
    "import seaborn as sns"
   ]
  },
  {
   "cell_type": "code",
   "execution_count": 5,
   "id": "7be8163e",
   "metadata": {},
   "outputs": [
    {
     "data": {
      "image/png": "[encoded data removed]",
      "text/plain": [
       "<Figure size 432x288 with 1 Axes>"
      ]
     },
     "metadata": {},
     "output_type": "display_data"
    }
   ],
   "source": [
    "data = [15, 25, 25, 30, 5]\n",
    "labels = ['Group 1', 'Group 2', 'Group 3', 'Group 4', 'Group 5']\n",
    "\n",
    "#define Seaborn color palette to use\n",
    "colors = sns.color_palette('pastel')[0:5]\n",
    "\n",
    "#create pie chart\n",
    "plt.pie(data, labels = labels, colors = colors, autopct='%.0f%%')\n",
    "plt.show()"
   ]
  },
  {
   "cell_type": "markdown",
   "id": "c56fa485",
   "metadata": {},
   "source": [
    "data = [15, 25, 25, 30, 5]\n",
    "labels = ['Group 1', 'Group 2', 'Group 3', 'Group 4', 'Group 5']\n",
    "\n",
    "#define Seaborn color palette to use\n",
    "colors = sns.color_palette('pastel')[0:5]\n",
    "\n",
    "#create pie chart\n",
    "plt.pie(data, labels = labels, colors = colors, autopct='%.0f%%')\n",
    "plt.show()"
   ]
  },
  {
   "cell_type": "code",
   "execution_count": 22,
   "id": "ffed31c8",
   "metadata": {},
   "outputs": [
    {
     "name": "stdout",
     "output_type": "stream",
     "text": [
      "UniqueCarrier\n",
      "9E     51885\n",
      "AA    191865\n",
      "AQ       750\n",
      "AS     39293\n",
      "B6     55315\n",
      "CO    100195\n",
      "DL    114238\n",
      "EV     81877\n",
      "F9     28269\n",
      "FL     71284\n",
      "HA      7490\n",
      "MQ    141920\n",
      "NW     79108\n",
      "OH     52657\n",
      "OO    132433\n",
      "UA    141426\n",
      "US     98425\n",
      "WN    377602\n",
      "XE    103663\n",
      "YV     67063\n",
      "dtype: int64\n"
     ]
    },
    {
     "ename": "KeyError",
     "evalue": "'UniqueCarrier'",
     "output_type": "error",
     "traceback": [
      "\u001b[0;31m---------------------------------------------------------------------------\u001b[0m",
      "\u001b[0;31mKeyError\u001b[0m                                  Traceback (most recent call last)",
      "\u001b[0;32m~/workspace/python/ciencia_dades_python/CDP_all_lessons_code/venv_ML/lib/python3.9/site-packages/pandas/core/indexes/base.py\u001b[0m in \u001b[0;36mget_loc\u001b[0;34m(self, key, method, tolerance)\u001b[0m\n\u001b[1;32m   3620\u001b[0m             \u001b[0;32mtry\u001b[0m\u001b[0;34m:\u001b[0m\u001b[0;34m\u001b[0m\u001b[0;34m\u001b[0m\u001b[0m\n\u001b[0;32m-> 3621\u001b[0;31m                 \u001b[0;32mreturn\u001b[0m \u001b[0mself\u001b[0m\u001b[0;34m.\u001b[0m\u001b[0m_engine\u001b[0m\u001b[0;34m.\u001b[0m\u001b[0mget_loc\u001b[0m\u001b[0;34m(\u001b[0m\u001b[0mcasted_key\u001b[0m\u001b[0;34m)\u001b[0m\u001b[0;34m\u001b[0m\u001b[0;34m\u001b[0m\u001b[0m\n\u001b[0m\u001b[1;32m   3622\u001b[0m             \u001b[0;32mexcept\u001b[0m \u001b[0mKeyError\u001b[0m \u001b[0;32mas\u001b[0m \u001b[0merr\u001b[0m\u001b[0;34m:\u001b[0m\u001b[0;34m\u001b[0m\u001b[0;34m\u001b[0m\u001b[0m\n",
      "\u001b[0;32m~/workspace/python/ciencia_dades_python/CDP_all_lessons_code/venv_ML/lib/python3.9/site-packages/pandas/_libs/index.pyx\u001b[0m in \u001b[0;36mpandas._libs.index.IndexEngine.get_loc\u001b[0;34m()\u001b[0m\n",
      "\u001b[0;32m~/workspace/python/ciencia_dades_python/CDP_all_lessons_code/venv_ML/lib/python3.9/site-packages/pandas/_libs/index.pyx\u001b[0m in \u001b[0;36mpandas._libs.index.IndexEngine.get_loc\u001b[0;34m()\u001b[0m\n",
      "\u001b[0;32mpandas/_libs/hashtable_class_helper.pxi\u001b[0m in \u001b[0;36mpandas._libs.hashtable.PyObjectHashTable.get_item\u001b[0;34m()\u001b[0m\n",
      "\u001b[0;32mpandas/_libs/hashtable_class_helper.pxi\u001b[0m in \u001b[0;36mpandas._libs.hashtable.PyObjectHashTable.get_item\u001b[0;34m()\u001b[0m\n",
      "\u001b[0;31mKeyError\u001b[0m: 'UniqueCarrier'",
      "\nThe above exception was the direct cause of the following exception:\n",
      "\u001b[0;31mKeyError\u001b[0m                                  Traceback (most recent call last)",
      "\u001b[0;32m/tmp/ipykernel_9418/34532646.py\u001b[0m in \u001b[0;36m<module>\u001b[0;34m\u001b[0m\n\u001b[1;32m      3\u001b[0m \u001b[0mprint\u001b[0m\u001b[0;34m(\u001b[0m\u001b[0mdf_pie\u001b[0m\u001b[0;34m.\u001b[0m\u001b[0msize\u001b[0m\u001b[0;34m(\u001b[0m\u001b[0;34m)\u001b[0m\u001b[0;34m)\u001b[0m\u001b[0;34m\u001b[0m\u001b[0;34m\u001b[0m\u001b[0m\n\u001b[1;32m      4\u001b[0m \u001b[0;31m# df_pie.mean().head()\u001b[0m\u001b[0;34m\u001b[0m\u001b[0;34m\u001b[0m\u001b[0;34m\u001b[0m\u001b[0m\n\u001b[0;32m----> 5\u001b[0;31m \u001b[0mdf_pie\u001b[0m\u001b[0;34m.\u001b[0m\u001b[0mmean\u001b[0m\u001b[0;34m(\u001b[0m\u001b[0;34m)\u001b[0m\u001b[0;34m[\u001b[0m\u001b[0;34m'UniqueCarrier'\u001b[0m\u001b[0;34m]\u001b[0m\u001b[0;34m.\u001b[0m\u001b[0mhead\u001b[0m\u001b[0;34m(\u001b[0m\u001b[0;34m)\u001b[0m\u001b[0;34m\u001b[0m\u001b[0;34m\u001b[0m\u001b[0m\n\u001b[0m",
      "\u001b[0;32m~/workspace/python/ciencia_dades_python/CDP_all_lessons_code/venv_ML/lib/python3.9/site-packages/pandas/core/frame.py\u001b[0m in \u001b[0;36m__getitem__\u001b[0;34m(self, key)\u001b[0m\n\u001b[1;32m   3504\u001b[0m             \u001b[0;32mif\u001b[0m \u001b[0mself\u001b[0m\u001b[0;34m.\u001b[0m\u001b[0mcolumns\u001b[0m\u001b[0;34m.\u001b[0m\u001b[0mnlevels\u001b[0m \u001b[0;34m>\u001b[0m \u001b[0;36m1\u001b[0m\u001b[0;34m:\u001b[0m\u001b[0;34m\u001b[0m\u001b[0;34m\u001b[0m\u001b[0m\n\u001b[1;32m   3505\u001b[0m                 \u001b[0;32mreturn\u001b[0m \u001b[0mself\u001b[0m\u001b[0;34m.\u001b[0m\u001b[0m_getitem_multilevel\u001b[0m\u001b[0;34m(\u001b[0m\u001b[0mkey\u001b[0m\u001b[0;34m)\u001b[0m\u001b[0;34m\u001b[0m\u001b[0;34m\u001b[0m\u001b[0m\n\u001b[0;32m-> 3506\u001b[0;31m             \u001b[0mindexer\u001b[0m \u001b[0;34m=\u001b[0m \u001b[0mself\u001b[0m\u001b[0;34m.\u001b[0m\u001b[0mcolumns\u001b[0m\u001b[0;34m.\u001b[0m\u001b[0mget_loc\u001b[0m\u001b[0;34m(\u001b[0m\u001b[0mkey\u001b[0m\u001b[0;34m)\u001b[0m\u001b[0;34m\u001b[0m\u001b[0;34m\u001b[0m\u001b[0m\n\u001b[0m\u001b[1;32m   3507\u001b[0m             \u001b[0;32mif\u001b[0m \u001b[0mis_integer\u001b[0m\u001b[0;34m(\u001b[0m\u001b[0mindexer\u001b[0m\u001b[0;34m)\u001b[0m\u001b[0;34m:\u001b[0m\u001b[0;34m\u001b[0m\u001b[0;34m\u001b[0m\u001b[0m\n\u001b[1;32m   3508\u001b[0m                 \u001b[0mindexer\u001b[0m \u001b[0;34m=\u001b[0m \u001b[0;34m[\u001b[0m\u001b[0mindexer\u001b[0m\u001b[0;34m]\u001b[0m\u001b[0;34m\u001b[0m\u001b[0;34m\u001b[0m\u001b[0m\n",
      "\u001b[0;32m~/workspace/python/ciencia_dades_python/CDP_all_lessons_code/venv_ML/lib/python3.9/site-packages/pandas/core/indexes/base.py\u001b[0m in \u001b[0;36mget_loc\u001b[0;34m(self, key, method, tolerance)\u001b[0m\n\u001b[1;32m   3621\u001b[0m                 \u001b[0;32mreturn\u001b[0m \u001b[0mself\u001b[0m\u001b[0;34m.\u001b[0m\u001b[0m_engine\u001b[0m\u001b[0;34m.\u001b[0m\u001b[0mget_loc\u001b[0m\u001b[0;34m(\u001b[0m\u001b[0mcasted_key\u001b[0m\u001b[0;34m)\u001b[0m\u001b[0;34m\u001b[0m\u001b[0;34m\u001b[0m\u001b[0m\n\u001b[1;32m   3622\u001b[0m             \u001b[0;32mexcept\u001b[0m \u001b[0mKeyError\u001b[0m \u001b[0;32mas\u001b[0m \u001b[0merr\u001b[0m\u001b[0;34m:\u001b[0m\u001b[0;34m\u001b[0m\u001b[0;34m\u001b[0m\u001b[0m\n\u001b[0;32m-> 3623\u001b[0;31m                 \u001b[0;32mraise\u001b[0m \u001b[0mKeyError\u001b[0m\u001b[0;34m(\u001b[0m\u001b[0mkey\u001b[0m\u001b[0;34m)\u001b[0m \u001b[0;32mfrom\u001b[0m \u001b[0merr\u001b[0m\u001b[0;34m\u001b[0m\u001b[0;34m\u001b[0m\u001b[0m\n\u001b[0m\u001b[1;32m   3624\u001b[0m             \u001b[0;32mexcept\u001b[0m \u001b[0mTypeError\u001b[0m\u001b[0;34m:\u001b[0m\u001b[0;34m\u001b[0m\u001b[0;34m\u001b[0m\u001b[0m\n\u001b[1;32m   3625\u001b[0m                 \u001b[0;31m# If we have a listlike key, _check_indexing_error will raise\u001b[0m\u001b[0;34m\u001b[0m\u001b[0;34m\u001b[0m\u001b[0;34m\u001b[0m\u001b[0m\n",
      "\u001b[0;31mKeyError\u001b[0m: 'UniqueCarrier'"
     ]
    }
   ],
   "source": [
    "df_pie = df.groupby('UniqueCarrier')\n",
    "\n",
    "print(df_pie.size())\n",
    "# df_pie.mean().head()\n",
    "df_pie.mean()['UniqueCarrier'].head()"
   ]
  },
  {
   "cell_type": "code",
   "execution_count": 8,
   "id": "ae7e1528",
   "metadata": {},
   "outputs": [
    {
     "data": {
      "image/png": "[encoded data removed]",
      "text/plain": [
       "<Figure size 432x288 with 1 Axes>"
      ]
     },
     "metadata": {},
     "output_type": "display_data"
    }
   ],
   "source": [
    "\n",
    "#define Seaborn color palette to use\n",
    "colors = sns.color_palette('pastel')[0:5]\n",
    "\n",
    "#create pie chart\n",
    "plt.pie(\n",
    "    df.groupby('UniqueCarrier').size(),\n",
    "    labels=    df.groupby('UniqueCarrier').size(),\n",
    "    colors=colors)\n",
    "plt.show()\n"
   ]
  },
  {
   "cell_type": "code",
   "execution_count": 15,
   "id": "0f54db6d",
   "metadata": {},
   "outputs": [
    {
     "data": {
      "text/html": [
       "<div>\n",
       "<style scoped>\n",
       "    .dataframe tbody tr th:only-of-type {\n",
       "        vertical-align: middle;\n",
       "    }\n",
       "\n",
       "    .dataframe tbody tr th {\n",
       "        vertical-align: top;\n",
       "    }\n",
       "\n",
       "    .dataframe thead th {\n",
       "        text-align: right;\n",
       "    }\n",
       "</style>\n",
       "<table border=\"1\" class=\"dataframe\">\n",
       "  <thead>\n",
       "    <tr style=\"text-align: right;\">\n",
       "      <th></th>\n",
       "      <th>UniqueCarrier</th>\n",
       "      <th>size</th>\n",
       "    </tr>\n",
       "  </thead>\n",
       "  <tbody>\n",
       "    <tr>\n",
       "      <th>0</th>\n",
       "      <td>WN</td>\n",
       "      <td>377602</td>\n",
       "    </tr>\n",
       "    <tr>\n",
       "      <th>1</th>\n",
       "      <td>XE</td>\n",
       "      <td>103663</td>\n",
       "    </tr>\n",
       "    <tr>\n",
       "      <th>2</th>\n",
       "      <td>YV</td>\n",
       "      <td>67063</td>\n",
       "    </tr>\n",
       "    <tr>\n",
       "      <th>3</th>\n",
       "      <td>OH</td>\n",
       "      <td>52657</td>\n",
       "    </tr>\n",
       "    <tr>\n",
       "      <th>4</th>\n",
       "      <td>OO</td>\n",
       "      <td>132433</td>\n",
       "    </tr>\n",
       "  </tbody>\n",
       "</table>\n",
       "</div>"
      ],
      "text/plain": [
       "  UniqueCarrier    size\n",
       "0            WN  377602\n",
       "1            XE  103663\n",
       "2            YV   67063\n",
       "3            OH   52657\n",
       "4            OO  132433"
      ]
     },
     "execution_count": 15,
     "metadata": {},
     "output_type": "execute_result"
    }
   ],
   "source": [
    "pie_df = df.groupby('UniqueCarrier', as_index=False, sort=False)['ArrDelay'].size()\n",
    "pie_df.head()"
   ]
  },
  {
   "cell_type": "code",
   "execution_count": 23,
   "id": "96f36e5e",
   "metadata": {},
   "outputs": [
    {
     "ename": "AttributeError",
     "evalue": "module 'utils' has no attribute 'mapper'",
     "output_type": "error",
     "traceback": [
      "\u001b[0;31m---------------------------------------------------------------------------\u001b[0m",
      "\u001b[0;31mAttributeError\u001b[0m                            Traceback (most recent call last)",
      "\u001b[0;32m/tmp/ipykernel_9418/3979291970.py\u001b[0m in \u001b[0;36m<module>\u001b[0;34m\u001b[0m\n\u001b[1;32m      1\u001b[0m \u001b[0;31m# add explicit Carrier name\u001b[0m\u001b[0;34m\u001b[0m\u001b[0;34m\u001b[0m\u001b[0;34m\u001b[0m\u001b[0m\n\u001b[0;32m----> 2\u001b[0;31m pie_df['CarrierName'] = pie_df.apply(\n\u001b[0m\u001b[1;32m      3\u001b[0m     lambda row : utils.mapper.find_carrier_name(\n\u001b[1;32m      4\u001b[0m         row['UniqueCarrier']))\n\u001b[1;32m      5\u001b[0m \u001b[0;34m\u001b[0m\u001b[0m\n",
      "\u001b[0;32m~/workspace/python/ciencia_dades_python/CDP_all_lessons_code/venv_ML/lib/python3.9/site-packages/pandas/core/frame.py\u001b[0m in \u001b[0;36mapply\u001b[0;34m(self, func, axis, raw, result_type, args, **kwargs)\u001b[0m\n\u001b[1;32m   8825\u001b[0m             \u001b[0mkwargs\u001b[0m\u001b[0;34m=\u001b[0m\u001b[0mkwargs\u001b[0m\u001b[0;34m,\u001b[0m\u001b[0;34m\u001b[0m\u001b[0;34m\u001b[0m\u001b[0m\n\u001b[1;32m   8826\u001b[0m         )\n\u001b[0;32m-> 8827\u001b[0;31m         \u001b[0;32mreturn\u001b[0m \u001b[0mop\u001b[0m\u001b[0;34m.\u001b[0m\u001b[0mapply\u001b[0m\u001b[0;34m(\u001b[0m\u001b[0;34m)\u001b[0m\u001b[0;34m.\u001b[0m\u001b[0m__finalize__\u001b[0m\u001b[0;34m(\u001b[0m\u001b[0mself\u001b[0m\u001b[0;34m,\u001b[0m \u001b[0mmethod\u001b[0m\u001b[0;34m=\u001b[0m\u001b[0;34m\"apply\"\u001b[0m\u001b[0;34m)\u001b[0m\u001b[0;34m\u001b[0m\u001b[0;34m\u001b[0m\u001b[0m\n\u001b[0m\u001b[1;32m   8828\u001b[0m \u001b[0;34m\u001b[0m\u001b[0m\n\u001b[1;32m   8829\u001b[0m     def applymap(\n",
      "\u001b[0;32m~/workspace/python/ciencia_dades_python/CDP_all_lessons_code/venv_ML/lib/python3.9/site-packages/pandas/core/apply.py\u001b[0m in \u001b[0;36mapply\u001b[0;34m(self)\u001b[0m\n\u001b[1;32m    725\u001b[0m             \u001b[0;32mreturn\u001b[0m \u001b[0mself\u001b[0m\u001b[0;34m.\u001b[0m\u001b[0mapply_raw\u001b[0m\u001b[0;34m(\u001b[0m\u001b[0;34m)\u001b[0m\u001b[0;34m\u001b[0m\u001b[0;34m\u001b[0m\u001b[0m\n\u001b[1;32m    726\u001b[0m \u001b[0;34m\u001b[0m\u001b[0m\n\u001b[0;32m--> 727\u001b[0;31m         \u001b[0;32mreturn\u001b[0m \u001b[0mself\u001b[0m\u001b[0;34m.\u001b[0m\u001b[0mapply_standard\u001b[0m\u001b[0;34m(\u001b[0m\u001b[0;34m)\u001b[0m\u001b[0;34m\u001b[0m\u001b[0;34m\u001b[0m\u001b[0m\n\u001b[0m\u001b[1;32m    728\u001b[0m \u001b[0;34m\u001b[0m\u001b[0m\n\u001b[1;32m    729\u001b[0m     \u001b[0;32mdef\u001b[0m \u001b[0magg\u001b[0m\u001b[0;34m(\u001b[0m\u001b[0mself\u001b[0m\u001b[0;34m)\u001b[0m\u001b[0;34m:\u001b[0m\u001b[0;34m\u001b[0m\u001b[0;34m\u001b[0m\u001b[0m\n",
      "\u001b[0;32m~/workspace/python/ciencia_dades_python/CDP_all_lessons_code/venv_ML/lib/python3.9/site-packages/pandas/core/apply.py\u001b[0m in \u001b[0;36mapply_standard\u001b[0;34m(self)\u001b[0m\n\u001b[1;32m    849\u001b[0m \u001b[0;34m\u001b[0m\u001b[0m\n\u001b[1;32m    850\u001b[0m     \u001b[0;32mdef\u001b[0m \u001b[0mapply_standard\u001b[0m\u001b[0;34m(\u001b[0m\u001b[0mself\u001b[0m\u001b[0;34m)\u001b[0m\u001b[0;34m:\u001b[0m\u001b[0;34m\u001b[0m\u001b[0;34m\u001b[0m\u001b[0m\n\u001b[0;32m--> 851\u001b[0;31m         \u001b[0mresults\u001b[0m\u001b[0;34m,\u001b[0m \u001b[0mres_index\u001b[0m \u001b[0;34m=\u001b[0m \u001b[0mself\u001b[0m\u001b[0;34m.\u001b[0m\u001b[0mapply_series_generator\u001b[0m\u001b[0;34m(\u001b[0m\u001b[0;34m)\u001b[0m\u001b[0;34m\u001b[0m\u001b[0;34m\u001b[0m\u001b[0m\n\u001b[0m\u001b[1;32m    852\u001b[0m \u001b[0;34m\u001b[0m\u001b[0m\n\u001b[1;32m    853\u001b[0m         \u001b[0;31m# wrap results\u001b[0m\u001b[0;34m\u001b[0m\u001b[0;34m\u001b[0m\u001b[0;34m\u001b[0m\u001b[0m\n",
      "\u001b[0;32m~/workspace/python/ciencia_dades_python/CDP_all_lessons_code/venv_ML/lib/python3.9/site-packages/pandas/core/apply.py\u001b[0m in \u001b[0;36mapply_series_generator\u001b[0;34m(self)\u001b[0m\n\u001b[1;32m    865\u001b[0m             \u001b[0;32mfor\u001b[0m \u001b[0mi\u001b[0m\u001b[0;34m,\u001b[0m \u001b[0mv\u001b[0m \u001b[0;32min\u001b[0m \u001b[0menumerate\u001b[0m\u001b[0;34m(\u001b[0m\u001b[0mseries_gen\u001b[0m\u001b[0;34m)\u001b[0m\u001b[0;34m:\u001b[0m\u001b[0;34m\u001b[0m\u001b[0;34m\u001b[0m\u001b[0m\n\u001b[1;32m    866\u001b[0m                 \u001b[0;31m# ignore SettingWithCopy here in case the user mutates\u001b[0m\u001b[0;34m\u001b[0m\u001b[0;34m\u001b[0m\u001b[0;34m\u001b[0m\u001b[0m\n\u001b[0;32m--> 867\u001b[0;31m                 \u001b[0mresults\u001b[0m\u001b[0;34m[\u001b[0m\u001b[0mi\u001b[0m\u001b[0;34m]\u001b[0m \u001b[0;34m=\u001b[0m \u001b[0mself\u001b[0m\u001b[0;34m.\u001b[0m\u001b[0mf\u001b[0m\u001b[0;34m(\u001b[0m\u001b[0mv\u001b[0m\u001b[0;34m)\u001b[0m\u001b[0;34m\u001b[0m\u001b[0;34m\u001b[0m\u001b[0m\n\u001b[0m\u001b[1;32m    868\u001b[0m                 \u001b[0;32mif\u001b[0m \u001b[0misinstance\u001b[0m\u001b[0;34m(\u001b[0m\u001b[0mresults\u001b[0m\u001b[0;34m[\u001b[0m\u001b[0mi\u001b[0m\u001b[0;34m]\u001b[0m\u001b[0;34m,\u001b[0m \u001b[0mABCSeries\u001b[0m\u001b[0;34m)\u001b[0m\u001b[0;34m:\u001b[0m\u001b[0;34m\u001b[0m\u001b[0;34m\u001b[0m\u001b[0m\n\u001b[1;32m    869\u001b[0m                     \u001b[0;31m# If we have a view on v, we need to make a copy because\u001b[0m\u001b[0;34m\u001b[0m\u001b[0;34m\u001b[0m\u001b[0;34m\u001b[0m\u001b[0m\n",
      "\u001b[0;32m/tmp/ipykernel_9418/3979291970.py\u001b[0m in \u001b[0;36m<lambda>\u001b[0;34m(row)\u001b[0m\n\u001b[1;32m      1\u001b[0m \u001b[0;31m# add explicit Carrier name\u001b[0m\u001b[0;34m\u001b[0m\u001b[0;34m\u001b[0m\u001b[0;34m\u001b[0m\u001b[0m\n\u001b[1;32m      2\u001b[0m pie_df['CarrierName'] = pie_df.apply(\n\u001b[0;32m----> 3\u001b[0;31m     lambda row : utils.mapper.find_carrier_name(\n\u001b[0m\u001b[1;32m      4\u001b[0m         row['UniqueCarrier']))\n\u001b[1;32m      5\u001b[0m \u001b[0;34m\u001b[0m\u001b[0m\n",
      "\u001b[0;31mAttributeError\u001b[0m: module 'utils' has no attribute 'mapper'"
     ]
    }
   ],
   "source": [
    "# add explicit Carrier name\n",
    "pie_df['CarrierName'] = pie_df.apply(\n",
    "    lambda row : utils.mapper.find_carrier_name(\n",
    "        row['UniqueCarrier']))\n",
    "\n",
    "pie_df"
   ]
  },
  {
   "cell_type": "code",
   "execution_count": 16,
   "id": "f09364ed",
   "metadata": {},
   "outputs": [
    {
     "data": {
      "image/png": "[encoded data removed]",
      "text/plain": [
       "<Figure size 432x288 with 1 Axes>"
      ]
     },
     "metadata": {},
     "output_type": "display_data"
    }
   ],
   "source": [
    "plt.pie(\n",
    "    pie_df['size'],\n",
    "    labels=pie_df['UniqueCarrier'],\n",
    "    # colors=colors\n",
    "    )\n",
    "plt.show()"
   ]
  },
  {
   "cell_type": "code",
   "execution_count": 6,
   "id": "bd9105f4",
   "metadata": {},
   "outputs": [
    {
     "data": {
      "text/plain": [
       "<AxesSubplot:xlabel='UniqueCarrier'>"
      ]
     },
     "execution_count": 6,
     "metadata": {},
     "output_type": "execute_result"
    },
    {
     "data": {
      "image/png": "[encoded data removed]",
      "text/plain": [
       "<Figure size 432x288 with 1 Axes>"
      ]
     },
     "metadata": {
      "needs_background": "light"
     },
     "output_type": "display_data"
    }
   ],
   "source": [
    "# 1. Create a view for a categorical variable (UniqueCarrier)\n",
    "# count the flight total number for each carrier\n",
    "df.groupby('UniqueCarrier').size().plot()\n",
    "# df.groupby(\n",
    "#     ['UniqueCarrier'])['UniqueCarrier'].transform('count').astype('int')\n"
   ]
  },
  {
   "cell_type": "code",
   "execution_count": 8,
   "id": "4a23e549",
   "metadata": {},
   "outputs": [
    {
     "data": {
      "text/plain": [
       "<AxesSubplot:>"
      ]
     },
     "execution_count": 8,
     "metadata": {},
     "output_type": "execute_result"
    },
    {
     "data": {
      "image/png": "[encoded data removed]",
      "text/plain": [
       "<Figure size 432x288 with 1 Axes>"
      ]
     },
     "metadata": {
      "needs_background": "light"
     },
     "output_type": "display_data"
    }
   ],
   "source": [
    "# 2. Create a view for a numeric variable (ArrDelay)\n",
    "df['ArrDelay'].hist()"
   ]
  },
  {
   "cell_type": "code",
   "execution_count": null,
   "id": "c3ec8187",
   "metadata": {},
   "outputs": [],
   "source": [
    "# 3. Create a view for Variable numeric and category (ArrDelay and UniqueCarrier)\n",
    "# ?? how mix them? "
   ]
  },
  {
   "cell_type": "code",
   "execution_count": null,
   "id": "712d86f5",
   "metadata": {},
   "outputs": [],
   "source": [
    "#    Create a view for Three variables (ArrDelay, DepDelay and UniqueCarrier)\n"
   ]
  },
  {
   "cell_type": "code",
   "execution_count": null,
   "id": "12100a1a",
   "metadata": {},
   "outputs": [],
   "source": [
    "#    Create a view for Variable numeric and category (ArrDelay and UniqueCarrier)\n"
   ]
  },
  {
   "cell_type": "code",
   "execution_count": null,
   "id": "0d278717",
   "metadata": {},
   "outputs": [],
   "source": [
    "#    Create a view for Two numeric variables (ArrDelay and DepDelay)\n"
   ]
  },
  {
   "cell_type": "code",
   "execution_count": null,
   "id": "be661676",
   "metadata": {},
   "outputs": [],
   "source": [
    "#    Create a view for Three variables (ArrDelay, DepDelay and UniqueCarrier)\n"
   ]
  },
  {
   "cell_type": "code",
   "execution_count": null,
   "id": "9634dec4",
   "metadata": {},
   "outputs": [],
   "source": [
    "#    Create a view for Three variables (ArrDelay, DepDelay and UniqueCarrier)\n"
   ]
  },
  {
   "cell_type": "code",
   "execution_count": 9,
   "id": "0876df96",
   "metadata": {},
   "outputs": [
    {
     "data": {
      "text/plain": [
       "array([[<AxesSubplot:title={'center':'9E'}>,\n",
       "        <AxesSubplot:title={'center':'AA'}>,\n",
       "        <AxesSubplot:title={'center':'AQ'}>,\n",
       "        <AxesSubplot:title={'center':'AS'}>],\n",
       "       [<AxesSubplot:title={'center':'B6'}>,\n",
       "        <AxesSubplot:title={'center':'CO'}>,\n",
       "        <AxesSubplot:title={'center':'DL'}>,\n",
       "        <AxesSubplot:title={'center':'EV'}>],\n",
       "       [<AxesSubplot:title={'center':'F9'}>,\n",
       "        <AxesSubplot:title={'center':'FL'}>,\n",
       "        <AxesSubplot:title={'center':'HA'}>,\n",
       "        <AxesSubplot:title={'center':'MQ'}>],\n",
       "       [<AxesSubplot:title={'center':'NW'}>,\n",
       "        <AxesSubplot:title={'center':'OH'}>,\n",
       "        <AxesSubplot:title={'center':'OO'}>,\n",
       "        <AxesSubplot:title={'center':'UA'}>],\n",
       "       [<AxesSubplot:title={'center':'US'}>,\n",
       "        <AxesSubplot:title={'center':'WN'}>,\n",
       "        <AxesSubplot:title={'center':'XE'}>,\n",
       "        <AxesSubplot:title={'center':'YV'}>]], dtype=object)"
      ]
     },
     "execution_count": 9,
     "metadata": {},
     "output_type": "execute_result"
    },
    {
     "data": {
      "image/png": "[encoded data removed]",
      "text/plain": [
       "<Figure size 432x288 with 20 Axes>"
      ]
     },
     "metadata": {
      "needs_background": "light"
     },
     "output_type": "display_data"
    }
   ],
   "source": [
    "# get a serie of plot, each by a specific carrier\n",
    "df['ArrDelay'].hist(by=df['UniqueCarrier'])"
   ]
  },
  {
   "cell_type": "code",
   "execution_count": null,
   "metadata": {},
   "outputs": [],
   "source": [
    "#    Create a view for More than three variables (ArrDelay, DepDelay, AirTime and UniqueCarrier\n"
   ]
  },
  {
   "cell_type": "code",
   "execution_count": null,
   "id": "2a02efa6",
   "metadata": {},
   "outputs": [],
   "source": []
  },
  {
   "cell_type": "code",
   "execution_count": null,
   "id": "866be2eb",
   "metadata": {},
   "outputs": [],
   "source": []
  },
  {
   "cell_type": "code",
   "execution_count": null,
   "metadata": {},
   "outputs": [],
   "source": []
  },
  {
   "cell_type": "code",
   "execution_count": null,
   "id": "8361e5e1",
   "metadata": {},
   "outputs": [],
   "source": []
  },
  {
   "cell_type": "markdown",
   "id": "f9b2839a",
   "metadata": {},
   "source": [
    "##  Exercises 2\n",
    "\n",
    "Export graphics as gold or html images.\n",
    "def plot_categorical(): \n",
    "    pass\n",
    "\n"
   ]
  },
  {
   "cell_type": "markdown",
   "id": "f9b2839a",
   "metadata": {},
   "source": [
    "##  Exercises 3\n",
    "It integrates the graphical visualizations, in pocket 2, of Module 1. "
   ]
  },
  {
   "cell_type": "markdown",
   "id": "9a074a39",
   "metadata": {},
   "source": [
    "Descripció\n",
    "\n",
    "Complementing the exploration techniques of the dades mitjantçant la visualització gràfica, amb les llibreries Matplotlib i Searborn.\n",
    "Nivell 1\n",
    "- Exercici 1\n",
    "\n",
    "Resumeix gràficament el data set DelayedFlights.csv\n",
    "\n",
    "Create almenys a visualització for:\n",
    "\n",
    "     A categorical variable (UniqueCarrier)\n",
    "     A numeric variable (ArrDelay)\n",
    "     A numeric variable i a category (ArrDelay i UniqueCarrier)\n",
    "     Dues variables numèriques (ArrDelay i DepDelay)\n",
    "     Tres variables (ArrDelay, DepDelay i UniqueCarrier)\n",
    "     Més de tres variables (ArrDelay, DepDelay, AirTime i UniqueCarrier).\n",
    "\n",
    "- Exercici 2\n",
    "\n",
    "Export els gràfics com imatges or com html.\n",
    "\n",
    "- Exercici 3\n",
    "\n",
    "It integrates the visualitzacions gràfiques, in pocket 2, of Mòdul 1."
   ]
  },
  {
   "cell_type": "markdown",
   "id": "b66311ed",
   "metadata": {},
   "source": [
    "M2 T01: Visualització gràfica d'un dataset\n",
    "Descripció\n",
    "\n",
    "Complementa les tècniques d'exploració de les dades mitjantçant la visualització gràfica, amb les llibreries Matplotlib i Searborn.\n",
    "Nivell 1\n",
    "- Exercici 1\n",
    "\n",
    "Resumeix gràficament el data set DelayedFlights.csv\n",
    "\n",
    "Crea almenys una visualització per:\n",
    "\n",
    "    Una variable categòrica (UniqueCarrier)\n",
    "    Una variable numèrica (ArrDelay)\n",
    "    Una variable numèrica i una categòrica (ArrDelay i UniqueCarrier)\n",
    "    Dues variables numèriques (ArrDelay i DepDelay)\n",
    "    Tres variables (ArrDelay, DepDelay i UniqueCarrier)\n",
    "    Més de tres variables (ArrDelay, DepDelay, AirTime i UniqueCarrier).\n",
    "\n",
    "- Exercici 2\n",
    "\n",
    "Exporta els gràfics com imatges o com html.\n",
    "\n",
    "- Exercici 3\n",
    "\n",
    "Integra les visualitzacions gràfiques, en la tasca 2, del Mòdul 1."
   ]
  },
  {
   "cell_type": "markdown",
   "id": "93c69f81",
   "metadata": {},
   "source": [
    "# Exercises 1\n",
    "\n",
    "Create a function that, given an array of one dimension, gives you a basic statistical summary of the data. If it detects that the array has more than one dimension, it should display an error message."
   ]
  },
  {
   "cell_type": "code",
   "execution_count": 19,
   "id": "ranging-event",
   "metadata": {},
   "outputs": [],
   "source": [
    "def array_stat(arr: np.array, precision=5) -> Union[dict, str]:\n",
    "    if arr.size == 0 or 1 < len(arr.shape): \n",
    "        # return print(\"Array dimention error\") \n",
    "        return (\"Array dimention error\")\n",
    "    else:\n",
    "        res = {\n",
    "            'max': round(np.max(arr), precision),\n",
    "            'min': round(np.min(arr), precision),\n",
    "            'mean': round(np.mean(arr), precision),\n",
    "            'sd': round(np.std(arr), precision),\n",
    "        }        \n",
    "        return res"
   ]
  },
  {
   "cell_type": "code",
   "execution_count": 20,
   "id": "dated-housing",
   "metadata": {},
   "outputs": [],
   "source": [
    "# tests\n",
    "a0 = np.array([])\n",
    "a1 = np.array([[0, 1, 1], [1, 0, 1], [1, 1, 0]])  \n",
    "a2 = np.array([0, 1, 1])  \n",
    "a3 = np.array([0, 1, 1, 1, 5.56, 1])\n",
    "values = [a0, a1, a2, a3]\n",
    "results = [\"Array dimention error\", \"Array dimention error\", 0.66667, 1.59333]\n",
    "cases = zip(values, results)\n",
    "\n",
    "def test_array_stat(cases):\n",
    "    for val, res in cases: \n",
    "        if not isinstance(array_stat(val), str):\n",
    "            assert array_stat(val)['mean'] == res\n",
    "        \n",
    "test_array_stat(cases)"
   ]
  },
  {
   "cell_type": "code",
   "execution_count": 21,
   "id": "french-affiliate",
   "metadata": {},
   "outputs": [
    {
     "data": {
      "text/plain": [
       "{'status': 'ok', 'mean': 1.59333, 'max': 5.56, 'min': 0.0}"
      ]
     },
     "execution_count": 21,
     "metadata": {},
     "output_type": "execute_result"
    }
   ],
   "source": [
    "# other way to provide and check the result\n",
    "def array_stat_2(arr: np.array) -> dict:\n",
    "    if arr.size == 0 or 1 < len(arr.shape): \n",
    "        # return print(\"Array dimention error\") \n",
    "        return {'status': \"Array dimention error\"}\n",
    "    else:\n",
    "        res = {\n",
    "            'status': 'ok',\n",
    "            'mean': round(np.mean(arr), 5),\n",
    "            'max': round(np.max(arr), 5),\n",
    "            'min': round(np.min(arr), 5),\n",
    "        }        \n",
    "        return res\n",
    "\n",
    "\n",
    "array_stat_2(a3)\n"
   ]
  },
  {
   "cell_type": "code",
   "execution_count": 23,
   "id": "warming-curve",
   "metadata": {},
   "outputs": [],
   "source": [
    "results = [\"Array dimention error\", \"Array dimention error\", 0.66667, 1.59333]\n",
    "cases = zip(values, results)\n",
    "\n",
    "def test_array_stat_2(cases) -> None:\n",
    "    for val, res in cases: \n",
    "        # if (ouput:= res['status']) == 'ok':\n",
    "        output = array_stat_2(val)\n",
    "        if output['status'] == 'ok':\n",
    "            assert output['mean'] == res\n",
    "        else:\n",
    "            assert output['status'] == \"Array dimention error\"\n",
    "        \n",
    "test_array_stat_2(cases)"
   ]
  },
  {
   "cell_type": "markdown",
   "id": "orange-primary",
   "metadata": {},
   "source": [
    "# Exercises 2\n",
    "Create a function that generates an NxN square of random numbers between 0 and 100.\n",
    "\n"
   ]
  },
  {
   "cell_type": "code",
   "execution_count": 25,
   "id": "focused-species",
   "metadata": {},
   "outputs": [
    {
     "name": "stdout",
     "output_type": "stream",
     "text": [
      "[[53.7730826  33.63816386 47.93702566 45.4607994 ]\n",
      " [55.39256195 65.91287598 44.604051   63.49730821]\n",
      " [62.74147723 58.29479965 59.92872074 39.05076107]\n",
      " [43.54961924 54.24687951 41.39259068 48.73138649]]\n"
     ]
    }
   ],
   "source": [
    "def random_n_square(n: int = 6) -> np.array:\n",
    "    return np.random.uniform(33, 66, [n, n])\n",
    "    # return round(np.random.uniform(33.33, 66.66, [n, n]), 2)\n",
    "    # Returns a random float number up to 2 decimal places    \n",
    "\n",
    "print(random_n_square(4))\n",
    "\n",
    "def test_random_n_square():\n",
    "    for _ in range(5):\n",
    "        n = np.random.randint(1,6)\n",
    "        arr = random_n_square(n)\n",
    "        assert np.size(arr) == n**2\n",
    "\n",
    "test_random_n_square()"
   ]
  },
  {
   "cell_type": "markdown",
   "id": "egyptian-teens",
   "metadata": {},
   "source": [
    "# Exercises 3\n",
    "Create a function that given a two-dimensional table, calculates the totals per row and the totals per column."
   ]
  },
  {
   "cell_type": "code",
   "execution_count": 10,
   "id": "white-paintball",
   "metadata": {},
   "outputs": [],
   "source": [
    "def get_random_pair() -> Tuple[int, int]:\n",
    "    return np.random.randint(10), np.random.randint(10)\n",
    "     #    arr = random_n_square(n)\n",
    "\n",
    "def get_random_2D_arr(min = 0, max = 2, dim = get_random_pair()) -> np.array:\n",
    "    return np.random.randint(min, max, dim)\n",
    "\n",
    "def totals_2D(arr = get_random_2D_arr()) -> Tuple[int, int]:\n",
    "    ''' given a two-dimensional table, calculates the totals per row and the totals per column '''\n",
    "    print(arr)\n",
    "    return np.sum(arr, axis = 1), np.sum(arr, axis = 0)\n",
    "\n",
    "def test_totals_2D():\n",
    "    A = np.array([\n",
    "        [1, 0, 0, 1, 1, 0, 1, 1],\n",
    "        [0, 0, 0, 0, 0, 0, 0, 1],\n",
    "        [1, 1, 1, 0, 1, 0, 0, 0],\n",
    "        [0, 1, 0, 1, 1, 0, 1, 1],\n",
    "        [0, 1, 0, 1, 1, 1, 1, 1],\n",
    "        [0, 1, 0, 1, 0, 1, 0, 0]])\n",
    "    assert totals_2D(A) == (np.array([5, 1, 4, 5, 6, 3]), np.array([2, 4, 1, 4, 4, 2, 3, 4]))"
   ]
  },
  {
   "cell_type": "markdown",
   "id": "special-segment",
   "metadata": {},
   "source": [
    "# Exercises 4\n",
    "\n",
    "Manually implements a function that calculates the correlation coefficient. Learn about its uses and interpretation.\n",
    "\n",
    "[boston](https://sphweb.bumc.bu.edu/otlt/MPH-Modules/PH717-QuantCore/PH717-Module9-Correlation-Regression/PH717-Module9-Correlation-Regression4.html)\n",
    "\n",
    "[realpython](https://realpython.com/numpy-scipy-pandas-correlation-python/)\n",
    "\n",
    "\n",
    "    \n"
   ]
  },
  {
   "cell_type": "code",
   "execution_count": 37,
   "id": "scenic-thomson",
   "metadata": {},
   "outputs": [
    {
     "name": "stdout",
     "output_type": "stream",
     "text": [
      "correlation :  0.99838143945703\n",
      " test:  0.9983814394570298\n"
     ]
    },
    {
     "data": {
      "text/plain": [
       "0.99838143945703"
      ]
     },
     "execution_count": 37,
     "metadata": {},
     "output_type": "execute_result"
    }
   ],
   "source": [
    "def calc_cov(X,Y):\n",
    "     ''' return the covariance, i.e., how far each observed (X,Y) pair is from \n",
    "         the mean of X and the mean of Y, simultaneously, and and sx2 and sy2 are the sample variances for X and Y.'''\n",
    "\n",
    "\n",
    "def calc_correlation(arr_1, arr_2):\n",
    "     ''' return the correlation coefficient '''\n",
    "     n = np.size(arr_1)\n",
    "     if (len(np.shape(arr_1)) > 1 or len(np.shape(arr_2)) > 1 or \n",
    "         np.size(arr_1) != np.size(arr_2)):\n",
    "         return False\n",
    "     else:\n",
    "          num = n*np.sum(np.multiply(arr_1, arr_2)) - np.sum(arr_1)*np.sum(arr_2)\n",
    "          denom = np.sqrt((n*np.sum(np.square(arr_1)) - np.sum(arr_1)**2 ) *  \n",
    "                          (n*np.sum(np.square(arr_2)) - np.sum(arr_2)**2 ))\n",
    "\n",
    "          correlation = num / denom\n",
    "          print(\"correlation : \", correlation)\n",
    "          print(\" test: \", np.corrcoef(arr_1, arr_2)[0][1])\n",
    "          return correlation   \n",
    "          # np.shape(arr_1)) > 1 or len(np.shape(arr_2)\n",
    "\n",
    "a = np.array( [1,2,3,4,5,6])  #[0, 1, 2, 2])\n",
    "b = np.array( [2,4,7,9,12,14])  #[1, 4, 2, 7])\n",
    "\n",
    "calc_correlation(a,b)\n",
    "\n"
   ]
  },
  {
   "cell_type": "code",
   "execution_count": null,
   "id": "e2f69895",
   "metadata": {},
   "outputs": [],
   "source": [
    "\n",
    "          \n",
    "# def test_calc_correlation_2D():\n",
    "#      ''' return the correlation coefficient '''\n",
    "#      A = get_random_2D_arr()\n",
    "#      B = get_random_2D_arr(dim=np.shape(A))\n",
    "#      print(np.corrcoef(A,B))\n",
    "#      return True\n",
    "\n",
    "\n",
    "# def test_calc_correlation():\n",
    "#      ''' return the correlation coefficient '''\n",
    "     \n",
    "#      # case complementay matrix\n",
    "\n",
    "#      c_00 = np.array([0, 0, 1, 1, 1, 1,])\n",
    "#      c_01 = np.array([1, 1, 0, 0, 0, 0,]) \n",
    "#      correl_0 = np.corrcoef(c_00, c_01) # TODO switch to custom func \n",
    "#      print(correl_0)\n",
    "#      assert correl_0[0][0] == 1\n",
    "#      assert correl_0[0][1] == -1\n",
    "\n",
    "#      c_10 = np.array([0, 0, 1, 1, 1, 1,])\n",
    "#      c_11 = np.array([1, 1, 1, 1, 1, 1,]) \n",
    "#      correl_1 = np.corrcoef(c_10, c_11)\n",
    "#      print(correl_1)\n",
    "#      # assert correl_1[0][0] == 1\n",
    "#      # assert correl_1[0][1] == -1\n",
    "\n",
    "\n",
    "#      # A = np.random.randint(2, size=6)\n",
    "#      # B = np.random.randint(2, size=6)\n",
    "#      # np.random.randint(0, 9, 4)   \n",
    "#      # print(A, B)\n",
    "#      # print(np.corrcoef(A,B))\n",
    "#      # correl_0 = np.corrcoef(A,B) # TODO switch to custom func \n",
    "#      # # print(np.corrcoef(A,A,rowvar=0))\n",
    "#      # assert correl_0[0][0] == 1\n",
    "\n",
    "\n",
    "test_calc_correlation()"
   ]
  },
  {
   "cell_type": "code",
   "execution_count": null,
   "metadata": {},
   "outputs": [],
   "source": []
  },
  {
   "cell_type": "code",
   "execution_count": null,
   "metadata": {},
   "outputs": [],
   "source": []
  },
  {
   "cell_type": "code",
   "execution_count": null,
   "metadata": {},
   "outputs": [],
   "source": []
  }
 ],
 "metadata": {
  "kernelspec": {
   "display_name": "Python 3",
   "language": "python",
   "name": "python3"
  },
  "language_info": {
   "codemirror_mode": {
    "name": "ipython",
    "version": 3
   },
   "file_extension": ".py",
   "mimetype": "text/x-python",
   "name": "python",
   "nbconvert_exporter": "python",
   "pygments_lexer": "ipython3",
   "version": "3.9.5"
  }
 },
 "nbformat": 4,
 "nbformat_minor": 5
}
