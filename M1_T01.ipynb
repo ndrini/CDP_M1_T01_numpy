{
 "cells": [
  {
   "cell_type": "code",
   "execution_count": 5,
   "id": "systematic-theory",
   "metadata": {},
   "outputs": [],
   "source": [
    "import numpy as np\n",
    "from  typing import Union, Tuple"
   ]
  },
  {
   "cell_type": "markdown",
   "id": "93c69f81",
   "metadata": {},
   "source": [
    "# Exercises 1\n",
    "\n",
    "Create a function that, given an array of one dimension, gives you a basic statistical summary of the data. If it detects that the array has more than one dimension, it should display an error message."
   ]
  },
  {
   "cell_type": "code",
   "execution_count": 19,
   "id": "ranging-event",
   "metadata": {},
   "outputs": [],
   "source": [
    "def array_stat(arr: np.array, precision=5) -> Union[dict, str]:\n",
    "    if arr.size == 0 or 1 < len(arr.shape): \n",
    "        # return print(\"Array dimention error\") \n",
    "        return (\"Array dimention error\")\n",
    "    else:\n",
    "        res = {\n",
    "            'max': round(np.max(arr), precision),\n",
    "            'min': round(np.min(arr), precision),\n",
    "            'mean': round(np.mean(arr), precision),\n",
    "            'sd': round(np.std(arr), precision),\n",
    "        }        \n",
    "        return res"
   ]
  },
  {
   "cell_type": "code",
   "execution_count": 20,
   "id": "dated-housing",
   "metadata": {},
   "outputs": [],
   "source": [
    "# tests\n",
    "a0 = np.array([])\n",
    "a1 = np.array([[0, 1, 1], [1, 0, 1], [1, 1, 0]])  \n",
    "a2 = np.array([0, 1, 1])  \n",
    "a3 = np.array([0, 1, 1, 1, 5.56, 1])\n",
    "values = [a0, a1, a2, a3]\n",
    "results = [\"Array dimention error\", \"Array dimention error\", 0.66667, 1.59333]\n",
    "cases = zip(values, results)\n",
    "\n",
    "def test_array_stat(cases):\n",
    "    for val, res in cases: \n",
    "        if not isinstance(array_stat(val), str):\n",
    "            assert array_stat(val)['mean'] == res\n",
    "        \n",
    "test_array_stat(cases)"
   ]
  },
  {
   "cell_type": "code",
   "execution_count": 21,
   "id": "french-affiliate",
   "metadata": {},
   "outputs": [
    {
     "data": {
      "text/plain": [
       "{'status': 'ok', 'mean': 1.59333, 'max': 5.56, 'min': 0.0}"
      ]
     },
     "execution_count": 21,
     "metadata": {},
     "output_type": "execute_result"
    }
   ],
   "source": [
    "# other way to provide and check the result\n",
    "def array_stat_2(arr: np.array) -> dict:\n",
    "    if arr.size == 0 or 1 < len(arr.shape): \n",
    "        # return print(\"Array dimention error\") \n",
    "        return {'status': \"Array dimention error\"}\n",
    "    else:\n",
    "        res = {\n",
    "            'status': 'ok',\n",
    "            'mean': round(np.mean(arr), 5),\n",
    "            'max': round(np.max(arr), 5),\n",
    "            'min': round(np.min(arr), 5),\n",
    "        }        \n",
    "        return res\n",
    "\n",
    "\n",
    "array_stat_2(a3)\n"
   ]
  },
  {
   "cell_type": "code",
   "execution_count": 23,
   "id": "warming-curve",
   "metadata": {},
   "outputs": [],
   "source": [
    "results = [\"Array dimention error\", \"Array dimention error\", 0.66667, 1.59333]\n",
    "cases = zip(values, results)\n",
    "\n",
    "def test_array_stat_2(cases) -> None:\n",
    "    for val, res in cases: \n",
    "        # if (ouput:= res['status']) == 'ok':\n",
    "        output = array_stat_2(val)\n",
    "        if output['status'] == 'ok':\n",
    "            assert output['mean'] == res\n",
    "        else:\n",
    "            assert output['status'] == \"Array dimention error\"\n",
    "        \n",
    "test_array_stat_2(cases)"
   ]
  },
  {
   "cell_type": "markdown",
   "id": "orange-primary",
   "metadata": {},
   "source": [
    "# Exercises 2\n",
    "Create a function that generates an NxN square of random numbers between 0 and 100.\n",
    "\n"
   ]
  },
  {
   "cell_type": "code",
   "execution_count": 25,
   "id": "focused-species",
   "metadata": {},
   "outputs": [
    {
     "name": "stdout",
     "output_type": "stream",
     "text": [
      "[[53.7730826  33.63816386 47.93702566 45.4607994 ]\n",
      " [55.39256195 65.91287598 44.604051   63.49730821]\n",
      " [62.74147723 58.29479965 59.92872074 39.05076107]\n",
      " [43.54961924 54.24687951 41.39259068 48.73138649]]\n"
     ]
    }
   ],
   "source": [
    "def random_n_square(n: int = 6) -> np.array:\n",
    "    return np.random.uniform(33, 66, [n, n])\n",
    "    # return round(np.random.uniform(33.33, 66.66, [n, n]), 2)\n",
    "    # Returns a random float number up to 2 decimal places    \n",
    "\n",
    "print(random_n_square(4))\n",
    "\n",
    "def test_random_n_square():\n",
    "    for _ in range(5):\n",
    "        n = np.random.randint(1,6)\n",
    "        arr = random_n_square(n)\n",
    "        assert np.size(arr) == n**2\n",
    "\n",
    "test_random_n_square()"
   ]
  },
  {
   "cell_type": "markdown",
   "id": "egyptian-teens",
   "metadata": {},
   "source": [
    "# Exercises 3\n",
    "Create a function that given a two-dimensional table, calculates the totals per row and the totals per column."
   ]
  },
  {
   "cell_type": "code",
   "execution_count": 10,
   "id": "white-paintball",
   "metadata": {},
   "outputs": [],
   "source": [
    "def get_random_pair() -> Tuple[int, int]:\n",
    "    return np.random.randint(10), np.random.randint(10)\n",
    "     #    arr = random_n_square(n)\n",
    "\n",
    "def get_random_2D_arr(min = 0, max = 2, dim = get_random_pair()) -> np.array:\n",
    "    return np.random.randint(min, max, dim)\n",
    "\n",
    "def totals_2D(arr = get_random_2D_arr()) -> Tuple[int, int]:\n",
    "    ''' given a two-dimensional table, calculates the totals per row and the totals per column '''\n",
    "    print(arr)\n",
    "    return np.sum(arr, axis = 1), np.sum(arr, axis = 0)\n",
    "\n",
    "def test_totals_2D():\n",
    "    A = np.array([\n",
    "        [1, 0, 0, 1, 1, 0, 1, 1],\n",
    "        [0, 0, 0, 0, 0, 0, 0, 1],\n",
    "        [1, 1, 1, 0, 1, 0, 0, 0],\n",
    "        [0, 1, 0, 1, 1, 0, 1, 1],\n",
    "        [0, 1, 0, 1, 1, 1, 1, 1],\n",
    "        [0, 1, 0, 1, 0, 1, 0, 0]])\n",
    "    assert totals_2D(A) == (np.array([5, 1, 4, 5, 6, 3]), np.array([2, 4, 1, 4, 4, 2, 3, 4]))"
   ]
  },
  {
   "cell_type": "markdown",
   "id": "special-segment",
   "metadata": {},
   "source": [
    "# Exercises 4\n",
    "\n",
    "Manually implements a function that calculates the correlation coefficient. Learn about its uses and interpretation.\n",
    "\n",
    "[boston](https://sphweb.bumc.bu.edu/otlt/MPH-Modules/PH717-QuantCore/PH717-Module9-Correlation-Regression/PH717-Module9-Correlation-Regression4.html)\n",
    "\n",
    "[realpython](https://realpython.com/numpy-scipy-pandas-correlation-python/)\n",
    "\n",
    "\n",
    "    \n"
   ]
  },
  {
   "cell_type": "code",
   "execution_count": 31,
   "id": "scenic-thomson",
   "metadata": {},
   "outputs": [
    {
     "name": "stdout",
     "output_type": "stream",
     "text": [
      "[-2.30283093 -1.77646958 -1.77646958 -0.46056619]\n",
      "0.592156525463792\n",
      "[[ 1. -1.]\n",
      " [-1.  1.]]\n",
      "[[ 1. nan]\n",
      " [nan nan]]\n"
     ]
    }
   ],
   "source": [
    "def calc_cov(X,Y):\n",
    "     ''' return the covariance, i.e., how far each observed (X,Y) pair is from \n",
    "         the mean of X and the mean of Y, simultaneously, and and sx2 and sy2 are the sample variances for X and Y.'''\n",
    "\n",
    "\n",
    "def calc_correlation(arr_1, arr_2):\n",
    "     ''' return the correlation coefficient '''\n",
    "     n = np.size(arr_1)\n",
    "     if (len(np.shape(arr_1)) > 1 or len(np.shape(arr_2)) > 1 or \n",
    "         np.size(arr_1) != np.size(arr_2)):\n",
    "         return False\n",
    "     else:\n",
    "          num = n*np.multiply(arr_1, arr_2) - np.sum(arr_1)*np.sum(arr_2)\n",
    "          denom = np.sqrt((n*np.sum(np.square(arr_1)) - np.sum(arr_1)**2 ) *  \n",
    "                          (n*np.sum(np.square(arr_2)) - np.sum(arr_2)**2 ))\n",
    "\n",
    "          correlation = num / denom\n",
    "          print(correlation)\n",
    "          print(np.corrcoef(arr_1, arr_2)[0][1])\n",
    "          return correlation   \n",
    "          # np.shape(arr_1)) > 1 or len(np.shape(arr_2)\n",
    "\n",
    "a = np.array( [1,2,3,4,5,6]               )  #[0, 1, 2, 2])\n",
    "b = np.array( [2,4,7,9,12,14]       )  #[1, 4, 2, 7])\n",
    "\n",
    "calc_correlation(a,b)\n",
    "\n",
    "\n",
    "          \n",
    "# def test_calc_correlation_2D():\n",
    "#      ''' return the correlation coefficient '''\n",
    "#      A = get_random_2D_arr()\n",
    "#      B = get_random_2D_arr(dim=np.shape(A))\n",
    "#      print(np.corrcoef(A,B))\n",
    "#      return True\n",
    "\n",
    "\n",
    "# def test_calc_correlation():\n",
    "#      ''' return the correlation coefficient '''\n",
    "     \n",
    "#      # case complementay matrix\n",
    "\n",
    "#      c_00 = np.array([0, 0, 1, 1, 1, 1,])\n",
    "#      c_01 = np.array([1, 1, 0, 0, 0, 0,]) \n",
    "#      correl_0 = np.corrcoef(c_00, c_01) # TODO switch to custom func \n",
    "#      print(correl_0)\n",
    "#      assert correl_0[0][0] == 1\n",
    "#      assert correl_0[0][1] == -1\n",
    "\n",
    "#      c_10 = np.array([0, 0, 1, 1, 1, 1,])\n",
    "#      c_11 = np.array([1, 1, 1, 1, 1, 1,]) \n",
    "#      correl_1 = np.corrcoef(c_10, c_11)\n",
    "#      print(correl_1)\n",
    "#      # assert correl_1[0][0] == 1\n",
    "#      # assert correl_1[0][1] == -1\n",
    "\n",
    "\n",
    "#      # A = np.random.randint(2, size=6)\n",
    "#      # B = np.random.randint(2, size=6)\n",
    "#      # np.random.randint(0, 9, 4)   \n",
    "#      # print(A, B)\n",
    "#      # print(np.corrcoef(A,B))\n",
    "#      # correl_0 = np.corrcoef(A,B) # TODO switch to custom func \n",
    "#      # # print(np.corrcoef(A,A,rowvar=0))\n",
    "#      # assert correl_0[0][0] == 1\n",
    "\n",
    "\n",
    "test_calc_correlation()"
   ]
  },
  {
   "cell_type": "code",
   "execution_count": null,
   "id": "e2f69895",
   "metadata": {},
   "outputs": [],
   "source": []
  },
  {
   "cell_type": "code",
   "execution_count": null,
   "metadata": {},
   "outputs": [],
   "source": []
  },
  {
   "cell_type": "code",
   "execution_count": null,
   "metadata": {},
   "outputs": [],
   "source": []
  },
  {
   "cell_type": "code",
   "execution_count": null,
   "metadata": {},
   "outputs": [],
   "source": []
  }
 ],
 "metadata": {
  "kernelspec": {
   "display_name": "Python 3",
   "language": "python",
   "name": "python3"
  },
  "language_info": {
   "codemirror_mode": {
    "name": "ipython",
    "version": 3
   },
   "file_extension": ".py",
   "mimetype": "text/x-python",
   "name": "python",
   "nbconvert_exporter": "python",
   "pygments_lexer": "ipython3",
   "version": "3.8.10"
  }
 },
 "nbformat": 4,
 "nbformat_minor": 5
}
