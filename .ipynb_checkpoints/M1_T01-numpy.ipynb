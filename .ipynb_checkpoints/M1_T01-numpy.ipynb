{
 "cells": [
  {
   "cell_type": "code",
   "execution_count": 103,
   "id": "systematic-theory",
   "metadata": {},
   "outputs": [],
   "source": [
    "import numpy as np\n",
    "import pytest"
   ]
  },
  {
   "cell_type": "code",
   "execution_count": 104,
   "id": "ranging-event",
   "metadata": {},
   "outputs": [
    {
     "data": {
      "text/plain": [
       "{'mean': 1.59333, 'max': 5.56, 'min': 0.0}"
      ]
     },
     "execution_count": 104,
     "metadata": {},
     "output_type": "execute_result"
    }
   ],
   "source": [
    "# Exercises 1\n",
    "\n",
    "from  typing import Union, Tuple\n",
    "# Create a function that, given an array of one dimension,\n",
    "# gives you a basic statistical summary of the data. If it \n",
    "# detects that the array has more than one dimension, it \n",
    "# should display an error message.\n",
    "\n",
    "def array_stat(arr: np.array) -> Union[dict, str]:\n",
    "    if arr.size == 0 or 1 < len(arr.shape): \n",
    "        # return print(\"Array dimention error\") \n",
    "        return (\"Array dimention error\")\n",
    "    else:\n",
    "        res = {\n",
    "            'mean': round(np.mean(arr), 5),\n",
    "            'max': round(np.max(arr), 5),\n",
    "            'min': round(np.min(arr), 5),\n",
    "        }        \n",
    "        return res\n",
    "\n",
    "\n",
    "array_stat(a3)"
   ]
  },
  {
   "cell_type": "code",
   "execution_count": 105,
   "id": "dated-housing",
   "metadata": {},
   "outputs": [],
   "source": [
    "# tests\n",
    "a0 = np.array([])\n",
    "a1 = np.array([[0, 1, 1], [1, 0, 1], [1, 1, 0]])  \n",
    "a2 = np.array([0, 1, 1])  \n",
    "a3 = np.array([0, 1, 1, 1, 5.56, 1])\n",
    "values = [a0, a1, a2, a3]\n",
    "results = [\"Array dimention error\", \"Array dimention error\", 0.66667, 1.59333]\n",
    "cases = zip(values, results)\n",
    "\n",
    "def test_array_stat(cases):\n",
    "    for val, res in cases: \n",
    "        if not isinstance(array_stat(val), str):\n",
    "            assert array_stat(val)['mean'] == res\n",
    "        \n",
    "test_array_stat(cases)"
   ]
  },
  {
   "cell_type": "code",
   "execution_count": 106,
   "id": "french-affiliate",
   "metadata": {},
   "outputs": [
    {
     "data": {
      "text/plain": [
       "{'status': 'ok', 'mean': 1.59333, 'max': 5.56, 'min': 0.0}"
      ]
     },
     "execution_count": 106,
     "metadata": {},
     "output_type": "execute_result"
    }
   ],
   "source": [
    "# other way to provide and check the result\n",
    "def array_stat_2(arr: np.array) -> dict:\n",
    "    if arr.size == 0 or 1 < len(arr.shape): \n",
    "        # return print(\"Array dimention error\") \n",
    "        return {'status': \"Array dimention error\"}\n",
    "    else:\n",
    "        res = {\n",
    "            'status': 'ok',\n",
    "            'mean': round(np.mean(arr), 5),\n",
    "            'max': round(np.max(arr), 5),\n",
    "            'min': round(np.min(arr), 5),\n",
    "        }        \n",
    "        return res\n",
    "\n",
    "\n",
    "array_stat_2(a3)\n"
   ]
  },
  {
   "cell_type": "code",
   "execution_count": 107,
   "id": "warming-curve",
   "metadata": {},
   "outputs": [],
   "source": [
    "results = [\"Array dimention error\", \"Array dimention error\", 0.66667, 1.59333]\n",
    "cases = zip(values, results)\n",
    "\n",
    "def test_array_stat_2(cases):\n",
    "    for val, res in cases: \n",
    "        # if (ouput:= res['status']) == 'ok':\n",
    "        output = array_stat_2(val)\n",
    "        if output['status'] == 'ok':\n",
    "            assert output['mean'] == res\n",
    "        else:\n",
    "            assert output['status'] == \"Array dimention error\"\n",
    "        \n",
    "test_array_stat_2(cases)"
   ]
  },
  {
   "cell_type": "markdown",
   "id": "orange-primary",
   "metadata": {},
   "source": [
    "### Exercises 2\n",
    "Create a function that generates an NxN square of random numbers between 0 and 100.\n",
    "\n"
   ]
  },
  {
   "cell_type": "code",
   "execution_count": 127,
   "id": "focused-species",
   "metadata": {},
   "outputs": [
    {
     "name": "stdout",
     "output_type": "stream",
     "text": [
      "[[38.13626351 44.80526296 49.7207901  33.72228294]\n",
      " [65.74671823 58.71582603 46.75819609 49.40745914]\n",
      " [65.22393626 65.72357685 62.58486766 51.15707167]\n",
      " [44.56327936 61.62704017 46.2366861  49.90935233]]\n"
     ]
    }
   ],
   "source": [
    "def random_n_square(n: int = 6) -> np.array:\n",
    "    return np.random.uniform(33, 66, [n, n])\n",
    "    # return round(np.random.uniform(33.33, 66.66, [n, n]), 2)\n",
    "    # Returns a random float number up to 2 decimal places    \n",
    "\n",
    "print(random_n_square(4))\n",
    "\n",
    "def test_random_n_square():\n",
    "    for _ in range(5):\n",
    "        n = np.random.randint(1,6)\n",
    "        arr = random_n_square(n)\n",
    "        assert np.size(arr) == n**2\n",
    "\n",
    "test_random_n_square()"
   ]
  },
  {
   "cell_type": "markdown",
   "id": "egyptian-teens",
   "metadata": {},
   "source": [
    "### Exercises 3\n",
    "Create a function that given a two-dimensional table, calculates the totals per row and the totals per column."
   ]
  },
  {
   "cell_type": "code",
   "execution_count": 133,
   "id": "white-paintball",
   "metadata": {},
   "outputs": [
    {
     "name": "stdout",
     "output_type": "stream",
     "text": [
      "[[1 0 1 1 0 1 1 1]\n",
      " [1 0 0 1 1 0 1 0]\n",
      " [0 0 1 1 1 0 0 1]\n",
      " [1 0 1 0 1 0 0 0]\n",
      " [1 1 0 1 1 0 1 1]\n",
      " [0 1 0 1 0 1 1 1]]\n",
      "(array([6, 4, 4, 3, 6, 5]), array([4, 2, 3, 5, 4, 2, 4, 4]))\n"
     ]
    }
   ],
   "source": [
    "def random_couple() -> Tuple[int, int]:\n",
    "    return (6,8)\n",
    "     #        n = np.random.randint(1,6)\n",
    "     #    arr = random_n_square(n)\n",
    "\n",
    "def totals_2D(n):\n",
    "    ''' given a two-dimensional table, calculates the totals per row and the totals per column '''\n",
    "    ax_0, ax_1 = random_couple()\n",
    "    arr = np.random.randint(0, 2, [ax_0, ax_1])\n",
    "    print(arr)\n",
    "    return np.sum(arr, axis = 1), np.sum(arr, axis = 0)\n",
    "    \n",
    "print(totals_2D(5))"
   ]
  },
  {
   "cell_type": "markdown",
   "id": "special-segment",
   "metadata": {},
   "source": [
    "### Exercises 4\n",
    "\n",
    "Manually implements a function that calculates the correlation coefficient. Learn about its uses and interpretation.\n",
    "\n",
    "[boston](https://sphweb.bumc.bu.edu/otlt/MPH-Modules/PH717-QuantCore/PH717-Module9-Correlation-Regression/PH717-Module9-Correlation-Regression4.html)\n",
    "\n",
    "\n",
    "    \n"
   ]
  },
  {
   "cell_type": "code",
   "execution_count": null,
   "id": "scenic-thomson",
   "metadata": {},
   "outputs": [],
   "source": [
    "def Cov(X,Y) is the covariance, i.e., how far each observed (X,Y) pair is from the mean of X and the mean of Y, simultaneously, and and sx2 and sy2 are the sample variances for X and Y.\n",
    "\n",
    "def calc_correlation():\n",
    "     ''' return the correlation coefficient '''\n",
    "        \n",
    "        \n",
    "        \n",
    "\n",
    "def test_calc_correlation():\n",
    "     ''' return the correlation coefficient '''\n",
    "\n",
    "        . Learn about its uses and interpretation. "
   ]
  }
 ],
 "metadata": {
  "kernelspec": {
   "display_name": "Python 3",
   "language": "python",
   "name": "python3"
  },
  "language_info": {
   "codemirror_mode": {
    "name": "ipython",
    "version": 3
   },
   "file_extension": ".py",
   "mimetype": "text/x-python",
   "name": "python",
   "nbconvert_exporter": "python",
   "pygments_lexer": "ipython3",
   "version": "3.8.10"
  }
 },
 "nbformat": 4,
 "nbformat_minor": 5
}
